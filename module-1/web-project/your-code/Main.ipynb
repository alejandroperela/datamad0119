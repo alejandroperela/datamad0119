{
 "cells": [
  {
   "cell_type": "markdown",
   "metadata": {},
   "source": [
    "# Web-Project"
   ]
  },
  {
   "cell_type": "markdown",
   "metadata": {},
   "source": [
    "## Propósito del proyecto"
   ]
  },
  {
   "cell_type": "markdown",
   "metadata": {},
   "source": [
    "El principal propósito de este proyecto es obtener una lista de citas célebres, junto con su autor y con las caractéristicas de la cita, como el tipo de cita que es. Esta información la obtendres haciedno web scraping de la web \"https://www.azquotes.com/top_quotes.html\", la cual contiene exactamente 1000 citas célebres.\n",
    "\n",
    "A partir de ahí la idea es utilizar la API de Wikipedia para obtener información respecto al autor de cada cita. Y una vez la haya conseguido, juntar ambas bases de datos para hacer una más grande y enriquecida."
   ]
  },
  {
   "cell_type": "markdown",
   "metadata": {},
   "source": [
    "## Código"
   ]
  },
  {
   "cell_type": "markdown",
   "metadata": {},
   "source": [
    "A continuación importo las librerías que vaya considerando necesarias para trabajar con la extracción de los datos."
   ]
  },
  {
   "cell_type": "code",
   "execution_count": 1,
   "metadata": {},
   "outputs": [],
   "source": [
    "import requests\n",
    "from bs4 import BeautifulSoup\n",
    "import pandas as pd\n",
    "import numpy as np\n",
    "from lxml import html\n",
    "import urllib.request\n",
    "from urllib.request import urlopen\n",
    "import re\n",
    "import wikipedia\n",
    "import itertools\n",
    "import json\n",
    "import tweepy\n",
    "from translate import Translator\n",
    "\n",
    "# from py_translator import Translator\n",
    "# from googletrans import Translator\n",
    "# from pprint import pprint\n",
    "# from lxml.html import fromstring\n",
    "# import random\n",
    "# import scrapy"
   ]
  },
  {
   "cell_type": "markdown",
   "metadata": {},
   "source": [
    "## Web scraping"
   ]
  },
  {
   "cell_type": "markdown",
   "metadata": {},
   "source": [
    "En la celda de debajo he escrito el código con el que obtengo las citas con sus respectivo autores y tags, rotando por cada una de las 10 páginas de la web a través del loop for. Una vez tengo toda la información que quiero, la junto utilizando un diccionario, y la convierto en un DataFrame de 4 columnas, incluyendo el índice, el cual he formateado para que empiece por 1, en vez de 0."
   ]
  },
  {
   "cell_type": "code",
   "execution_count": 2,
   "metadata": {},
   "outputs": [],
   "source": [
    "list_of_quotes = []\n",
    "list_of_authors = []\n",
    "list_of_tags = []\n",
    "url = 'https://www.azquotes.com/top_quotes.html?p=%s'\n",
    "\n",
    "for i in range(1, 11):\n",
    "    html = requests.get(url % i).content\n",
    "    soup = BeautifulSoup(html, 'lxml')\n",
    "\n",
    "    list_of_quotes.append([element.text.replace(\"\\n\", \"\") for element in soup.find_all('a',{'class':'title'})])\n",
    "    merged_quotes = list(itertools.chain.from_iterable(list_of_quotes))\n",
    "        \n",
    "    list_of_authors.append([element.text.replace(\"\\n\", \"\").replace(\"Xunzi\", \"Xun Kuang\").replace(\"John Lubbock\", \"John Lubbock, 1st Baron Avebury\").replace(\"Drake\", \"Drake (musician)\").replace(\"Charles Simmons\", \"Charles Simmons (author)\").replace(\"James Allen\", \"James Allen (author)\").replace(\"John Green\", \"John Green (author)\").replace(\"Unknown\", \"Unknown (mathematics)\") for element in soup.find_all('div',{'class':'author'})])\n",
    "    merged_authors = list(itertools.chain.from_iterable(list_of_authors))\n",
    "        \n",
    "    list_of_tags.append([element.text.replace(\"\\n\", \"\") for element in soup.find_all('div',{'class':'tags'})])\n",
    "    merged_tags = list(itertools.chain.from_iterable(list_of_tags))\n",
    "        \n",
    "data = pd.DataFrame({'Quote':merged_quotes,'Author':merged_authors,'Tags':merged_tags})\n",
    "data.index = np.arange(1, len(data)+1)\n"
   ]
  },
  {
   "cell_type": "markdown",
   "metadata": {},
   "source": [
    "## Wikipedia API"
   ]
  },
  {
   "cell_type": "markdown",
   "metadata": {},
   "source": [
    "A continuación, utilizo la API de Wikipedia para ir rotando por la lista de autores de cada una de las citas para obtener un breve resumen con la biografía del autor y el link con el resto de la información en Wikipedia. Según sacamos la información, la incluimos en una lista que posteriormente convertiremos a DataFrame."
   ]
  },
  {
   "cell_type": "code",
   "execution_count": 3,
   "metadata": {},
   "outputs": [],
   "source": [
    "S = requests.Session()\n",
    "URL = \"https://en.wikipedia.org/w/api.php\"\n",
    "\n",
    "info = []\n",
    "info2 = []\n",
    "for author in merged_authors:\n",
    "    PARAMS = {\n",
    "        'action':\"opensearch\",\n",
    "        'search':author,\n",
    "        'limit': 0,\n",
    "        'namespace':0,\n",
    "        'profile':\"normal\",\n",
    "        'format':\"json\"\n",
    "        }\n",
    "    R = S.get(url=URL, params=PARAMS)\n",
    "    DATA = R.json()\n",
    "    DATA2 = ''.join(DATA[2])\n",
    "    DATA3 = ''.join(DATA[3])\n",
    "    info.append(DATA2)\n",
    "    info2.append(DATA3)\n",
    "    \n",
    "        \n",
    "info = pd.DataFrame({'Authors_info':info, 'Wikipedia_link':info2})\n",
    "info.index = np.arange(1, len(info)+1)"
   ]
  },
  {
   "cell_type": "markdown",
   "metadata": {},
   "source": [
    "Aunque también encontré una seguna forma de hacerlo a través de comandos, que daba un resumen del autor un poco más largo en el que puedo especificar el número de frases a incluir, pero que no aportaba el link que finalmente también he incluido en la tabla."
   ]
  },
  {
   "cell_type": "code",
   "execution_count": 4,
   "metadata": {},
   "outputs": [],
   "source": [
    "#def quote(url):\n",
    "#    list_of_quotes = []\n",
    "#    list_of_authors = []\n",
    "#    list_of_tags = []\n",
    "#    authors_info = []\n",
    "#    for i in range(1, 11):\n",
    "#        html = requests.get(url % i).content\n",
    "#        soup = BeautifulSoup(html, 'lxml')\n",
    "#\n",
    "#        list_of_quotes.append([element.text.replace(\"\\n\", \"\") for element in soup.find_all('a',{'class':'title'})])\n",
    "#        merged_quotes = list(itertools.chain.from_iterable(list_of_quotes))\n",
    "#        \n",
    "#        list_of_authors.append([element.text.replace(\"\\n\", \"\").replace(\"Xunzi\", \"Xun Kuang\").replace(\"John Lubbock\", \"John Lubbock, 1st Baron Avebury\").replace(\"Drake\", \"Drake (musician)\").replace(\"Charles Simmons\", \"Charles Simmons (author)\").replace(\"James Allen\", \"James Allen (author)\").replace(\"John Green\", \"John Green (author)\").replace(\"Unknown\", \"Unknown (mathematics)\") for element in soup.find_all('div',{'class':'author'})])\n",
    "#        merged_authors = list(itertools.chain.from_iterable(list_of_authors))\n",
    "#        \n",
    "#        list_of_tags.append([element.text.replace(\"\\n\", \"\") for element in soup.find_all('div',{'class':'tags'})])\n",
    "#        merged_tags = list(itertools.chain.from_iterable(list_of_tags))\n",
    "#    \n",
    "#    for author in merged_authors:\n",
    "#        authors_info.append(wikipedia.summary(author, sentences=3))\n",
    "#        \n",
    "#    data = pd.DataFrame({'Quote':merged_quotes,'Author':merged_authors,'Tags':merged_tags,'Author_info':authors_info})\n",
    "#    data.index = np.arange(1, len(data)+1)\n",
    "#\n",
    "#    return data\n",
    "#    \n",
    "#data = quote('https://www.azquotes.com/top_quotes.html?p=%s')"
   ]
  },
  {
   "cell_type": "markdown",
   "metadata": {},
   "source": [
    "Ahora juntamos ambos datasets para crear una base de datos más grande y más enriquecida. Como podemos observar, la columna de la derecha corresponde con la información del autor extraida de la Wikipedia."
   ]
  },
  {
   "cell_type": "code",
   "execution_count": 5,
   "metadata": {},
   "outputs": [
    {
     "data": {
      "text/html": [
       "<div>\n",
       "<style scoped>\n",
       "    .dataframe tbody tr th:only-of-type {\n",
       "        vertical-align: middle;\n",
       "    }\n",
       "\n",
       "    .dataframe tbody tr th {\n",
       "        vertical-align: top;\n",
       "    }\n",
       "\n",
       "    .dataframe thead th {\n",
       "        text-align: right;\n",
       "    }\n",
       "</style>\n",
       "<table border=\"1\" class=\"dataframe\">\n",
       "  <thead>\n",
       "    <tr style=\"text-align: right;\">\n",
       "      <th></th>\n",
       "      <th>Quote</th>\n",
       "      <th>Author</th>\n",
       "      <th>Tags</th>\n",
       "      <th>Authors_info</th>\n",
       "      <th>Wikipedia_link</th>\n",
       "    </tr>\n",
       "  </thead>\n",
       "  <tbody>\n",
       "    <tr>\n",
       "      <th>1</th>\n",
       "      <td>The essence of strategy is choosing what not t...</td>\n",
       "      <td>Michael Porter</td>\n",
       "      <td>Essence, Deep Thought, Transcendentalism</td>\n",
       "      <td>Michael Eugene Porter  (born May 23, 1947) is ...</td>\n",
       "      <td>https://en.wikipedia.org/wiki/Michael_Porter</td>\n",
       "    </tr>\n",
       "    <tr>\n",
       "      <th>2</th>\n",
       "      <td>Death is something inevitable. When a man has ...</td>\n",
       "      <td>Nelson Mandela</td>\n",
       "      <td>Inspirational, Motivational, Death</td>\n",
       "      <td>Nelson Rolihlahla Mandela (; Xhosa: [xolíɬaɬa ...</td>\n",
       "      <td>https://en.wikipedia.org/wiki/Nelson_Mandela</td>\n",
       "    </tr>\n",
       "    <tr>\n",
       "      <th>3</th>\n",
       "      <td>With or without religion, you would have good ...</td>\n",
       "      <td>Steven Weinberg</td>\n",
       "      <td>God, Religious, Atheist</td>\n",
       "      <td>Steven Weinberg  (; born May 3, 1933) is an Am...</td>\n",
       "      <td>https://en.wikipedia.org/wiki/Steven_Weinberg</td>\n",
       "    </tr>\n",
       "    <tr>\n",
       "      <th>4</th>\n",
       "      <td>A person who never made a mistake never tried ...</td>\n",
       "      <td>Albert Einstein</td>\n",
       "      <td>Inspirational, Motivational, Change</td>\n",
       "      <td>Albert Einstein (; German: [ˈalbɛɐ̯t ˈʔaɪnʃtaɪ...</td>\n",
       "      <td>https://en.wikipedia.org/wiki/Albert_Einstein</td>\n",
       "    </tr>\n",
       "    <tr>\n",
       "      <th>5</th>\n",
       "      <td>My mission in life is not merely to survive, b...</td>\n",
       "      <td>Maya Angelou</td>\n",
       "      <td>Inspirational, Life, Inspiring</td>\n",
       "      <td>Maya Angelou ( (listen); born Marguerite Annie...</td>\n",
       "      <td>https://en.wikipedia.org/wiki/Maya_Angelou</td>\n",
       "    </tr>\n",
       "  </tbody>\n",
       "</table>\n",
       "</div>"
      ],
      "text/plain": [
       "                                               Quote           Author  \\\n",
       "1  The essence of strategy is choosing what not t...   Michael Porter   \n",
       "2  Death is something inevitable. When a man has ...   Nelson Mandela   \n",
       "3  With or without religion, you would have good ...  Steven Weinberg   \n",
       "4  A person who never made a mistake never tried ...  Albert Einstein   \n",
       "5  My mission in life is not merely to survive, b...     Maya Angelou   \n",
       "\n",
       "                                        Tags  \\\n",
       "1  Essence, Deep Thought, Transcendentalism    \n",
       "2        Inspirational, Motivational, Death    \n",
       "3                   God, Religious, Atheist    \n",
       "4       Inspirational, Motivational, Change    \n",
       "5            Inspirational, Life, Inspiring    \n",
       "\n",
       "                                        Authors_info  \\\n",
       "1  Michael Eugene Porter  (born May 23, 1947) is ...   \n",
       "2  Nelson Rolihlahla Mandela (; Xhosa: [xolíɬaɬa ...   \n",
       "3  Steven Weinberg  (; born May 3, 1933) is an Am...   \n",
       "4  Albert Einstein (; German: [ˈalbɛɐ̯t ˈʔaɪnʃtaɪ...   \n",
       "5  Maya Angelou ( (listen); born Marguerite Annie...   \n",
       "\n",
       "                                  Wikipedia_link  \n",
       "1   https://en.wikipedia.org/wiki/Michael_Porter  \n",
       "2   https://en.wikipedia.org/wiki/Nelson_Mandela  \n",
       "3  https://en.wikipedia.org/wiki/Steven_Weinberg  \n",
       "4  https://en.wikipedia.org/wiki/Albert_Einstein  \n",
       "5     https://en.wikipedia.org/wiki/Maya_Angelou  "
      ]
     },
     "execution_count": 5,
     "metadata": {},
     "output_type": "execute_result"
    }
   ],
   "source": [
    "final = pd.concat([data, info], axis = 1, )\n",
    "final.head()"
   ]
  },
  {
   "cell_type": "markdown",
   "metadata": {},
   "source": [
    "## Twitter API"
   ]
  },
  {
   "cell_type": "markdown",
   "metadata": {},
   "source": [
    "He decidido utilizar una segunda API para saber cómo de populares son en la actualidad los autores de las citas, obteniendo tweets clasificados como populares que contengan el nombre del autor. Una cosa importante a la hora de trabajar con esta API es que sólo puedes hacer 180 peticiones cada 15 minutos, por lo que he tenido que hacer 6 peticiones diferentes cada 15 minutos para buscar todos los autores."
   ]
  },
  {
   "cell_type": "code",
   "execution_count": 9,
   "metadata": {},
   "outputs": [],
   "source": [
    "API_KEY = \"XXXX\"\n",
    "API_SECRET = \"XXXX\"\n",
    "ACCESS_TOKEN = \"XXXX\"\n",
    "ACCESS_TOKEN_SECRET = \"XXXX\"\n",
    "\n",
    "auth = tweepy.OAuthHandler(API_KEY, API_SECRET)\n",
    "auth.set_access_token(ACCESS_TOKEN, ACCESS_TOKEN_SECRET)\n",
    "api = tweepy.API(auth)"
   ]
  },
  {
   "cell_type": "code",
   "execution_count": 10,
   "metadata": {},
   "outputs": [],
   "source": [
    "merged_authors180 = merged_authors[:180]\n",
    "lista_tweets1 = []\n",
    "\n",
    "for author in merged_authors180:\n",
    "    results = api.search(q=author, result_type = \"popular\", count = 100)\n",
    "    lista_tweets1.append(len(results))"
   ]
  },
  {
   "cell_type": "code",
   "execution_count": 13,
   "metadata": {},
   "outputs": [],
   "source": [
    "merged_authors360 = merged_authors[180:360]\n",
    "lista_tweets2 = []\n",
    "\n",
    "for author in merged_authors360:\n",
    "    results2 = api.search(q=author, result_type = \"popular\", count = 100)\n",
    "    lista_tweets2.append(len(results2))"
   ]
  },
  {
   "cell_type": "code",
   "execution_count": 17,
   "metadata": {},
   "outputs": [],
   "source": [
    "merged_authors540 = merged_authors[360:540]\n",
    "lista_tweets3 = []\n",
    "\n",
    "for author in merged_authors540:\n",
    "    results3 = api.search(q=author, result_type = \"popular\", count = 100)\n",
    "    lista_tweets3.append(len(results3))"
   ]
  },
  {
   "cell_type": "code",
   "execution_count": 21,
   "metadata": {},
   "outputs": [],
   "source": [
    "merged_authors720 = merged_authors[540:720]\n",
    "lista_tweets4 = []\n",
    "\n",
    "for author in merged_authors720:\n",
    "    results4 = api.search(q=author, result_type = \"popular\", count = 100)\n",
    "    lista_tweets4.append(len(results4))"
   ]
  },
  {
   "cell_type": "code",
   "execution_count": 22,
   "metadata": {},
   "outputs": [],
   "source": [
    "merged_authors900 = merged_authors[720:900]\n",
    "lista_tweets5 = []\n",
    "\n",
    "for author in merged_authors900:\n",
    "    results5 = api.search(q=author, result_type = \"popular\", count = 100)\n",
    "    lista_tweets5.append(len(results5))"
   ]
  },
  {
   "cell_type": "code",
   "execution_count": 24,
   "metadata": {},
   "outputs": [],
   "source": [
    "merged_authors1000 = merged_authors[900:1000]\n",
    "lista_tweets6 = []\n",
    "\n",
    "for author in merged_authors1000:\n",
    "    results6 = api.search(q=author, result_type = \"popular\", count = 100)\n",
    "    lista_tweets6.append(len(results6))"
   ]
  },
  {
   "cell_type": "markdown",
   "metadata": {},
   "source": [
    "Una vez he hecho las 6 peticiones, uno las 6 listas resultantes, confirmo que son 1000 registros los que hay, las convierto en DataFrame y las uno a la tabla ya existente resultando en una base de datos más enriquecida."
   ]
  },
  {
   "cell_type": "code",
   "execution_count": 25,
   "metadata": {},
   "outputs": [],
   "source": [
    "lista_tweets = lista_tweets1 + lista_tweets2 + lista_tweets3 + lista_tweets4 + lista_tweets5 + lista_tweets6"
   ]
  },
  {
   "cell_type": "code",
   "execution_count": 26,
   "metadata": {},
   "outputs": [
    {
     "name": "stdout",
     "output_type": "stream",
     "text": [
      "1000\n"
     ]
    }
   ],
   "source": [
    "print(len(lista_tweets))"
   ]
  },
  {
   "cell_type": "code",
   "execution_count": 27,
   "metadata": {
    "scrolled": true
   },
   "outputs": [
    {
     "data": {
      "text/html": [
       "<div>\n",
       "<style scoped>\n",
       "    .dataframe tbody tr th:only-of-type {\n",
       "        vertical-align: middle;\n",
       "    }\n",
       "\n",
       "    .dataframe tbody tr th {\n",
       "        vertical-align: top;\n",
       "    }\n",
       "\n",
       "    .dataframe thead th {\n",
       "        text-align: right;\n",
       "    }\n",
       "</style>\n",
       "<table border=\"1\" class=\"dataframe\">\n",
       "  <thead>\n",
       "    <tr style=\"text-align: right;\">\n",
       "      <th></th>\n",
       "      <th>Popular_tweets_count</th>\n",
       "    </tr>\n",
       "  </thead>\n",
       "  <tbody>\n",
       "    <tr>\n",
       "      <th>1</th>\n",
       "      <td>1</td>\n",
       "    </tr>\n",
       "    <tr>\n",
       "      <th>2</th>\n",
       "      <td>15</td>\n",
       "    </tr>\n",
       "    <tr>\n",
       "      <th>3</th>\n",
       "      <td>0</td>\n",
       "    </tr>\n",
       "    <tr>\n",
       "      <th>4</th>\n",
       "      <td>15</td>\n",
       "    </tr>\n",
       "    <tr>\n",
       "      <th>5</th>\n",
       "      <td>15</td>\n",
       "    </tr>\n",
       "  </tbody>\n",
       "</table>\n",
       "</div>"
      ],
      "text/plain": [
       "   Popular_tweets_count\n",
       "1                     1\n",
       "2                    15\n",
       "3                     0\n",
       "4                    15\n",
       "5                    15"
      ]
     },
     "execution_count": 27,
     "metadata": {},
     "output_type": "execute_result"
    }
   ],
   "source": [
    "lista_tweets = pd.DataFrame({'Popular_tweets_count':lista_tweets})\n",
    "lista_tweets.index = np.arange(1, len(lista_tweets)+1)\n",
    "lista_tweets.head()"
   ]
  },
  {
   "cell_type": "code",
   "execution_count": 30,
   "metadata": {},
   "outputs": [
    {
     "data": {
      "text/html": [
       "<div>\n",
       "<style scoped>\n",
       "    .dataframe tbody tr th:only-of-type {\n",
       "        vertical-align: middle;\n",
       "    }\n",
       "\n",
       "    .dataframe tbody tr th {\n",
       "        vertical-align: top;\n",
       "    }\n",
       "\n",
       "    .dataframe thead th {\n",
       "        text-align: right;\n",
       "    }\n",
       "</style>\n",
       "<table border=\"1\" class=\"dataframe\">\n",
       "  <thead>\n",
       "    <tr style=\"text-align: right;\">\n",
       "      <th></th>\n",
       "      <th>Quote</th>\n",
       "      <th>Author</th>\n",
       "      <th>Tags</th>\n",
       "      <th>Authors_info</th>\n",
       "      <th>Wikipedia_link</th>\n",
       "      <th>Popular_tweets_count</th>\n",
       "    </tr>\n",
       "  </thead>\n",
       "  <tbody>\n",
       "    <tr>\n",
       "      <th>1</th>\n",
       "      <td>The essence of strategy is choosing what not t...</td>\n",
       "      <td>Michael Porter</td>\n",
       "      <td>Essence, Deep Thought, Transcendentalism</td>\n",
       "      <td>Michael Eugene Porter  (born May 23, 1947) is ...</td>\n",
       "      <td>https://en.wikipedia.org/wiki/Michael_Porter</td>\n",
       "      <td>1</td>\n",
       "    </tr>\n",
       "    <tr>\n",
       "      <th>2</th>\n",
       "      <td>Death is something inevitable. When a man has ...</td>\n",
       "      <td>Nelson Mandela</td>\n",
       "      <td>Inspirational, Motivational, Death</td>\n",
       "      <td>Nelson Rolihlahla Mandela (; Xhosa: [xolíɬaɬa ...</td>\n",
       "      <td>https://en.wikipedia.org/wiki/Nelson_Mandela</td>\n",
       "      <td>15</td>\n",
       "    </tr>\n",
       "    <tr>\n",
       "      <th>3</th>\n",
       "      <td>With or without religion, you would have good ...</td>\n",
       "      <td>Steven Weinberg</td>\n",
       "      <td>God, Religious, Atheist</td>\n",
       "      <td>Steven Weinberg  (; born May 3, 1933) is an Am...</td>\n",
       "      <td>https://en.wikipedia.org/wiki/Steven_Weinberg</td>\n",
       "      <td>0</td>\n",
       "    </tr>\n",
       "    <tr>\n",
       "      <th>4</th>\n",
       "      <td>A person who never made a mistake never tried ...</td>\n",
       "      <td>Albert Einstein</td>\n",
       "      <td>Inspirational, Motivational, Change</td>\n",
       "      <td>Albert Einstein (; German: [ˈalbɛɐ̯t ˈʔaɪnʃtaɪ...</td>\n",
       "      <td>https://en.wikipedia.org/wiki/Albert_Einstein</td>\n",
       "      <td>15</td>\n",
       "    </tr>\n",
       "    <tr>\n",
       "      <th>5</th>\n",
       "      <td>My mission in life is not merely to survive, b...</td>\n",
       "      <td>Maya Angelou</td>\n",
       "      <td>Inspirational, Life, Inspiring</td>\n",
       "      <td>Maya Angelou ( (listen); born Marguerite Annie...</td>\n",
       "      <td>https://en.wikipedia.org/wiki/Maya_Angelou</td>\n",
       "      <td>15</td>\n",
       "    </tr>\n",
       "  </tbody>\n",
       "</table>\n",
       "</div>"
      ],
      "text/plain": [
       "                                               Quote           Author  \\\n",
       "1  The essence of strategy is choosing what not t...   Michael Porter   \n",
       "2  Death is something inevitable. When a man has ...   Nelson Mandela   \n",
       "3  With or without religion, you would have good ...  Steven Weinberg   \n",
       "4  A person who never made a mistake never tried ...  Albert Einstein   \n",
       "5  My mission in life is not merely to survive, b...     Maya Angelou   \n",
       "\n",
       "                                        Tags  \\\n",
       "1  Essence, Deep Thought, Transcendentalism    \n",
       "2        Inspirational, Motivational, Death    \n",
       "3                   God, Religious, Atheist    \n",
       "4       Inspirational, Motivational, Change    \n",
       "5            Inspirational, Life, Inspiring    \n",
       "\n",
       "                                        Authors_info  \\\n",
       "1  Michael Eugene Porter  (born May 23, 1947) is ...   \n",
       "2  Nelson Rolihlahla Mandela (; Xhosa: [xolíɬaɬa ...   \n",
       "3  Steven Weinberg  (; born May 3, 1933) is an Am...   \n",
       "4  Albert Einstein (; German: [ˈalbɛɐ̯t ˈʔaɪnʃtaɪ...   \n",
       "5  Maya Angelou ( (listen); born Marguerite Annie...   \n",
       "\n",
       "                                  Wikipedia_link  Popular_tweets_count  \n",
       "1   https://en.wikipedia.org/wiki/Michael_Porter                     1  \n",
       "2   https://en.wikipedia.org/wiki/Nelson_Mandela                    15  \n",
       "3  https://en.wikipedia.org/wiki/Steven_Weinberg                     0  \n",
       "4  https://en.wikipedia.org/wiki/Albert_Einstein                    15  \n",
       "5     https://en.wikipedia.org/wiki/Maya_Angelou                    15  "
      ]
     },
     "execution_count": 30,
     "metadata": {},
     "output_type": "execute_result"
    }
   ],
   "source": [
    "final2 = pd.concat([final, lista_tweets], axis = 1, )\n",
    "final2.head()"
   ]
  },
  {
   "cell_type": "markdown",
   "metadata": {},
   "source": [
    "## Translate API"
   ]
  },
  {
   "cell_type": "markdown",
   "metadata": {},
   "source": [
    "Con la siguiente API (https://pypi.org/project/translate/) lo que pretendo es traducir cada una de las citas al español. Aunque el funcionamiento de esta API se basa en funciones y no en peticiones que se hacen a una URL tal como en el caso de la Wikipedia. Esta API, al igual que la anterior, tiene un límite de uso.\n",
    "\n",
    "Para ello, y de forma similar a la anterior API, trabajo con un bucle que para cada cita me haga la traducción del inglés al español. Y como antes, inserto el resultado en un DataFrame que posteriormente fusiono con las dos bases de datos anteriores."
   ]
  },
  {
   "cell_type": "code",
   "execution_count": 6,
   "metadata": {},
   "outputs": [],
   "source": [
    "tranlations_list = []\n",
    "for quote in merged_quotes:\n",
    "    translator= Translator(to_lang=\"es\")\n",
    "    translation = translator.translate(quote)\n",
    "    tranlations_list.append(translation)\n"
   ]
  },
  {
   "cell_type": "code",
   "execution_count": 8,
   "metadata": {},
   "outputs": [
    {
     "data": {
      "text/html": [
       "<div>\n",
       "<style scoped>\n",
       "    .dataframe tbody tr th:only-of-type {\n",
       "        vertical-align: middle;\n",
       "    }\n",
       "\n",
       "    .dataframe tbody tr th {\n",
       "        vertical-align: top;\n",
       "    }\n",
       "\n",
       "    .dataframe thead th {\n",
       "        text-align: right;\n",
       "    }\n",
       "</style>\n",
       "<table border=\"1\" class=\"dataframe\">\n",
       "  <thead>\n",
       "    <tr style=\"text-align: right;\">\n",
       "      <th></th>\n",
       "      <th>Quote_in_spanish</th>\n",
       "    </tr>\n",
       "  </thead>\n",
       "  <tbody>\n",
       "    <tr>\n",
       "      <th>1</th>\n",
       "      <td>La esencia de la estrategia es elegir qué no h...</td>\n",
       "    </tr>\n",
       "    <tr>\n",
       "      <th>2</th>\n",
       "      <td>La muerte es algo inevitable. Cuando un hombre...</td>\n",
       "    </tr>\n",
       "    <tr>\n",
       "      <th>3</th>\n",
       "      <td>Con o sin religión, tendrías gente buena hacie...</td>\n",
       "    </tr>\n",
       "    <tr>\n",
       "      <th>4</th>\n",
       "      <td>Una persona que nunca cometió un error nunca p...</td>\n",
       "    </tr>\n",
       "    <tr>\n",
       "      <th>5</th>\n",
       "      <td>Mi misión en la vida no es meramente sobrevivi...</td>\n",
       "    </tr>\n",
       "  </tbody>\n",
       "</table>\n",
       "</div>"
      ],
      "text/plain": [
       "                                    Quote_in_spanish\n",
       "1  La esencia de la estrategia es elegir qué no h...\n",
       "2  La muerte es algo inevitable. Cuando un hombre...\n",
       "3  Con o sin religión, tendrías gente buena hacie...\n",
       "4  Una persona que nunca cometió un error nunca p...\n",
       "5  Mi misión en la vida no es meramente sobrevivi..."
      ]
     },
     "execution_count": 8,
     "metadata": {},
     "output_type": "execute_result"
    }
   ],
   "source": [
    "tranlations_list = pd.DataFrame({'Quote_in_spanish':tranlations_list})\n",
    "tranlations_list.index = np.arange(1, len(tranlations_list)+1)\n",
    "tranlations_list.head()"
   ]
  },
  {
   "cell_type": "code",
   "execution_count": 31,
   "metadata": {},
   "outputs": [
    {
     "data": {
      "text/html": [
       "<div>\n",
       "<style scoped>\n",
       "    .dataframe tbody tr th:only-of-type {\n",
       "        vertical-align: middle;\n",
       "    }\n",
       "\n",
       "    .dataframe tbody tr th {\n",
       "        vertical-align: top;\n",
       "    }\n",
       "\n",
       "    .dataframe thead th {\n",
       "        text-align: right;\n",
       "    }\n",
       "</style>\n",
       "<table border=\"1\" class=\"dataframe\">\n",
       "  <thead>\n",
       "    <tr style=\"text-align: right;\">\n",
       "      <th></th>\n",
       "      <th>Quote</th>\n",
       "      <th>Author</th>\n",
       "      <th>Tags</th>\n",
       "      <th>Authors_info</th>\n",
       "      <th>Wikipedia_link</th>\n",
       "      <th>Popular_tweets_count</th>\n",
       "      <th>Quote_in_spanish</th>\n",
       "    </tr>\n",
       "  </thead>\n",
       "  <tbody>\n",
       "    <tr>\n",
       "      <th>1</th>\n",
       "      <td>The essence of strategy is choosing what not t...</td>\n",
       "      <td>Michael Porter</td>\n",
       "      <td>Essence, Deep Thought, Transcendentalism</td>\n",
       "      <td>Michael Eugene Porter  (born May 23, 1947) is ...</td>\n",
       "      <td>https://en.wikipedia.org/wiki/Michael_Porter</td>\n",
       "      <td>1</td>\n",
       "      <td>La esencia de la estrategia es elegir qué no h...</td>\n",
       "    </tr>\n",
       "    <tr>\n",
       "      <th>2</th>\n",
       "      <td>Death is something inevitable. When a man has ...</td>\n",
       "      <td>Nelson Mandela</td>\n",
       "      <td>Inspirational, Motivational, Death</td>\n",
       "      <td>Nelson Rolihlahla Mandela (; Xhosa: [xolíɬaɬa ...</td>\n",
       "      <td>https://en.wikipedia.org/wiki/Nelson_Mandela</td>\n",
       "      <td>15</td>\n",
       "      <td>La muerte es algo inevitable. Cuando un hombre...</td>\n",
       "    </tr>\n",
       "    <tr>\n",
       "      <th>3</th>\n",
       "      <td>With or without religion, you would have good ...</td>\n",
       "      <td>Steven Weinberg</td>\n",
       "      <td>God, Religious, Atheist</td>\n",
       "      <td>Steven Weinberg  (; born May 3, 1933) is an Am...</td>\n",
       "      <td>https://en.wikipedia.org/wiki/Steven_Weinberg</td>\n",
       "      <td>0</td>\n",
       "      <td>Con o sin religión, tendrías gente buena hacie...</td>\n",
       "    </tr>\n",
       "    <tr>\n",
       "      <th>4</th>\n",
       "      <td>A person who never made a mistake never tried ...</td>\n",
       "      <td>Albert Einstein</td>\n",
       "      <td>Inspirational, Motivational, Change</td>\n",
       "      <td>Albert Einstein (; German: [ˈalbɛɐ̯t ˈʔaɪnʃtaɪ...</td>\n",
       "      <td>https://en.wikipedia.org/wiki/Albert_Einstein</td>\n",
       "      <td>15</td>\n",
       "      <td>Una persona que nunca cometió un error nunca p...</td>\n",
       "    </tr>\n",
       "    <tr>\n",
       "      <th>5</th>\n",
       "      <td>My mission in life is not merely to survive, b...</td>\n",
       "      <td>Maya Angelou</td>\n",
       "      <td>Inspirational, Life, Inspiring</td>\n",
       "      <td>Maya Angelou ( (listen); born Marguerite Annie...</td>\n",
       "      <td>https://en.wikipedia.org/wiki/Maya_Angelou</td>\n",
       "      <td>15</td>\n",
       "      <td>Mi misión en la vida no es meramente sobrevivi...</td>\n",
       "    </tr>\n",
       "  </tbody>\n",
       "</table>\n",
       "</div>"
      ],
      "text/plain": [
       "                                               Quote           Author  \\\n",
       "1  The essence of strategy is choosing what not t...   Michael Porter   \n",
       "2  Death is something inevitable. When a man has ...   Nelson Mandela   \n",
       "3  With or without religion, you would have good ...  Steven Weinberg   \n",
       "4  A person who never made a mistake never tried ...  Albert Einstein   \n",
       "5  My mission in life is not merely to survive, b...     Maya Angelou   \n",
       "\n",
       "                                        Tags  \\\n",
       "1  Essence, Deep Thought, Transcendentalism    \n",
       "2        Inspirational, Motivational, Death    \n",
       "3                   God, Religious, Atheist    \n",
       "4       Inspirational, Motivational, Change    \n",
       "5            Inspirational, Life, Inspiring    \n",
       "\n",
       "                                        Authors_info  \\\n",
       "1  Michael Eugene Porter  (born May 23, 1947) is ...   \n",
       "2  Nelson Rolihlahla Mandela (; Xhosa: [xolíɬaɬa ...   \n",
       "3  Steven Weinberg  (; born May 3, 1933) is an Am...   \n",
       "4  Albert Einstein (; German: [ˈalbɛɐ̯t ˈʔaɪnʃtaɪ...   \n",
       "5  Maya Angelou ( (listen); born Marguerite Annie...   \n",
       "\n",
       "                                  Wikipedia_link  Popular_tweets_count  \\\n",
       "1   https://en.wikipedia.org/wiki/Michael_Porter                     1   \n",
       "2   https://en.wikipedia.org/wiki/Nelson_Mandela                    15   \n",
       "3  https://en.wikipedia.org/wiki/Steven_Weinberg                     0   \n",
       "4  https://en.wikipedia.org/wiki/Albert_Einstein                    15   \n",
       "5     https://en.wikipedia.org/wiki/Maya_Angelou                    15   \n",
       "\n",
       "                                    Quote_in_spanish  \n",
       "1  La esencia de la estrategia es elegir qué no h...  \n",
       "2  La muerte es algo inevitable. Cuando un hombre...  \n",
       "3  Con o sin religión, tendrías gente buena hacie...  \n",
       "4  Una persona que nunca cometió un error nunca p...  \n",
       "5  Mi misión en la vida no es meramente sobrevivi...  "
      ]
     },
     "execution_count": 31,
     "metadata": {},
     "output_type": "execute_result"
    }
   ],
   "source": [
    "final3 = pd.concat([final2, tranlations_list], axis = 1, )\n",
    "final3.head()"
   ]
  },
  {
   "cell_type": "markdown",
   "metadata": {},
   "source": [
    "Por último, exporto la base de datos como archivo csv."
   ]
  },
  {
   "cell_type": "code",
   "execution_count": 33,
   "metadata": {},
   "outputs": [],
   "source": [
    "output = final.to_csv('output.csv', index=False)"
   ]
  },
  {
   "cell_type": "code",
   "execution_count": null,
   "metadata": {},
   "outputs": [],
   "source": []
  }
 ],
 "metadata": {
  "kernelspec": {
   "display_name": "Python 3",
   "language": "python",
   "name": "python3"
  },
  "language_info": {
   "codemirror_mode": {
    "name": "ipython",
    "version": 3
   },
   "file_extension": ".py",
   "mimetype": "text/x-python",
   "name": "python",
   "nbconvert_exporter": "python",
   "pygments_lexer": "ipython3",
   "version": "3.7.2"
  }
 },
 "nbformat": 4,
 "nbformat_minor": 2
}
