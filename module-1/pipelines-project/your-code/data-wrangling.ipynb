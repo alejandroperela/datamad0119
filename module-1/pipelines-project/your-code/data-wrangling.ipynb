{
 "cells": [
  {
   "cell_type": "code",
   "execution_count": 245,
   "metadata": {},
   "outputs": [
    {
     "data": {
      "text/html": [
       "<div>\n",
       "<style scoped>\n",
       "    .dataframe tbody tr th:only-of-type {\n",
       "        vertical-align: middle;\n",
       "    }\n",
       "\n",
       "    .dataframe tbody tr th {\n",
       "        vertical-align: top;\n",
       "    }\n",
       "\n",
       "    .dataframe thead th {\n",
       "        text-align: right;\n",
       "    }\n",
       "</style>\n",
       "<table border=\"1\" class=\"dataframe\">\n",
       "  <thead>\n",
       "    <tr style=\"text-align: right;\">\n",
       "      <th></th>\n",
       "      <th>Case Number</th>\n",
       "      <th>Date</th>\n",
       "      <th>Year</th>\n",
       "      <th>Type</th>\n",
       "      <th>Country</th>\n",
       "      <th>Area</th>\n",
       "      <th>Location</th>\n",
       "      <th>Activity</th>\n",
       "      <th>Name</th>\n",
       "      <th>Sex</th>\n",
       "      <th>...</th>\n",
       "      <th>Species</th>\n",
       "      <th>Investigator or Source</th>\n",
       "      <th>pdf</th>\n",
       "      <th>href formula</th>\n",
       "      <th>href</th>\n",
       "      <th>Case Number.1</th>\n",
       "      <th>Case Number.2</th>\n",
       "      <th>original order</th>\n",
       "      <th>Unnamed: 22</th>\n",
       "      <th>Unnamed: 23</th>\n",
       "    </tr>\n",
       "  </thead>\n",
       "  <tbody>\n",
       "    <tr>\n",
       "      <th>0</th>\n",
       "      <td>2016.09.18.c</td>\n",
       "      <td>18-Sep-16</td>\n",
       "      <td>2016</td>\n",
       "      <td>Unprovoked</td>\n",
       "      <td>USA</td>\n",
       "      <td>Florida</td>\n",
       "      <td>New Smyrna Beach, Volusia County</td>\n",
       "      <td>Surfing</td>\n",
       "      <td>male</td>\n",
       "      <td>M</td>\n",
       "      <td>...</td>\n",
       "      <td>NaN</td>\n",
       "      <td>Orlando Sentinel, 9/19/2016</td>\n",
       "      <td>2016.09.18.c-NSB.pdf</td>\n",
       "      <td>http://sharkattackfile.net/spreadsheets/pdf_di...</td>\n",
       "      <td>http://sharkattackfile.net/spreadsheets/pdf_di...</td>\n",
       "      <td>2016.09.18.c</td>\n",
       "      <td>2016.09.18.c</td>\n",
       "      <td>5993</td>\n",
       "      <td>NaN</td>\n",
       "      <td>NaN</td>\n",
       "    </tr>\n",
       "    <tr>\n",
       "      <th>1</th>\n",
       "      <td>2016.09.18.b</td>\n",
       "      <td>18-Sep-16</td>\n",
       "      <td>2016</td>\n",
       "      <td>Unprovoked</td>\n",
       "      <td>USA</td>\n",
       "      <td>Florida</td>\n",
       "      <td>New Smyrna Beach, Volusia County</td>\n",
       "      <td>Surfing</td>\n",
       "      <td>Chucky Luciano</td>\n",
       "      <td>M</td>\n",
       "      <td>...</td>\n",
       "      <td>NaN</td>\n",
       "      <td>Orlando Sentinel, 9/19/2016</td>\n",
       "      <td>2016.09.18.b-Luciano.pdf</td>\n",
       "      <td>http://sharkattackfile.net/spreadsheets/pdf_di...</td>\n",
       "      <td>http://sharkattackfile.net/spreadsheets/pdf_di...</td>\n",
       "      <td>2016.09.18.b</td>\n",
       "      <td>2016.09.18.b</td>\n",
       "      <td>5992</td>\n",
       "      <td>NaN</td>\n",
       "      <td>NaN</td>\n",
       "    </tr>\n",
       "    <tr>\n",
       "      <th>2</th>\n",
       "      <td>2016.09.18.a</td>\n",
       "      <td>18-Sep-16</td>\n",
       "      <td>2016</td>\n",
       "      <td>Unprovoked</td>\n",
       "      <td>USA</td>\n",
       "      <td>Florida</td>\n",
       "      <td>New Smyrna Beach, Volusia County</td>\n",
       "      <td>Surfing</td>\n",
       "      <td>male</td>\n",
       "      <td>M</td>\n",
       "      <td>...</td>\n",
       "      <td>NaN</td>\n",
       "      <td>Orlando Sentinel, 9/19/2016</td>\n",
       "      <td>2016.09.18.a-NSB.pdf</td>\n",
       "      <td>http://sharkattackfile.net/spreadsheets/pdf_di...</td>\n",
       "      <td>http://sharkattackfile.net/spreadsheets/pdf_di...</td>\n",
       "      <td>2016.09.18.a</td>\n",
       "      <td>2016.09.18.a</td>\n",
       "      <td>5991</td>\n",
       "      <td>NaN</td>\n",
       "      <td>NaN</td>\n",
       "    </tr>\n",
       "    <tr>\n",
       "      <th>3</th>\n",
       "      <td>2016.09.17</td>\n",
       "      <td>17-Sep-16</td>\n",
       "      <td>2016</td>\n",
       "      <td>Unprovoked</td>\n",
       "      <td>AUSTRALIA</td>\n",
       "      <td>Victoria</td>\n",
       "      <td>Thirteenth Beach</td>\n",
       "      <td>Surfing</td>\n",
       "      <td>Rory Angiolella</td>\n",
       "      <td>M</td>\n",
       "      <td>...</td>\n",
       "      <td>NaN</td>\n",
       "      <td>The Age, 9/18/2016</td>\n",
       "      <td>2016.09.17-Angiolella.pdf</td>\n",
       "      <td>http://sharkattackfile.net/spreadsheets/pdf_di...</td>\n",
       "      <td>http://sharkattackfile.net/spreadsheets/pdf_di...</td>\n",
       "      <td>2016.09.17</td>\n",
       "      <td>2016.09.17</td>\n",
       "      <td>5990</td>\n",
       "      <td>NaN</td>\n",
       "      <td>NaN</td>\n",
       "    </tr>\n",
       "    <tr>\n",
       "      <th>4</th>\n",
       "      <td>2016.09.15</td>\n",
       "      <td>16-Sep-16</td>\n",
       "      <td>2016</td>\n",
       "      <td>Unprovoked</td>\n",
       "      <td>AUSTRALIA</td>\n",
       "      <td>Victoria</td>\n",
       "      <td>Bells Beach</td>\n",
       "      <td>Surfing</td>\n",
       "      <td>male</td>\n",
       "      <td>M</td>\n",
       "      <td>...</td>\n",
       "      <td>2 m shark</td>\n",
       "      <td>The Age, 9/16/2016</td>\n",
       "      <td>2016.09.16-BellsBeach.pdf</td>\n",
       "      <td>http://sharkattackfile.net/spreadsheets/pdf_di...</td>\n",
       "      <td>http://sharkattackfile.net/spreadsheets/pdf_di...</td>\n",
       "      <td>2016.09.16</td>\n",
       "      <td>2016.09.15</td>\n",
       "      <td>5989</td>\n",
       "      <td>NaN</td>\n",
       "      <td>NaN</td>\n",
       "    </tr>\n",
       "  </tbody>\n",
       "</table>\n",
       "<p>5 rows × 24 columns</p>\n",
       "</div>"
      ],
      "text/plain": [
       "    Case Number       Date  Year        Type    Country      Area  \\\n",
       "0  2016.09.18.c  18-Sep-16  2016  Unprovoked        USA   Florida   \n",
       "1  2016.09.18.b  18-Sep-16  2016  Unprovoked        USA   Florida   \n",
       "2  2016.09.18.a  18-Sep-16  2016  Unprovoked        USA   Florida   \n",
       "3    2016.09.17  17-Sep-16  2016  Unprovoked  AUSTRALIA  Victoria   \n",
       "4    2016.09.15  16-Sep-16  2016  Unprovoked  AUSTRALIA  Victoria   \n",
       "\n",
       "                           Location Activity             Name Sex   \\\n",
       "0  New Smyrna Beach, Volusia County  Surfing             male    M   \n",
       "1  New Smyrna Beach, Volusia County  Surfing   Chucky Luciano    M   \n",
       "2  New Smyrna Beach, Volusia County  Surfing             male    M   \n",
       "3                  Thirteenth Beach  Surfing  Rory Angiolella    M   \n",
       "4                       Bells Beach  Surfing             male    M   \n",
       "\n",
       "      ...       Species        Investigator or Source  \\\n",
       "0     ...            NaN  Orlando Sentinel, 9/19/2016   \n",
       "1     ...            NaN  Orlando Sentinel, 9/19/2016   \n",
       "2     ...            NaN  Orlando Sentinel, 9/19/2016   \n",
       "3     ...            NaN           The Age, 9/18/2016   \n",
       "4     ...      2 m shark           The Age, 9/16/2016   \n",
       "\n",
       "                         pdf  \\\n",
       "0       2016.09.18.c-NSB.pdf   \n",
       "1   2016.09.18.b-Luciano.pdf   \n",
       "2       2016.09.18.a-NSB.pdf   \n",
       "3  2016.09.17-Angiolella.pdf   \n",
       "4  2016.09.16-BellsBeach.pdf   \n",
       "\n",
       "                                        href formula  \\\n",
       "0  http://sharkattackfile.net/spreadsheets/pdf_di...   \n",
       "1  http://sharkattackfile.net/spreadsheets/pdf_di...   \n",
       "2  http://sharkattackfile.net/spreadsheets/pdf_di...   \n",
       "3  http://sharkattackfile.net/spreadsheets/pdf_di...   \n",
       "4  http://sharkattackfile.net/spreadsheets/pdf_di...   \n",
       "\n",
       "                                                href Case Number.1  \\\n",
       "0  http://sharkattackfile.net/spreadsheets/pdf_di...  2016.09.18.c   \n",
       "1  http://sharkattackfile.net/spreadsheets/pdf_di...  2016.09.18.b   \n",
       "2  http://sharkattackfile.net/spreadsheets/pdf_di...  2016.09.18.a   \n",
       "3  http://sharkattackfile.net/spreadsheets/pdf_di...    2016.09.17   \n",
       "4  http://sharkattackfile.net/spreadsheets/pdf_di...    2016.09.16   \n",
       "\n",
       "  Case Number.2 original order Unnamed: 22 Unnamed: 23  \n",
       "0  2016.09.18.c           5993         NaN         NaN  \n",
       "1  2016.09.18.b           5992         NaN         NaN  \n",
       "2  2016.09.18.a           5991         NaN         NaN  \n",
       "3    2016.09.17           5990         NaN         NaN  \n",
       "4    2016.09.15           5989         NaN         NaN  \n",
       "\n",
       "[5 rows x 24 columns]"
      ]
     },
     "execution_count": 245,
     "metadata": {},
     "output_type": "execute_result"
    }
   ],
   "source": [
    "#Mi primer paso es importar y mostrar el archivo con el que voy a trabajar.\n",
    "\n",
    "import pandas as pd\n",
    "\n",
    "data = pd.read_csv('GSAF5.csv')\n",
    "data.head()\n"
   ]
  },
  {
   "cell_type": "code",
   "execution_count": 246,
   "metadata": {},
   "outputs": [
    {
     "data": {
      "text/html": [
       "<div>\n",
       "<style scoped>\n",
       "    .dataframe tbody tr th:only-of-type {\n",
       "        vertical-align: middle;\n",
       "    }\n",
       "\n",
       "    .dataframe tbody tr th {\n",
       "        vertical-align: top;\n",
       "    }\n",
       "\n",
       "    .dataframe thead th {\n",
       "        text-align: right;\n",
       "    }\n",
       "</style>\n",
       "<table border=\"1\" class=\"dataframe\">\n",
       "  <thead>\n",
       "    <tr style=\"text-align: right;\">\n",
       "      <th></th>\n",
       "      <th>Case_Number</th>\n",
       "      <th>Date</th>\n",
       "      <th>Year</th>\n",
       "      <th>Type</th>\n",
       "      <th>Country</th>\n",
       "      <th>Area</th>\n",
       "      <th>Location</th>\n",
       "      <th>Activity</th>\n",
       "      <th>Name</th>\n",
       "      <th>Sex</th>\n",
       "      <th>...</th>\n",
       "      <th>Species</th>\n",
       "      <th>Investigator_or_Source</th>\n",
       "      <th>pdf</th>\n",
       "      <th>href_formula</th>\n",
       "      <th>href</th>\n",
       "      <th>Case_Number_1</th>\n",
       "      <th>Case_Number_2</th>\n",
       "      <th>original_order</th>\n",
       "      <th>Unnamed:_22</th>\n",
       "      <th>Unnamed:_23</th>\n",
       "    </tr>\n",
       "  </thead>\n",
       "  <tbody>\n",
       "    <tr>\n",
       "      <th>0</th>\n",
       "      <td>2016.09.18.c</td>\n",
       "      <td>18-Sep-16</td>\n",
       "      <td>2016</td>\n",
       "      <td>Unprovoked</td>\n",
       "      <td>USA</td>\n",
       "      <td>Florida</td>\n",
       "      <td>New Smyrna Beach, Volusia County</td>\n",
       "      <td>Surfing</td>\n",
       "      <td>male</td>\n",
       "      <td>M</td>\n",
       "      <td>...</td>\n",
       "      <td>NaN</td>\n",
       "      <td>Orlando Sentinel, 9/19/2016</td>\n",
       "      <td>2016.09.18.c-NSB.pdf</td>\n",
       "      <td>http://sharkattackfile.net/spreadsheets/pdf_di...</td>\n",
       "      <td>http://sharkattackfile.net/spreadsheets/pdf_di...</td>\n",
       "      <td>2016.09.18.c</td>\n",
       "      <td>2016.09.18.c</td>\n",
       "      <td>5993</td>\n",
       "      <td>NaN</td>\n",
       "      <td>NaN</td>\n",
       "    </tr>\n",
       "    <tr>\n",
       "      <th>1</th>\n",
       "      <td>2016.09.18.b</td>\n",
       "      <td>18-Sep-16</td>\n",
       "      <td>2016</td>\n",
       "      <td>Unprovoked</td>\n",
       "      <td>USA</td>\n",
       "      <td>Florida</td>\n",
       "      <td>New Smyrna Beach, Volusia County</td>\n",
       "      <td>Surfing</td>\n",
       "      <td>Chucky Luciano</td>\n",
       "      <td>M</td>\n",
       "      <td>...</td>\n",
       "      <td>NaN</td>\n",
       "      <td>Orlando Sentinel, 9/19/2016</td>\n",
       "      <td>2016.09.18.b-Luciano.pdf</td>\n",
       "      <td>http://sharkattackfile.net/spreadsheets/pdf_di...</td>\n",
       "      <td>http://sharkattackfile.net/spreadsheets/pdf_di...</td>\n",
       "      <td>2016.09.18.b</td>\n",
       "      <td>2016.09.18.b</td>\n",
       "      <td>5992</td>\n",
       "      <td>NaN</td>\n",
       "      <td>NaN</td>\n",
       "    </tr>\n",
       "    <tr>\n",
       "      <th>2</th>\n",
       "      <td>2016.09.18.a</td>\n",
       "      <td>18-Sep-16</td>\n",
       "      <td>2016</td>\n",
       "      <td>Unprovoked</td>\n",
       "      <td>USA</td>\n",
       "      <td>Florida</td>\n",
       "      <td>New Smyrna Beach, Volusia County</td>\n",
       "      <td>Surfing</td>\n",
       "      <td>male</td>\n",
       "      <td>M</td>\n",
       "      <td>...</td>\n",
       "      <td>NaN</td>\n",
       "      <td>Orlando Sentinel, 9/19/2016</td>\n",
       "      <td>2016.09.18.a-NSB.pdf</td>\n",
       "      <td>http://sharkattackfile.net/spreadsheets/pdf_di...</td>\n",
       "      <td>http://sharkattackfile.net/spreadsheets/pdf_di...</td>\n",
       "      <td>2016.09.18.a</td>\n",
       "      <td>2016.09.18.a</td>\n",
       "      <td>5991</td>\n",
       "      <td>NaN</td>\n",
       "      <td>NaN</td>\n",
       "    </tr>\n",
       "    <tr>\n",
       "      <th>3</th>\n",
       "      <td>2016.09.17</td>\n",
       "      <td>17-Sep-16</td>\n",
       "      <td>2016</td>\n",
       "      <td>Unprovoked</td>\n",
       "      <td>AUSTRALIA</td>\n",
       "      <td>Victoria</td>\n",
       "      <td>Thirteenth Beach</td>\n",
       "      <td>Surfing</td>\n",
       "      <td>Rory Angiolella</td>\n",
       "      <td>M</td>\n",
       "      <td>...</td>\n",
       "      <td>NaN</td>\n",
       "      <td>The Age, 9/18/2016</td>\n",
       "      <td>2016.09.17-Angiolella.pdf</td>\n",
       "      <td>http://sharkattackfile.net/spreadsheets/pdf_di...</td>\n",
       "      <td>http://sharkattackfile.net/spreadsheets/pdf_di...</td>\n",
       "      <td>2016.09.17</td>\n",
       "      <td>2016.09.17</td>\n",
       "      <td>5990</td>\n",
       "      <td>NaN</td>\n",
       "      <td>NaN</td>\n",
       "    </tr>\n",
       "    <tr>\n",
       "      <th>4</th>\n",
       "      <td>2016.09.15</td>\n",
       "      <td>16-Sep-16</td>\n",
       "      <td>2016</td>\n",
       "      <td>Unprovoked</td>\n",
       "      <td>AUSTRALIA</td>\n",
       "      <td>Victoria</td>\n",
       "      <td>Bells Beach</td>\n",
       "      <td>Surfing</td>\n",
       "      <td>male</td>\n",
       "      <td>M</td>\n",
       "      <td>...</td>\n",
       "      <td>2 m shark</td>\n",
       "      <td>The Age, 9/16/2016</td>\n",
       "      <td>2016.09.16-BellsBeach.pdf</td>\n",
       "      <td>http://sharkattackfile.net/spreadsheets/pdf_di...</td>\n",
       "      <td>http://sharkattackfile.net/spreadsheets/pdf_di...</td>\n",
       "      <td>2016.09.16</td>\n",
       "      <td>2016.09.15</td>\n",
       "      <td>5989</td>\n",
       "      <td>NaN</td>\n",
       "      <td>NaN</td>\n",
       "    </tr>\n",
       "  </tbody>\n",
       "</table>\n",
       "<p>5 rows × 24 columns</p>\n",
       "</div>"
      ],
      "text/plain": [
       "    Case_Number       Date  Year        Type    Country      Area  \\\n",
       "0  2016.09.18.c  18-Sep-16  2016  Unprovoked        USA   Florida   \n",
       "1  2016.09.18.b  18-Sep-16  2016  Unprovoked        USA   Florida   \n",
       "2  2016.09.18.a  18-Sep-16  2016  Unprovoked        USA   Florida   \n",
       "3    2016.09.17  17-Sep-16  2016  Unprovoked  AUSTRALIA  Victoria   \n",
       "4    2016.09.15  16-Sep-16  2016  Unprovoked  AUSTRALIA  Victoria   \n",
       "\n",
       "                           Location Activity             Name Sex     ...      \\\n",
       "0  New Smyrna Beach, Volusia County  Surfing             male   M     ...       \n",
       "1  New Smyrna Beach, Volusia County  Surfing   Chucky Luciano   M     ...       \n",
       "2  New Smyrna Beach, Volusia County  Surfing             male   M     ...       \n",
       "3                  Thirteenth Beach  Surfing  Rory Angiolella   M     ...       \n",
       "4                       Bells Beach  Surfing             male   M     ...       \n",
       "\n",
       "     Species       Investigator_or_Source                        pdf  \\\n",
       "0        NaN  Orlando Sentinel, 9/19/2016       2016.09.18.c-NSB.pdf   \n",
       "1        NaN  Orlando Sentinel, 9/19/2016   2016.09.18.b-Luciano.pdf   \n",
       "2        NaN  Orlando Sentinel, 9/19/2016       2016.09.18.a-NSB.pdf   \n",
       "3        NaN           The Age, 9/18/2016  2016.09.17-Angiolella.pdf   \n",
       "4  2 m shark           The Age, 9/16/2016  2016.09.16-BellsBeach.pdf   \n",
       "\n",
       "                                        href_formula  \\\n",
       "0  http://sharkattackfile.net/spreadsheets/pdf_di...   \n",
       "1  http://sharkattackfile.net/spreadsheets/pdf_di...   \n",
       "2  http://sharkattackfile.net/spreadsheets/pdf_di...   \n",
       "3  http://sharkattackfile.net/spreadsheets/pdf_di...   \n",
       "4  http://sharkattackfile.net/spreadsheets/pdf_di...   \n",
       "\n",
       "                                                href Case_Number_1  \\\n",
       "0  http://sharkattackfile.net/spreadsheets/pdf_di...  2016.09.18.c   \n",
       "1  http://sharkattackfile.net/spreadsheets/pdf_di...  2016.09.18.b   \n",
       "2  http://sharkattackfile.net/spreadsheets/pdf_di...  2016.09.18.a   \n",
       "3  http://sharkattackfile.net/spreadsheets/pdf_di...    2016.09.17   \n",
       "4  http://sharkattackfile.net/spreadsheets/pdf_di...    2016.09.16   \n",
       "\n",
       "  Case_Number_2 original_order Unnamed:_22 Unnamed:_23  \n",
       "0  2016.09.18.c           5993         NaN         NaN  \n",
       "1  2016.09.18.b           5992         NaN         NaN  \n",
       "2  2016.09.18.a           5991         NaN         NaN  \n",
       "3    2016.09.17           5990         NaN         NaN  \n",
       "4    2016.09.15           5989         NaN         NaN  \n",
       "\n",
       "[5 rows x 24 columns]"
      ]
     },
     "execution_count": 246,
     "metadata": {},
     "output_type": "execute_result"
    }
   ],
   "source": [
    "#Para evitar errores, cambio el nombre de las columnas quitando espacios y puntos.\n",
    "\n",
    "data = data.rename(index=str, columns={\"Case Number\": \"Case_Number\", \"Sex \": \"Sex\", \n",
    "                                       \"Fatal (Y/N)\": \"Fatal_Y/N\", \"Species \": \"Species\",\n",
    "                                       \"Investigator or Source\": \"Investigator_or_Source\", \n",
    "                                       \"href formula\": \"href_formula\", \"Case Number.1\": \"Case_Number_1\", \n",
    "                                       \"Case Number.2\": \"Case_Number_2\",\n",
    "                                       \"original order\": \"original_order\", \"Unnamed: 22\": \"Unnamed:_22\", \n",
    "                                       \"Unnamed: 23\": \"Unnamed:_23\"})\n",
    "data.head()\n"
   ]
  },
  {
   "cell_type": "code",
   "execution_count": 247,
   "metadata": {},
   "outputs": [
    {
     "data": {
      "text/plain": [
       "Country                     43\n",
       "Area                       402\n",
       "Location                   496\n",
       "Activity                   527\n",
       "Name                       200\n",
       "Sex                        567\n",
       "Age                       2681\n",
       "Injury                      27\n",
       "Fatal_Y/N                   19\n",
       "Time                      3213\n",
       "Species                   2934\n",
       "Investigator_or_Source      15\n",
       "href_formula                 1\n",
       "href                         3\n",
       "Unnamed:_22               5991\n",
       "Unnamed:_23               5990\n",
       "dtype: int64"
      ]
     },
     "execution_count": 247,
     "metadata": {},
     "output_type": "execute_result"
    }
   ],
   "source": [
    "#Ahora miro las columnas que contienen valores nulos para saber qué columnas merece la pena eliminar.\n",
    "\n",
    "null_cols = data.isnull().sum()\n",
    "null_cols[null_cols > 0]\n"
   ]
  },
  {
   "cell_type": "code",
   "execution_count": 248,
   "metadata": {},
   "outputs": [
    {
     "name": "stdout",
     "output_type": "stream",
     "text": [
      "Number of duplicate records dropped:  0\n"
     ]
    }
   ],
   "source": [
    "#También procedo a chequear si existiera algún caso repetido y a eliminarlo, indicando cuántos casos han sido\n",
    "#eliminados.\n",
    "\n",
    "before = len(data)\n",
    "data = data.drop_duplicates()\n",
    "after = len(data)\n",
    "print('Number of duplicate records dropped: ', str(before - after))"
   ]
  },
  {
   "cell_type": "code",
   "execution_count": 249,
   "metadata": {},
   "outputs": [
    {
     "name": "stdout",
     "output_type": "stream",
     "text": [
      "53\n",
      "45\n",
      "13\n",
      "12\n",
      "2\n",
      "2\n"
     ]
    }
   ],
   "source": [
    "#En este paso, dado que sospecho que las columnas 'href_formula' y 'href', y las columnas 'Case_Number',\n",
    "#'Case_Number_1' y 'Case_Number_2 'son iguales respectivamente, hago una intersección entre dichas columnas\n",
    "#para ver en cuántos casos los valores en las diferentes columnas no están repetidos. \n",
    "\n",
    "data_href = data[['href_formula', 'href']]\n",
    "\n",
    "\n",
    "in_href_formula_not_in_href = list(set(data_href['href_formula'])-(set(data_href['href'])))\n",
    "in_href_not_in_href_formula = list(set(data_href['href'])-(set(data_href['href_formula'])))\n",
    "\n",
    "print(len(in_href_formula_not_in_href))\n",
    "print(len(in_href_not_in_href_formula))\n",
    "\n",
    "data_Case_Number_1 = data[['Case_Number', 'Case_Number_1']]\n",
    "\n",
    "\n",
    "in_Case_Number_not_in_Case_Number_1 = list(set(data_Case_Number_1['Case_Number'])-(set(data_Case_Number_1['Case_Number_1'])))\n",
    "in_Case_Number_1_not_in_Case_Number = list(set(data_Case_Number_1['Case_Number_1'])-(set(data_Case_Number_1['Case_Number'])))\n",
    "\n",
    "print(len(in_Case_Number_not_in_Case_Number_1))\n",
    "print(len(in_Case_Number_1_not_in_Case_Number))\n",
    "\n",
    "data_Case_Number_2 = data[['Case_Number', 'Case_Number_2']]\n",
    "\n",
    "\n",
    "in_Case_Number_not_in_Case_Number_2 = list(set(data_Case_Number_2['Case_Number'])-(set(data_Case_Number_2['Case_Number_2'])))\n",
    "in_Case_Number_2_not_in_Case_Number = list(set(data_Case_Number_2['Case_Number_2'])-(set(data_Case_Number_2['Case_Number'])))\n",
    "\n",
    "print(len(in_Case_Number_not_in_Case_Number_2))\n",
    "print(len(in_Case_Number_not_in_Case_Number_2))\n",
    "\n",
    "#En el resultado podemos comprobar que efectivamente hay muy pocos registros diferentes, lo cual indica que la\n",
    "#mayoría de los datos en estas columnas están repetidos.\n"
   ]
  },
  {
   "cell_type": "code",
   "execution_count": 250,
   "metadata": {},
   "outputs": [
    {
     "data": {
      "text/html": [
       "<div>\n",
       "<style scoped>\n",
       "    .dataframe tbody tr th:only-of-type {\n",
       "        vertical-align: middle;\n",
       "    }\n",
       "\n",
       "    .dataframe tbody tr th {\n",
       "        vertical-align: top;\n",
       "    }\n",
       "\n",
       "    .dataframe thead th {\n",
       "        text-align: right;\n",
       "    }\n",
       "</style>\n",
       "<table border=\"1\" class=\"dataframe\">\n",
       "  <thead>\n",
       "    <tr style=\"text-align: right;\">\n",
       "      <th></th>\n",
       "      <th>Year</th>\n",
       "      <th>Date</th>\n",
       "      <th>Country</th>\n",
       "      <th>Sex</th>\n",
       "      <th>Age</th>\n",
       "      <th>Fatal_Y/N</th>\n",
       "      <th>Activity</th>\n",
       "      <th>Type</th>\n",
       "      <th>Injury</th>\n",
       "    </tr>\n",
       "  </thead>\n",
       "  <tbody>\n",
       "    <tr>\n",
       "      <th>0</th>\n",
       "      <td>2016</td>\n",
       "      <td>18-Sep-16</td>\n",
       "      <td>USA</td>\n",
       "      <td>M</td>\n",
       "      <td>16</td>\n",
       "      <td>N</td>\n",
       "      <td>Surfing</td>\n",
       "      <td>Unprovoked</td>\n",
       "      <td>Minor injury to thigh</td>\n",
       "    </tr>\n",
       "    <tr>\n",
       "      <th>1</th>\n",
       "      <td>2016</td>\n",
       "      <td>18-Sep-16</td>\n",
       "      <td>USA</td>\n",
       "      <td>M</td>\n",
       "      <td>36</td>\n",
       "      <td>N</td>\n",
       "      <td>Surfing</td>\n",
       "      <td>Unprovoked</td>\n",
       "      <td>Lacerations to hands</td>\n",
       "    </tr>\n",
       "    <tr>\n",
       "      <th>2</th>\n",
       "      <td>2016</td>\n",
       "      <td>18-Sep-16</td>\n",
       "      <td>USA</td>\n",
       "      <td>M</td>\n",
       "      <td>43</td>\n",
       "      <td>N</td>\n",
       "      <td>Surfing</td>\n",
       "      <td>Unprovoked</td>\n",
       "      <td>Lacerations to lower leg</td>\n",
       "    </tr>\n",
       "    <tr>\n",
       "      <th>3</th>\n",
       "      <td>2016</td>\n",
       "      <td>17-Sep-16</td>\n",
       "      <td>AUSTRALIA</td>\n",
       "      <td>M</td>\n",
       "      <td>NaN</td>\n",
       "      <td>N</td>\n",
       "      <td>Surfing</td>\n",
       "      <td>Unprovoked</td>\n",
       "      <td>Struck by fin on chest &amp; leg</td>\n",
       "    </tr>\n",
       "    <tr>\n",
       "      <th>4</th>\n",
       "      <td>2016</td>\n",
       "      <td>16-Sep-16</td>\n",
       "      <td>AUSTRALIA</td>\n",
       "      <td>M</td>\n",
       "      <td>NaN</td>\n",
       "      <td>N</td>\n",
       "      <td>Surfing</td>\n",
       "      <td>Unprovoked</td>\n",
       "      <td>No injury: Knocked off board by shark</td>\n",
       "    </tr>\n",
       "  </tbody>\n",
       "</table>\n",
       "</div>"
      ],
      "text/plain": [
       "   Year       Date    Country Sex  Age Fatal_Y/N Activity        Type  \\\n",
       "0  2016  18-Sep-16        USA   M   16         N  Surfing  Unprovoked   \n",
       "1  2016  18-Sep-16        USA   M   36         N  Surfing  Unprovoked   \n",
       "2  2016  18-Sep-16        USA   M   43         N  Surfing  Unprovoked   \n",
       "3  2016  17-Sep-16  AUSTRALIA   M  NaN         N  Surfing  Unprovoked   \n",
       "4  2016  16-Sep-16  AUSTRALIA   M  NaN         N  Surfing  Unprovoked   \n",
       "\n",
       "                                  Injury  \n",
       "0                  Minor injury to thigh  \n",
       "1                   Lacerations to hands  \n",
       "2               Lacerations to lower leg  \n",
       "3           Struck by fin on chest & leg  \n",
       "4  No injury: Knocked off board by shark  "
      ]
     },
     "execution_count": 250,
     "metadata": {},
     "output_type": "execute_result"
    }
   ],
   "source": [
    "#En base al paso anterior, procedo a ir eliminando las columnas repetidas o con muchos valores nulos.\n",
    "\n",
    "data = data.drop(columns=['href', 'Case_Number_1', 'Case_Number_2', 'Unnamed:_22', 'Unnamed:_23', 'Time', \n",
    "                          'Species', 'Case_Number', 'Area', 'Location', 'Name', 'Investigator_or_Source', \n",
    "                          'pdf', 'href_formula', 'original_order'])\n",
    "\n",
    "column_order = ['Year', 'Date', 'Country', 'Sex', 'Age', 'Fatal_Y/N', 'Activity', 'Type', 'Injury']\n",
    "data = data[column_order]\n",
    "data.head()\n"
   ]
  },
  {
   "cell_type": "code",
   "execution_count": 251,
   "metadata": {},
   "outputs": [],
   "source": [
    "#En este paso, tras examinar los posibles valores de columnas en las que podría basar mi análisis, procedo a\n",
    "#limpiar los posibles valores que pueden tomar las variables.\n",
    "\n",
    "data['Country'] = data['Country'].str.title()\n",
    "data['Country'] = data['Country'].str.replace('?', '')\n",
    "data['Country'] = data['Country'].fillna(\"Unknown\")\n",
    "data['Country'] = data['Country'].str.replace('Palestinian Territories', 'Palestina')\n",
    "data['Country'] = data['Country'].str.replace('Between Portugal & India', 'Portugal / India')\n",
    "data['Country'] = data['Country'].str.replace('Ceylon (Sri Lanka)', 'Sri Lanka')\n",
    "data['Country'] = data['Country'].str.replace('British Isles', 'United Kingdom/Ireland')\n",
    "data['Country'] = data['Country'].str.replace(' Philippines', 'Philippines')\n",
    "\n",
    "data['Sex'] = data['Sex'].str.replace('M ', 'M')\n",
    "data['Sex'] = data['Sex'].str.replace('lli', 'Unknown')\n",
    "data['Sex'] = data['Sex'].str.replace('.', 'Unknown')\n",
    "data['Sex'] = data['Sex'].str.replace('N', 'Unknown')\n",
    "data['Sex'] = data['Sex'].fillna(\"Unknown\")\n",
    "\n",
    "data['Fatal_Y/N'] = data['Fatal_Y/N'].str.replace('N ', 'N')\n",
    "data['Fatal_Y/N'] = data['Fatal_Y/N'].str.replace('n', 'N')\n",
    "data['Fatal_Y/N'] = data['Fatal_Y/N'].str.replace(' N', 'N')\n",
    "data['Fatal_Y/N'] = data['Fatal_Y/N'].str.replace('#VALUE!', 'Unknown')\n",
    "data['Fatal_Y/N'] = data['Fatal_Y/N'].str.replace('F', 'Unknown')\n",
    "data['Fatal_Y/N'] = data['Fatal_Y/N'].str.replace('UNKNOWN', 'Unknown')\n",
    "data['Fatal_Y/N'] = data['Fatal_Y/N'].fillna(\"Unknown\")\n"
   ]
  },
  {
   "cell_type": "code",
   "execution_count": 252,
   "metadata": {},
   "outputs": [],
   "source": [
    "#Comienzo a filtrar los datos que quiero utilizar. En este caso, quiero analizar los ataques producidos en los\n",
    "#siglos XX y XXI.\n",
    "\n",
    "years = data[\"Year\"]\n",
    "drop_cols = list(years[years < 1900].index)\n",
    "data = data.drop(drop_cols, axis=0)\n",
    "#data['Year'].value_counts()\n"
   ]
  },
  {
   "cell_type": "code",
   "execution_count": 253,
   "metadata": {},
   "outputs": [
    {
     "data": {
      "text/plain": [
       "Usa                 1992\n",
       "Australia           1124\n",
       "South Africa         535\n",
       "Papua New Guinea     129\n",
       "Brazil               100\n",
       "New Zealand           94\n",
       "Bahamas               90\n",
       "Mexico                73\n",
       "Italy                 61\n",
       "Philippines           56\n",
       "Name: Country, dtype: int64"
      ]
     },
     "execution_count": 253,
     "metadata": {},
     "output_type": "execute_result"
    }
   ],
   "source": [
    "#Ahora me gutaría analizar los 3 países con mayor número de ataques, para saber cuál ha sido la distribución de los\n",
    "#ataques en base a diferentes categorías.\n",
    "\n",
    "ataque_pais = data['Country'].value_counts()\n",
    "ataque_pais.head(10)\n",
    "\n",
    "#Y como podemos observar por los resultados, los 5 países con más ataques son USA, Australia, South Africa, \n",
    "#Papua New Guinea y Brazil."
   ]
  },
  {
   "cell_type": "code",
   "execution_count": 254,
   "metadata": {},
   "outputs": [
    {
     "data": {
      "text/plain": [
       "M          80.170683\n",
       "F          15.110442\n",
       "Unknown     4.718876\n",
       "Name: Sex, dtype: float64"
      ]
     },
     "metadata": {},
     "output_type": "display_data"
    },
    {
     "data": {
      "text/plain": [
       "M          82.206406\n",
       "Unknown    11.476868\n",
       "F           6.316726\n",
       "Name: Sex, dtype: float64"
      ]
     },
     "metadata": {},
     "output_type": "display_data"
    },
    {
     "data": {
      "text/plain": [
       "M          83.925234\n",
       "Unknown    11.588785\n",
       "F           4.485981\n",
       "Name: Sex, dtype: float64"
      ]
     },
     "metadata": {},
     "output_type": "display_data"
    }
   ],
   "source": [
    "#En este primer escenario analizo cómo ha sido la distribución en porcentaje de los ataques según el sexo de la \n",
    "#víctima, lo cual nos podría dar una aproximación de cual es la tendencia entre sexos a realizar actividades\n",
    "#relacionadas con el mar.\n",
    "\n",
    "country_usa = data[(data['Country']=='Usa')]\n",
    "country_australia = data[(data['Country']=='Australia')]\n",
    "country_southafrica = data[(data['Country']=='South Africa')]\n",
    "\n",
    "sex_usa = country_usa['Sex'].value_counts()/(country_usa['Sex'].count())*100\n",
    "sex_australia = country_australia['Sex'].value_counts()/(country_australia['Sex'].count())*100\n",
    "sex_southafrica = country_southafrica['Sex'].value_counts()/(country_southafrica['Sex'].count())*100\n",
    "\n",
    "display(sex_usa)\n",
    "display(sex_australia)\n",
    "display(sex_southafrica)\n",
    "\n",
    "#Como podemos observar, en USA el porcentaje de víctimas hombres fue del 80% mientras que el de mujeres fue del 15%.\n",
    "#En el caso de Australia y de Sudáfrica los porcentajes fueron algo diferentes, siendo del 82% y 6% para Australia,\n",
    "#y del 84% y 4% en el caso de Sudáfrica, debido al número de \"Unkown\" en estos dos países.\n"
   ]
  },
  {
   "cell_type": "code",
   "execution_count": 260,
   "metadata": {},
   "outputs": [
    {
     "data": {
      "text/plain": [
       "0    Surfing\n",
       "dtype: object"
      ]
     },
     "metadata": {},
     "output_type": "display_data"
    },
    {
     "data": {
      "text/plain": [
       "0    Swimming\n",
       "dtype: object"
      ]
     },
     "metadata": {},
     "output_type": "display_data"
    },
    {
     "data": {
      "text/plain": [
       "0    Surfing\n",
       "dtype: object"
      ]
     },
     "metadata": {},
     "output_type": "display_data"
    },
    {
     "data": {
      "text/plain": [
       "0    Swimming\n",
       "dtype: object"
      ]
     },
     "metadata": {},
     "output_type": "display_data"
    },
    {
     "data": {
      "text/plain": [
       "0    Surfing\n",
       "dtype: object"
      ]
     },
     "metadata": {},
     "output_type": "display_data"
    },
    {
     "data": {
      "text/plain": [
       "0    Swimming\n",
       "dtype: object"
      ]
     },
     "metadata": {},
     "output_type": "display_data"
    }
   ],
   "source": [
    "#Aunque creo que el análisis anterior se queda un poco corto en cuanto a qué actividad realiza cada género, dado\n",
    "#que la peligrosidad de cada una no es la misma.\n",
    "\n",
    "usa_hombre = data[(data['Country']=='Usa') & \n",
    "                   (data['Sex']=='M')]\n",
    "\n",
    "usa_mujer = data[(data['Country']=='Usa') & \n",
    "                   (data['Sex']=='F')]\n",
    "\n",
    "australia_hombre = data[(data['Country']=='Australia') & \n",
    "                   (data['Sex']=='M')]\n",
    "\n",
    "australia_mujer = data[(data['Country']=='Australia') & \n",
    "                   (data['Sex']=='F')]\n",
    "\n",
    "sudaf_hombre = data[(data['Country']=='South Africa') & \n",
    "                   (data['Sex']=='M')]\n",
    "\n",
    "sudaf_mujer = data[(data['Country']=='South Africa') & \n",
    "                   (data['Sex']=='F')]\n",
    "                   \n",
    "#display(usa_hombre['Activity'].value_counts())\n",
    "#display(usa_mujer['Activity'].value_counts())\n",
    "\n",
    "display(usa_hombre['Activity'].mode())\n",
    "display(usa_mujer['Activity'].mode())\n",
    "\n",
    "display(australia_hombre['Activity'].mode())\n",
    "display(australia_mujer['Activity'].mode())\n",
    "\n",
    "display(sudaf_hombre['Activity'].mode())\n",
    "display(sudaf_mujer['Activity'].mode())\n",
    "\n",
    "#Así que ahora sabemos que la principal razón de los ataques a hombres fue el surf, mientras que en el caso\n",
    "#de las mujeres fue por nadar."
   ]
  },
  {
   "cell_type": "code",
   "execution_count": 256,
   "metadata": {},
   "outputs": [
    {
     "name": "stdout",
     "output_type": "stream",
     "text": [
      "De 1900 a 1920\n"
     ]
    },
    {
     "data": {
      "text/plain": [
       "0    Swimming\n",
       "dtype: object"
      ]
     },
     "metadata": {},
     "output_type": "display_data"
    },
    {
     "data": {
      "text/plain": [
       "0    Swimming\n",
       "dtype: object"
      ]
     },
     "metadata": {},
     "output_type": "display_data"
    },
    {
     "name": "stdout",
     "output_type": "stream",
     "text": [
      "De 1920 a 1940\n"
     ]
    },
    {
     "data": {
      "text/plain": [
       "0    Swimming\n",
       "dtype: object"
      ]
     },
     "metadata": {},
     "output_type": "display_data"
    },
    {
     "data": {
      "text/plain": [
       "0    Swimming\n",
       "dtype: object"
      ]
     },
     "metadata": {},
     "output_type": "display_data"
    },
    {
     "name": "stdout",
     "output_type": "stream",
     "text": [
      "De 1940 a 1960\n"
     ]
    },
    {
     "data": {
      "text/plain": [
       "0    Swimming\n",
       "dtype: object"
      ]
     },
     "metadata": {},
     "output_type": "display_data"
    },
    {
     "data": {
      "text/plain": [
       "0    Swimming\n",
       "dtype: object"
      ]
     },
     "metadata": {},
     "output_type": "display_data"
    },
    {
     "name": "stdout",
     "output_type": "stream",
     "text": [
      "De 1960 a 1980\n"
     ]
    },
    {
     "data": {
      "text/plain": [
       "0    Swimming\n",
       "dtype: object"
      ]
     },
     "metadata": {},
     "output_type": "display_data"
    },
    {
     "data": {
      "text/plain": [
       "0    Swimming\n",
       "dtype: object"
      ]
     },
     "metadata": {},
     "output_type": "display_data"
    },
    {
     "name": "stdout",
     "output_type": "stream",
     "text": [
      "De 1980 a 2000\n"
     ]
    },
    {
     "data": {
      "text/plain": [
       "0    Surfing\n",
       "dtype: object"
      ]
     },
     "metadata": {},
     "output_type": "display_data"
    },
    {
     "data": {
      "text/plain": [
       "0    Swimming\n",
       "dtype: object"
      ]
     },
     "metadata": {},
     "output_type": "display_data"
    },
    {
     "name": "stdout",
     "output_type": "stream",
     "text": [
      "De 2000 a 2015\n"
     ]
    },
    {
     "data": {
      "text/plain": [
       "0    Surfing\n",
       "dtype: object"
      ]
     },
     "metadata": {},
     "output_type": "display_data"
    },
    {
     "data": {
      "text/plain": [
       "0    Swimming\n",
       "dtype: object"
      ]
     },
     "metadata": {},
     "output_type": "display_data"
    }
   ],
   "source": [
    "#Y ahora paso a analizar los años para saber, desde 1900 hasta hoy, cuál ha sido el año con más ataques registrados.\n",
    "#Y como podemos ver en los resultados, los años con más ataques han sido a partir de los 2000.\n",
    "\n",
    "data['Year'].value_counts()\n",
    "\n",
    "#Además, también analizo la razón más común del ataque según ha pasado el tiempo, agrupando los ataques por décadas\n",
    "#y por género.\n",
    "\n",
    "attack_1920_man = data[(data['Year']>=1900) & (data['Year']<1920) & (data['Sex']=='M')]\n",
    "attack_1920_woman = data[(data['Year']>=1900) & (data['Year']<1920) & (data['Sex']=='F')]\n",
    "\n",
    "attack_1940_man = data[(data['Year']>=1920) & (data['Year']<1940) & (data['Sex']=='M')]\n",
    "attack_1940_woman = data[(data['Year']>=1920) & (data['Year']<1940) & (data['Sex']=='F')]\n",
    "\n",
    "attack_1960_man = data[(data['Year']>=1940) & (data['Year']<1960) & (data['Sex']=='M')]\n",
    "attack_1960_woman = data[(data['Year']>=1940) & (data['Year']<1960) & (data['Sex']=='F')]\n",
    "\n",
    "attack_1980_man = data[(data['Year']>=1960) & (data['Year']<1980) & (data['Sex']=='M')]\n",
    "attack_1980_woman = data[(data['Year']>=1960) & (data['Year']<1980) & (data['Sex']=='F')]\n",
    "\n",
    "attack_2000_man = data[(data['Year']>=1980) & (data['Year']<2000) & (data['Sex']=='M')]\n",
    "attack_2000_woman = data[(data['Year']>=1980) & (data['Year']<2000) & (data['Sex']=='F')]\n",
    "\n",
    "attack_2015_man = data[(data['Year']>=2000) & (data['Year']<2015) & (data['Sex']=='M')]\n",
    "attack_2015_woman = data[(data['Year']>=2000) & (data['Year']<2015) & (data['Sex']=='F')]\n",
    "\n",
    "print(\"De 1900 a 1920\")\n",
    "display(attack_1920_man['Activity'].mode())\n",
    "display(attack_1920_woman['Activity'].mode())\n",
    "\n",
    "print(\"De 1920 a 1940\")\n",
    "display(attack_1940_man['Activity'].mode())\n",
    "display(attack_1940_woman['Activity'].mode())\n",
    "\n",
    "print(\"De 1940 a 1960\")\n",
    "display(attack_1960_man['Activity'].mode())\n",
    "display(attack_1960_woman['Activity'].mode())\n",
    "\n",
    "print(\"De 1960 a 1980\")\n",
    "display(attack_1980_man['Activity'].mode())\n",
    "display(attack_1980_woman['Activity'].mode())\n",
    "\n",
    "print(\"De 1980 a 2000\")\n",
    "display(attack_2000_man['Activity'].mode())\n",
    "display(attack_2000_woman['Activity'].mode())\n",
    "\n",
    "print(\"De 2000 a 2015\")\n",
    "display(attack_2015_man['Activity'].mode())\n",
    "display(attack_2015_woman['Activity'].mode())\n",
    "\n",
    "#De los resultados podemos concluir que la principal razón de los ataques hasta la década de los 80 fue por nadar,\n",
    "#tanto para hombres como para mujeres. Es a partir de los 80 cuando la principal razón de los ataques a hombres es \n",
    "#el surfing."
   ]
  },
  {
   "cell_type": "code",
   "execution_count": 261,
   "metadata": {},
   "outputs": [
    {
     "data": {
      "text/plain": [
       "Country                     Fatal_Y/N\n",
       " Tonga                      N               1\n",
       "                            Y               2\n",
       "Admiralty Islands           N               1\n",
       "American Samoa              Y               3\n",
       "Andaman / Nicobar Islandas  Y               1\n",
       "Angola                      N               1\n",
       "Antigua                     N               1\n",
       "Argentina                   N               1\n",
       "Aruba                       Y               1\n",
       "Atlantic Ocean              N               8\n",
       "                            Y               4\n",
       "Australia                   N             836\n",
       "                            Unknown        25\n",
       "                            Y             263\n",
       "Azores                      N               4\n",
       "Bahamas                     N              82\n",
       "                            Y               8\n",
       "Bangladesh                  Y               1\n",
       "Barbados                    Y               2\n",
       "Bay Of Bengal               Y               1\n",
       "Belize                      N               1\n",
       "                            Y               1\n",
       "Bermuda                     N              11\n",
       "                            Unknown         1\n",
       "                            Y               2\n",
       "Brazil                      N              59\n",
       "                            Unknown         2\n",
       "                            Y              39\n",
       "British Virgin Islands      Y               1\n",
       "British West Indies         N               1\n",
       "                                         ... \n",
       "Tunisia                     N               1\n",
       "                            Unknown         1\n",
       "                            Y               1\n",
       "Turkey                      N               8\n",
       "                            Unknown         1\n",
       "                            Y               2\n",
       "Turks & Caicos              N               3\n",
       "                            Y               2\n",
       "United Arab Emirates        N               1\n",
       "United Arab Emirates (Uae)  N               2\n",
       "United Kingdom              N               8\n",
       "                            Y               2\n",
       "United Kingdom/Ireland      N               1\n",
       "Unknown                     N              11\n",
       "                            Unknown         1\n",
       "                            Y              10\n",
       "Uruguay                     N               1\n",
       "Usa                         N            1772\n",
       "                            Unknown        24\n",
       "                            Y             196\n",
       "Vanuatu                     N               3\n",
       "                            Unknown         1\n",
       "                            Y               7\n",
       "Venezuela                   N               6\n",
       "                            Y               3\n",
       "Vietnam                     N              11\n",
       "Western Samoa               Y               1\n",
       "Yemen                       Y               2\n",
       "Yemen                       N               1\n",
       "                            Unknown         1\n",
       "Length: 281, dtype: int64"
      ]
     },
     "execution_count": 261,
     "metadata": {},
     "output_type": "execute_result"
    }
   ],
   "source": [
    "#Ahora vamos a analizar cómo han sido de graves los ataques por país, según si han sido mortales o no.\n",
    "\n",
    "pais_peligroso = data.groupby(['Country', 'Fatal_Y/N']).size()\n",
    "pais_peligroso"
   ]
  },
  {
   "cell_type": "code",
   "execution_count": 258,
   "metadata": {},
   "outputs": [
    {
     "data": {
      "text/plain": [
       "Country       Fatal_Y/N\n",
       "Usa           N            1772\n",
       "Australia     N             836\n",
       "South Africa  N             415\n",
       "Australia     Y             263\n",
       "Usa           Y             196\n",
       "South Africa  Y             115\n",
       "dtype: int64"
      ]
     },
     "execution_count": 258,
     "metadata": {},
     "output_type": "execute_result"
    }
   ],
   "source": [
    "#Ahora vamos a analizar cómo han sido de graves los ataques en los países con más ataques.\n",
    "\n",
    "pais_peligroso = data.groupby(['Country', 'Fatal_Y/N']).size()\n",
    "pais_mas_peligroso = pais_peligroso.drop(pais_peligroso[pais_peligroso < 100].index)\n",
    "pais_mas_peligroso.sort_values(ascending=False)\n",
    "\n",
    "#En este caso, y a diferencia de antes, podemos observar que aunque USA es el país con más ataques, el país más\n",
    "#mortífero en caso de ataque es Australia, siendo mortífero en un 31% de los casos, porcentaje muy parecido al de\n",
    "#Sudáfrica, el cual es del 18%. Y aunque USA es el país con más ataques registrados, es el que menor tasa de muerte\n",
    "#presenta, con un 11% de los casos."
   ]
  },
  {
   "cell_type": "code",
   "execution_count": 259,
   "metadata": {},
   "outputs": [],
   "source": [
    "#Y por último procedo a exportar el archivo limpiado.\n",
    "\n",
    "cleaned = data.to_csv('cleaned.csv', index=False)"
   ]
  },
  {
   "cell_type": "code",
   "execution_count": null,
   "metadata": {},
   "outputs": [],
   "source": []
  }
 ],
 "metadata": {
  "kernelspec": {
   "display_name": "Python 3",
   "language": "python",
   "name": "python3"
  },
  "language_info": {
   "codemirror_mode": {
    "name": "ipython",
    "version": 3
   },
   "file_extension": ".py",
   "mimetype": "text/x-python",
   "name": "python",
   "nbconvert_exporter": "python",
   "pygments_lexer": "ipython3",
   "version": "3.7.2"
  }
 },
 "nbformat": 4,
 "nbformat_minor": 2
}
