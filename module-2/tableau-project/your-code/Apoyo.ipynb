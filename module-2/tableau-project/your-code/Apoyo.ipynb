{
 "cells": [
  {
   "cell_type": "markdown",
   "metadata": {},
   "source": [
    "# Material de apoyo"
   ]
  },
  {
   "cell_type": "code",
   "execution_count": 29,
   "metadata": {},
   "outputs": [],
   "source": [
    "import pymongo\n",
    "import re\n",
    "import pandas as pd\n",
    "import numpy as np\n",
    "import itertools\n",
    "\n",
    "MongoClient = pymongo.MongoClient\n",
    "client = MongoClient()\n",
    "db = client.companies"
   ]
  },
  {
   "cell_type": "code",
   "execution_count": 3,
   "metadata": {},
   "outputs": [
    {
     "name": "stdout",
     "output_type": "stream",
     "text": [
      "[['Fixya', 1], ['Whisper Labs', 0], ['CollegeConvo', 1], ['Carfeine', 1], ['Ziippi', 1], ['JumpForward', 1], ['Bling Easy', 0], ['Hany', 0], ['Navara', 1], ['PriceHub', 0], ['FamilyDen', 0], ['Yipit', 1], ['GroupTable', 0], ['Clowdy', 1], ['TwitBacks', 0], ['Unison Technologies', 1], ['Reachoo', 1], ['eCampusCash', 1], ['troovy', 0], ['FAT Media', 0], ['kinDragon', 1], ['zahdoo', 0], ['CompareChecker', 0], ['KarmaKorn', 0], ['Pitchie', 0]]\n"
     ]
    }
   ],
   "source": [
    "cursor = db.companies.find( { \n",
    "                            \"$and\": [\n",
    "                                    {\"$or\": [ \n",
    "                                            { \"category_code\": \"software\" }, \n",
    "                                            { \"category_code\": \"web\" },\n",
    "                                            { \"category_code\": \"consulting\" },\n",
    "                                            { \"category_code\": \"public_relations\" }\n",
    "                                    ]},\n",
    "                                    { \"founded_year\": {\"$gte\": 2010} },\n",
    "                                    { \"deadpooled_year\": None},\n",
    "                                    { \"$or\": [\n",
    "                                            {\"number_of_employees\": {\"$lte\": 100}},\n",
    "                                            {\"number_of_employees\": {\"$gte\": 1000}}\n",
    "                                    ] },\n",
    "                                    { \"$and\": [\n",
    "                                            {\"offices.latitude\": {\"$ne\": None}},\n",
    "                                            {\"offices.longitude\": {\"$ne\": None}}\n",
    "                            ] } ] } )\n",
    "#print(list(map(lambda r: convertCompany(r),cursor)))\n",
    "result = list(map(lambda r: [r[\"name\"], len(r[\"offices\"])],list(cursor)))\n",
    "print(result)"
   ]
  },
  {
   "cell_type": "code",
   "execution_count": 12,
   "metadata": {},
   "outputs": [
    {
     "name": "stdout",
     "output_type": "stream",
     "text": [
      "[['GoingOn', 1], ['headr', 2], ['Fixya', 1], ['First30Days', 1], ['PokerPlayersSocialNetwork', 1], ['thatsmymouse', 1], ['Tvosz', 1], ['Unknown Vector', 1], ['Poodz', 1], ['HealthcareMagic', 1], ['Stumpedia', 1], ['Newspond', 1], ['Scred', 1], ['Particle', 1], ['ZapNat', 1], ['nobosh', 1], ['Jpari', 1], ['Simplicant', 1], ['Wordki', 1], ['CreateDebate', 1], ['ReadBurner', 1], ['InformedMD', 1], ['Intent', 1], ['BuyerRaja', 1], ['Weplay', 1], ['Kalibera', 1], ['Woopra', 1], ['Noovo', 1], ['Recommend Box', 1], ['Learn10', 2], ['Weardrobe', 1], ['Cotendo', 2], ['GamerNook', 1], ['Twubble', 1], ['Edistorm', 2], ['FinFolio', 1], ['FragMob', 1], ['skoogO', 1], ['Jobingenieur', 1], ['Cutcaster', 1], ['TweetMeme', 1], ['Mad Mimi', 1], ['Beer Universe', 1], ['Macroaxis', 1], ['EQAL', 1], ['All-rankings', 1], ['Mollom', 1], ['Crowdstatus', 1], ['Imagine Whatever', 1], ['Sideline Report', 1], ['WotsCool', 1], ['UserVoice', 2], ['The Publicity Wheel', 1], ['New Relic', 1], ['Audana', 1], ['Tensor Media', 1], ['Park Hill', 1], ['CogCog', 1], ['Traxtuff', 1], ['uLiken', 1], ['FuelClinic', 1], ['FRoSP', 1], ['College Mogul', 1], ['Moosti', 1], ['SmashingFeeds', 1], ['Jupidi', 1], ['JumpFrog', 1], ['Mangaroo Media', 1], ['Worship Journal', 1], ['Pollenizer', 1], ['Mouth Watering Media', 1], ['Blazing Bid', 1], ['Pricicle', 1], ['Spoonflower', 1], ['Ovologic', 1], ['Socruise', 1], ['wagehub', 1], ['SFentrepreneur', 1], ['Pinch Media', 1], ['Plurk', 1], ['PRunderground', 1], ['Ucareer', 1], ['Manam Infotech', 1], ['DormTrader', 1], ['MESOMOCO', 1], ['Sazell', 1], ['Wazzala', 1], ['NitroDesk', 1], ['Monkiri', 1], ['BrandYourself', 1], ['Strateer', 1], ['Ladies Who Launch', 1], ['CollegeConvo', 1], ['iPlaceBook', 1], ['Afrizi', 1], ['Restyleme', 1], ['PerfectBusiness', 1], ['Estilook', 1], ['JustUptime', 1], ['Genkii', 2], ['Passitto', 1], ['Carfeine', 1], ['Ziippi', 1], ['Jobs4uInKent', 1], ['Pink Banana Media', 1], ['Geekdom', 1], ['BitRock', 1], ['Xilinus', 1], ['Kagtum', 1], ['Aurus IT Solutions', 1], ['EventElephant', 2], ['oybuzz', 1], ['CreActivity Focus', 1], ['Forvo', 1], ['Uprizer Labs', 1], ['QRIU', 1], ['JumpForward', 1], ['Mobile Teleshoppe', 3], ['Posterous', 1], ['Primemaths', 1], ['SNASM', 1], ['Jetrecord', 1], ['Open Places', 1], ['Widgenie', 1], ['TweetDeck', 1], ['vunite media', 1], ['Alltop', 1], ['Ninth Yard', 1], ['Regator', 1], ['iDiscipulus', 1], ['Willard John Thomas Associates', 4], ['Prolebrity', 1], ['The Drum Fill', 1], ['Wahanda', 2], ['Swades Solutions', 1], ['EcoFlip', 1], ['iFlaker', 1], ['Tripy Travel', 1], ['Rock Entertainment', 1], ['Expertsoft', 1], ['MedicareSaver', 1], ['Blinkweb', 1], ['InstantAmber', 1], ['Dynamic50', 1], ['Qajack', 1], ['15Talents', 1], ['Jibes', 1], ['OpenDrive', 1], ['WorkoutBOX', 1], ['84ideas', 1], ['FoodCare', 1], ['MetaSieve', 1], ['Qovax', 1], ['Samfind', 1], ['Relativity', 1], ['Handcrafted', 1], ['Ratemyideas', 1], ['InterviewBest', 1], ['Tweenky', 1], ['PRnine', 1], ['PitchEngine', 1], ['Carl Diver Advanced Manufacturing Consulting', 1], ['Click2Map', 1], ['Garena', 4], ['BeLocal', 1], ['RankBoom', 1], ['CompareAway', 1], ['want2do', 1], ['LocalPrice', 1], ['Fiisoft', 1], ['SchoolPulse', 1], ['Videonewmedia', 1], ['TuneyFish', 1], ['retaggr', 1], ['Same Page Capital', 1], ['YellowSpaces', 1], ['RevJobs', 1], ['Spellspace', 1], ['Localist', 1], ['Classtell', 1], ['Orinea', 2], ['TheWebService', 1], ['TwitterCounter', 1], ['Stack Exchange', 1], ['Digital ReveNew', 2], ['App Store Apps', 1], ['Strider SEO', 2], ['Sendible', 1], ['Plum Amazing', 1], ['Occipital', 1], ['eTalkup', 1], ['Twffaha', 1], ['Cityflats4you', 1], ['NewMarCom', 1], ['cosinity', 1], ['IdenIve', 1], ['Thomson Reuters', 1], ['Twonq', 2], ['Producteev', 1], ['The Impartial Observer', 1], ['eLagaan', 2], ['Papervitamins', 2], ['CropMom', 1], ['Twittad', 2], ['911ice', 1], ['IncSpring', 1], ['splaht!', 1], ['Spare Change Payments', 1], ['Jorbb', 1], ['Dooit', 1], ['Shastic', 1], ['Lolapps', 1], ['Call Me Later', 1], ['SnapPages', 1], ['TickerGram', 1], ['UpdateStar', 1], ['uTag', 1], ['ContestMachine', 1], ['Avazed', 1], ['Samepoint', 1], ['BaseKit Platform', 1], ['AUPEO!', 2], ['YellowSpaces', 1], ['RevJobs', 1], ['Spellspace', 1], ['Localist', 1], ['Classtell', 1], ['TheWebService', 1], ['Orinea', 2], ['TwitterCounter', 1], ['Stack Exchange', 1], ['Digital ReveNew', 2], ['App Store Apps', 1], ['Strider SEO', 2], ['Sendible', 1], ['eTalkup', 1], ['Plum Amazing', 1], ['Occipital', 1], ['Twffaha', 1], ['Cityflats4you', 1], ['NewMarCom', 1], ['cosinity', 1], ['Thomson Reuters', 1], ['IdenIve', 1], ['Twonq', 2], ['Producteev', 1], ['eLagaan', 2], ['The Impartial Observer', 1], ['Papervitamins', 2], ['CropMom', 1], ['Twittad', 2], ['911ice', 1], ['IncSpring', 1], ['splaht!', 1], ['Spare Change Payments', 1], ['Jorbb', 1], ['Dooit', 1], ['Shastic', 1], ['Lolapps', 1], ['Call Me Later', 1], ['SnapPages', 1], ['TickerGram', 1], ['UpdateStar', 1], ['uTag', 1], ['ContestMachine', 1], ['Avazed', 1], ['Samepoint', 1], ['BaseKit Platform', 1], ['AUPEO!', 2], ['IT Stocklist', 1], ['Rethink SEO', 1], ['TimeRime', 1], ['Cliqset', 1], ['DealBase Corporation', 1], ['FriendFeedHolic', 1], ['WWCTN', 1], ['Notifixious', 2], ['Magoosh', 1], ['NUresume', 1], ['perceptu', 2], ['FreeTreeTravel', 1], ['Junkaloo', 1], ['Toputop', 1], ['Curbsidebooty', 1], ['T-Cast Media Consulting', 1], ['Sendloop', 1], ['SocialMoms', 2], ['SocialTwist', 2], ['Glued Network', 1], ['Flexidea Software', 1], ['DandyID', 1], ['PeoplePad', 1], ['Groupon', 4], ['Mobelux', 1], ['LoadStorm', 1], ['Extrakoll', 1], ['Navara', 1], ['BuzzStream', 1], ['findwell', 1], ['Hirewall', 1], ['Scrumy', 1], ['Calameo', 1], ['Visuamobile', 1], ['fotoglif', 1], ['iKlax Media', 1], ['TVLesson', 1], ['Vengeo', 1], ['FanSpan', 1], ['Cybon', 1], ['NessDex', 1], ['Sailthru', 1], ['Prefio', 1], ['Expand Online', 1], ['VIrtualVu', 1], ['Bleacher Advisor', 1], ['BuzzGain', 2], ['MEDIAmobz', 1], ['Buzzr', 1], ['Pongr', 2], ['StellarSurvey', 1], ['Maptimize', 1], ['Formspring', 1], ['RGA Advisors, LLC', 2], ['UptimeArchive', 1], ['FACEinHOLE', 1], ['ActiveWIT', 1], ['Blog to it', 1], ['CarZen', 1], ['IMScouting', 1], ['CVs Bank', 1], ['uberVU', 2], ['Stupeflix', 2], ['TicoIT', 1], ['Kwanzoo', 1], ['CityPorters', 1], ['GC Marshall', 1], ['Dynamical Software', 1], ['Rubysophic', 1], ['WJT Global Solutions', 5], ['Cookstr', 1], ['IFXworks', 1], ['Yipit', 1], ['PornLikeThat', 1], ['Tivix', 1], ['Virgance', 1], ['Sensidea', 1], ['booksRhere', 1], ['DubaiJobber', 1], ['NewDocs', 1], ['FHOKE', 1], ['TechPluto', 1], ['148Apps', 1], ['ForGrabs', 1], ['Aghreni Technologies', 2], ['DreamBank', 1], ['Allure Media', 1], ['aladom', 2], ['Commentag', 1], ['Dorman Media', 1], ['LifeMojo', 1], ['Ascribe', 1], ['Balsamiq', 1], ['Aligned Global', 1], ['Clowdy', 1], ['iStockCV', 1], ['SocialToo', 1], ['cago', 1], ['PocketSmith', 1], ['DoggieInk', 1], ['Double Encore', 1], ['Oggle Interactive', 1], ['Herrmann NA', 1], ['Carsala', 1], ['Mortgages and Loans Ireland', 1], ['Tiiptop', 1], ['GoalsOnTrack', 1], ['Wipee List', 1], ['Speedchecker', 1], ['Blue Parabola', 1], ['Tadlock Enterprises', 2], ['Extanz', 1], ['PostMapper', 1], ['BookingBug', 1], ['Broadband Comparison Limited', 1], ['Workosaur', 1], ['Ethervision', 1], ['People Capital', 1], ['Fitnio', 1], ['JobsTAXI', 1], ['Planzone', 1], ['Montclair Advisors', 1], ['MarketRiders', 1], ['Foundry Interactive', 1], ['Guaranteach', 1], ['TrackMyPeople', 1], ['Renterval', 1], ['Analytix On Demand', 3], ['gliider', 1], ['Suggestions 4 Obama', 1], ['Grapevine Talk', 2], ['Woonky', 1], ['Weddingdates', 1], ['Circle of Moms', 1], ['Logicbowl', 1], ['Heralsoft', 1], ['able2know', 1], ['Unison Technologies', 1], ['Nameow', 1], ['Kro IT Solutions', 1], ['First on Mars', 1], ['Voyij', 1], ['Diverse Ventures', 1], ['Friendsta', 1], ['Webzzle', 2], ['Urbantastic!', 1], ['MPLOYR', 1], ['NextStep Directory', 1], ['CloudBerry Lab', 1], ['The Lost Jacket', 1], ['Reachoo', 1], ['popdat', 1], ['ZimpleMoney', 1], ['Professional Blog Service', 1], ['Ample', 1], ['Stax Networks', 1], ['StockTwits', 1], ['FutureTap', 1], ['Krabi ja Mask', 1], ['Implied Solutions', 1], ['CtoJ', 1], ['Revenue Architects', 1], ['Fachak', 1], ['TrekCafe', 1], ['Userspots', 1], ['JumpFox', 1], ['xzapps', 1], ['Wellesley Media', 1], ['MixMyGranola', 1], ['CodeLean', 2], ['Webstrong', 1], ['WebDNA Software Corporation', 1], ['Zephyr Financial Technologies', 1], ['espor', 1], ['Tsavo Agency', 1], ['C2G', 1], ['MediaWheel', 1], ['Inventwheel', 1], ['RJMetrics', 1], ['Do You Wanna Hook Up?', 1], ['GymFu', 1], ['Virb', 2], ['facelovefinder', 1], ['CureTogether', 1], ['Demotix', 1], ['TwittBot', 1], ['eCampusCash', 1], ['Datacipher Solutions', 1], ['TryMyFashion', 1], ['IAmInTown', 1], ['Ricochets Interactive', 1], ['The DailyDust', 1], ['iugo', 2], ['MacMedic PRO', 1], ['Pixel Spills', 1], ['Lymabean', 1], ['ZeroTouch', 1], ['Flowz', 1], ['ORY Software', 1], ['Trutoon', 1], ['Otalo', 1], ['Digital Meld', 1], ['CalendarFly', 1], ['One did it', 1], ['TalentEgg', 1], ['Twtapps', 1], ['Trustworthy', 1], ['eShark Network', 1], ['52prints', 2], ['ETAPIX Global', 1], ['Blellow', 1], ['Feedscrub', 1], ['Lottay', 1], ['Ceylon Solutions', 2], ['sexietv', 1], ['OutlookCloud', 1], ['AdJuggler', 1], ['AssureSign', 1], ['SmallBusinessExpo', 1], ['Pacecode Technologies', 1], ['Fund Mojo', 1], ['Sixteen Ventures', 1], ['GrouperEye', 1], ['XLabz Technologies', 1], ['Dean Marshall Consultancy', 2], ['Onista', 1], ['Creative Commons Company', 1], ['trafficjam', 1], ['Enough Pepper', 1], ['iplotz', 1], ['trekaroo', 1], ['midVentures', 1], ['DooShare', 1], ['Leximo', 1], ['Ruby50', 1], ['Pistachio Consulting', 1], ['KODA', 2], ['Fredlund Media', 1], ['Zankyou', 2], ['Interacto', 1], ['Asurrent', 1], ['Ontology2', 1], ['Amplified Analytics', 1], ['TagMyEvent', 1], ['alteregoweb', 1], ['Centillion', 1], ['TalentEquity Solutions', 1], ['AdventureDrop', 1], ['CollectiveSys', 1], ['Black Ninja Software', 1], ['Showtime Studios', 1], ['HTMLcut', 1], ['JobsByRef', 1], ['kinDragon', 1], ['D-Modules', 1], ['Gengo', 2], ['HREF', 1], ['SEO Komodo', 1], ['Zapproved', 1], ['FlowMingle', 1], ['Mobiata', 1], ['CanvasGrafix', 1], ['Mapplr', 1], ['EchoCurrent Software', 1], ['Carmony', 1], ['Money Dashboard', 1], ['StickyPages', 1], ['PerSquareFeet', 1], ['Tabdeelee', 1], ['Rouse Media', 1], ['ExpertHub', 1], ['Neutron Creations', 1], ['studdex', 1], ['Tinychat', 1], ['Transifex', 1], ['iCelebrate', 1], ['StarWind Software', 1], ['Hireglyphics', 1], ['Wine by the Bar', 1], ['VEO Media Vietnam', 1], ['Gurutoy', 1], ['Purebred Network', 1], ['Interlaced Systems', 1], ['Frontier Service Design', 1], ['Startup Revival', 1], ['Coupon Tweet', 1], ['CitySpur', 1], ['SeatKarma', 1], ['AppZero', 1], ['howsimple', 1], ['PebbleForge', 1], ['TwitterCorp', 1], ['Scrobl', 1], ['Open Web Technology', 1], ['The Vertical Action Group', 1], ['Optify', 1], ['BrandFolium Corporation', 1], ['Viridity Software', 1], ['Wee Web', 1], ['VS Lab', 1], ['Topify', 1], ['rent2friend', 1], ['VideoCustomizer', 2], ['IGLOO Software', 1], ['Dinsk', 1], ['VitalLock', 1], ['Sentry Parental Controls', 1], ['Honk', 1], ['OBE Pro', 1], ['Gifteer', 1], ['Scopial Fashions', 1], ['IrishCentral', 1], ['Veridictus Associates', 1], ['Cuteness Pet Community', 1], ['yiid', 1], ['Aureliant', 1], ['Pitchero', 1], ['StartUpHire', 1], ['Habidoo', 1], ['JoggingBuddy', 1], ['The Magnetic Think', 1], ['Telegram Stop', 1], ['Fotomina', 1], ['StickyStreet', 3], ['Dataresolve Technologies', 1], ['CMS Critic', 1], ['Setster', 1], ['AmberBit', 1], ['ProtoShare', 1], ['GameChanger Media', 1], ['Reverb Technologies', 1], ['Ashe Media Holdings', 1], ['SwapBeats', 1], ['Gate 53|10 Technologies', 1], ['Visitcars', 1], ['RockDex', 2], ['Ranker', 1], ['Tongal', 1], ['Touch Ahead Software', 1], ['Neovada', 1], ['ShopaService', 1], ['Link Trigger', 1], ['iPlanmaker', 1], ['Ralooka', 1], ['Blog Traffic Exchange', 1], ['LAGrapeVine', 1], ['TweetPhoto', 1], ['Hubwiz', 1], ['crush tweet', 1], ['Aigc middleast', 2], ['Synonym', 2], ['Think Orange', 1], ['Loop11', 1], ['Trigora', 1], ['upad', 1], ['Smallaa', 1], ['CineSoft', 1], ['Joobili', 1], ['Restox', 1], ['Antelink', 1], ['Phase 3 Solution', 1], ['BoardEvals', 1], ['MyHandle', 1], ['djacap', 2], ['watercompare', 1], ['Jumbilo', 1], ['Insurance4everyone', 1], ['Cubedroute', 2], ['Feng Office', 1], ['THE SYSTEM ARCHITECT', 1], ['Fresh !', 1], ['Compel Interaction', 3], ['Knag Enterprises', 1], ['Tweenjo', 1], ['psychiatryRounds', 1], ['Atenea tech', 1], ['Online Outbox', 1], ['Wijng', 1], ['Space Spare', 1], ['Lunch', 1], ['Webteilchen', 1], ['WEBITO MARKETING GROUP', 1], ['TrialX', 1], ['quoobs', 1], ['TikiWade', 1], ['1calendar', 2], ['Milo', 1], ['Belighted', 1], ['SNV InfoTech', 1], ['all140', 1], ['HariOmTechnologies', 1], ['Imakumo', 1], ['AlphaPoint Technology', 1], ['Proudcloud', 1], ['Buildify', 1], ['GroupieGuide', 1], ['Ahlera', 1], [\"KIDO'Z\", 1], ['Aikon Labs', 1], ['Krumlr', 1], ['PaperSports', 1], ['Intellwiz', 1], ['Paydro', 1], ['Worky', 1], ['Servo Software', 1], ['Varsity Outreach', 1], ['Best Biddy', 1], ['Ajiel', 2], ['OCTALINE', 1], [\"Book'd\", 1], ['makandra', 1], ['KnowEm', 1], ['Statugle', 1], ['DP7 Digital', 2], ['Lending Stream', 1], ['Wetoku', 1], ['JustProto', 1], ['NecesCity', 1], ['World on a Hanger', 1], ['Fan', 1], ['ToolzDO', 1], ['Open Travel', 1], ['ReSolutions LLC', 1], ['Bueno Inc', 1], ['CodeLathe', 1], ['jamWee', 1], ['Hostarting', 1], ['Centic', 1], ['expertnews', 1], ['CardStar', 2], ['Flaggpole', 1], ['Pixlr', 1], ['ReferenceBot', 1], ['gpa software inc', 1], ['The Resumator', 1], ['Sponty', 1], ['Funnela', 1], ['AppUseful', 1], ['Blurtt', 1], ['ROLUSTECH', 1], ['ServiceSphere', 3], ['folowen', 1], ['IndiaOnAPage', 1], ['Manager Labs', 1], ['InRev', 1], ['ArtNeighbor', 1], ['Nalts Consulting', 1], ['Primediart', 1], ['sipgate', 1], ['Movip', 1], ['OnePage', 1], ['Exploroo Pty Ltd', 1], ['Xamplified', 1], ['TechFilipino', 1], ['FindandSmile', 1], ['Udorse', 1], ['YesOrNow', 1], ['Zookel', 1], ['HURRYCAM', 1], ['Engagement Systems', 1], ['Quantum Whisper', 1], ['Bar Exchange', 1], ['goalster', 1], ['Finest Expert', 1], ['Nirvana', 1], ['Buddingup', 1], ['ZIPQODE', 1], ['Eventric', 1], ['One Simple Move', 1], ['BigTree Solutions', 1], ['Strategist News', 1], ['Disrupto', 1], ['Talenthouse', 2], ['Tepilo', 1], ['Vizerra', 1], ['HomePros', 1], ['Ykone', 1], ['Novelty Systems', 2], ['ResuWe', 1], ['Startlike', 1], ['tiggin', 1], ['Echoes Kazulo', 1], ['Enternships', 1], ['B32TRUST', 1], ['Kimengi', 1], ['Joroto', 1], ['Kvittar', 1], ['Peekspy', 1], ['OnlineMQ', 1], ['Taxi Fares app', 1], ['DoNanza', 1], ['DSwiss', 1], ['LIG Investment Advisers', 1], ['Lipperhey', 1], ['One Billion Minds', 2], ['Waveative', 1], ['CrowdGather', 1], ['Amrita Financial', 1], ['Vortimer', 1], ['Abillo', 2], ['ubigrate', 1], ['140Ware', 1], ['Asyus', 1], [\"How's the bar?\", 1], ['Dystopia Studios', 1], ['ChallengePost', 1], ['Kear IT', 1], ['StyleCaster', 1], ['Dialogs Unlimited', 1], ['Outspoken Media', 1], ['Teambox', 2], ['flexjex', 1], ['SalesInsight', 1], ['Testplant', 2], ['famebook', 4], ['Cogzidel Technologies', 2], ['Culture Jam', 1], ['Inq Mobile', 2], ['ftopia', 1], ['Tiverias Apps', 1], ['HOTForms123', 1], ['Luma International', 4], ['Continuity Engine', 1], ['Flatterline', 1], ['Conversition', 1], ['atlanticOptimize', 1], ['ConvoCreatr', 1], ['SEO Sumo', 1], ['iGuiders', 1], ['MyChances', 2], ['DocASAP', 1]]\n"
     ]
    }
   ],
   "source": [
    "cursor = db.companies.find( { \n",
    "                            \"$and\": [\n",
    "                                    {\"$or\": [ \n",
    "                                            { \"category_code\": \"software\" }, \n",
    "                                            { \"category_code\": \"web\" },\n",
    "                                            { \"category_code\": \"consulting\" },\n",
    "                                            { \"category_code\": \"public_relations\" }\n",
    "                                    ]},\n",
    "                                    { \"founded_year\": {\"$gte\": 2008} },\n",
    "                                    { \"deadpooled_year\": None},\n",
    "                                    { \"$or\": [\n",
    "                                            { \"number_of_employees\": {\"$lte\": 100} },\n",
    "                                            { \"number_of_employees\": {\"$gte\": 1000} }\n",
    "                                    ] },\n",
    "                                    { \"offices\": { \"$exists\": True, \"$ne\": [] } }\n",
    "                            ] } )\n",
    "#print(list(map(lambda r: convertCompany(r),cursor)))\n",
    "result = list(map(lambda r: [r[\"name\"], len(r[\"offices\"])],list(cursor)))\n",
    "print(result)"
   ]
  },
  {
   "cell_type": "code",
   "execution_count": 37,
   "metadata": {},
   "outputs": [
    {
     "data": {
      "text/plain": [
       "[{'name': 'GoingOn',\n",
       "  'sector': 'software',\n",
       "  'twitter_account': 'GoingOn_Network',\n",
       "  'position': (37.782263, -122.392142)}]"
      ]
     },
     "execution_count": 37,
     "metadata": {},
     "output_type": "execute_result"
    }
   ],
   "source": [
    "#def toGeoJSON(array):\n",
    "#    lista = []\n",
    " #   for i in range(len(array)):\n",
    " #       lista.append( {\n",
    "  #          \"type\":\"Point\",\n",
    "   #         \"coordinates\":[(array[i][\"latitude\"]), (array[i][\"longitude\"])]\n",
    "   #     })\n",
    " #   return lista\n",
    "\n",
    "def convertCompany(company):\n",
    "    lista = []\n",
    "    for i in range(len(company[\"offices\"])):\n",
    "        lista.append( {\n",
    "            \"name\": company[\"name\"],\n",
    "            \"sector\":company[\"category_code\"],\n",
    "            \"twitter_account\": company[\"twitter_username\"],\n",
    "            \"position\": (company[\"offices\"][i][\"latitude\"], company[\"offices\"][i][\"longitude\"])\n",
    "        })\n",
    "    #merged = list(itertools.chain(*lista))\n",
    "    return lista\n",
    "\n",
    "cursor = db.companies.find( { \n",
    "                            \"$and\": [\n",
    "                                    {\"$or\": [ \n",
    "                                            { \"category_code\": \"software\" }, \n",
    "                                            { \"category_code\": \"web\" },\n",
    "                                            { \"category_code\": \"consulting\" },\n",
    "                                            { \"category_code\": \"public_relations\" }\n",
    "                                    ]},\n",
    "                                    { \"founded_year\": {\"$gte\": 2008} },\n",
    "                                    { \"deadpooled_year\": None},\n",
    "                                    { \"$or\": [\n",
    "                                            { \"number_of_employees\": {\"$lte\": 100} },\n",
    "                                            { \"number_of_employees\": {\"$gte\": 1000} }\n",
    "                                    ] },\n",
    "                                    { \"offices\": { \"$exists\": True, \"$ne\": [] } }\n",
    "                            ] } )\n",
    "geoCompanies = list(map(lambda r: convertCompany(r),cursor))\n",
    "geoCompanies[0]\n"
   ]
  },
  {
   "cell_type": "code",
   "execution_count": 89,
   "metadata": {},
   "outputs": [
    {
     "data": {
      "text/html": [
       "<div>\n",
       "<style scoped>\n",
       "    .dataframe tbody tr th:only-of-type {\n",
       "        vertical-align: middle;\n",
       "    }\n",
       "\n",
       "    .dataframe tbody tr th {\n",
       "        vertical-align: top;\n",
       "    }\n",
       "\n",
       "    .dataframe thead th {\n",
       "        text-align: right;\n",
       "    }\n",
       "</style>\n",
       "<table border=\"1\" class=\"dataframe\">\n",
       "  <thead>\n",
       "    <tr style=\"text-align: right;\">\n",
       "      <th></th>\n",
       "      <th>name</th>\n",
       "      <th>position</th>\n",
       "      <th>sector</th>\n",
       "      <th>twitter_account</th>\n",
       "    </tr>\n",
       "  </thead>\n",
       "  <tbody>\n",
       "    <tr>\n",
       "      <th>0</th>\n",
       "      <td>GoingOn</td>\n",
       "      <td>{'type': 'Point', 'coordinates': [-122.392142,...</td>\n",
       "      <td>software</td>\n",
       "      <td>GoingOn_Network</td>\n",
       "    </tr>\n",
       "    <tr>\n",
       "      <th>1</th>\n",
       "      <td>headr</td>\n",
       "      <td>{'type': 'Point', 'coordinates': [13.4109071, ...</td>\n",
       "      <td>web</td>\n",
       "      <td>tripodsocial</td>\n",
       "    </tr>\n",
       "    <tr>\n",
       "      <th>2</th>\n",
       "      <td>Fixya</td>\n",
       "      <td>{'type': 'Point', 'coordinates': [-122.323895,...</td>\n",
       "      <td>web</td>\n",
       "      <td>MUaliyu</td>\n",
       "    </tr>\n",
       "    <tr>\n",
       "      <th>3</th>\n",
       "      <td>First30Days</td>\n",
       "      <td>{'type': 'Point', 'coordinates': [-85.717393, ...</td>\n",
       "      <td>web</td>\n",
       "      <td>clickariane</td>\n",
       "    </tr>\n",
       "    <tr>\n",
       "      <th>4</th>\n",
       "      <td>PokerPlayersSocialNetwork</td>\n",
       "      <td>{'type': 'Point', 'coordinates': [-122.187925,...</td>\n",
       "      <td>web</td>\n",
       "      <td></td>\n",
       "    </tr>\n",
       "  </tbody>\n",
       "</table>\n",
       "</div>"
      ],
      "text/plain": [
       "                        name  \\\n",
       "0                    GoingOn   \n",
       "1                      headr   \n",
       "2                      Fixya   \n",
       "3                First30Days   \n",
       "4  PokerPlayersSocialNetwork   \n",
       "\n",
       "                                            position    sector  \\\n",
       "0  {'type': 'Point', 'coordinates': [-122.392142,...  software   \n",
       "1  {'type': 'Point', 'coordinates': [13.4109071, ...       web   \n",
       "2  {'type': 'Point', 'coordinates': [-122.323895,...       web   \n",
       "3  {'type': 'Point', 'coordinates': [-85.717393, ...       web   \n",
       "4  {'type': 'Point', 'coordinates': [-122.187925,...       web   \n",
       "\n",
       "   twitter_account  \n",
       "0  GoingOn_Network  \n",
       "1     tripodsocial  \n",
       "2          MUaliyu  \n",
       "3      clickariane  \n",
       "4                   "
      ]
     },
     "execution_count": 89,
     "metadata": {},
     "output_type": "execute_result"
    }
   ],
   "source": [
    "def toGeoJSON(array):\n",
    "    return {\n",
    "        \"type\":\"Point\",\n",
    "        \"coordinates\":[(array[\"longitude\"]), (array[\"latitude\"])]\n",
    "    }\n",
    "\n",
    "def convertCompany(company):\n",
    "    posicion = []\n",
    "    for i in range(len(company[\"offices\"])):\n",
    "        if company[\"offices\"][i][\"longitude\"] is None or company[\"offices\"][i][\"latitude\"] is None:\n",
    "            pass\n",
    "        else:\n",
    "            posicion.append( {\n",
    "                \"name\": company[\"name\"],\n",
    "                \"sector\":company[\"category_code\"],\n",
    "                \"twitter_account\": company[\"twitter_username\"],\n",
    "                \"position\": toGeoJSON(company[\"offices\"][i])\n",
    "            } )\n",
    "    return posicion\n",
    "\n",
    "def flatten(posicion):\n",
    "    plano = []\n",
    "    for j in range(len(posicion)):\n",
    "        for i in range(len(posicion[j])):\n",
    "            plano.append(posicion[j][i])\n",
    "    return plano\n",
    "\n",
    "def toDataFrame(plano):\n",
    "    df = pd.DataFrame(plano)\n",
    "    return df\n",
    "\n",
    "cursor = db.companies.find( { \n",
    "                            \"$and\": [\n",
    "                                    {\"$or\": [ \n",
    "                                            { \"category_code\": \"software\" }, \n",
    "                                            { \"category_code\": \"web\" },\n",
    "                                            { \"category_code\": \"consulting\" },\n",
    "                                            { \"category_code\": \"public_relations\" }\n",
    "                                    ]},\n",
    "                                    { \"founded_year\": {\"$gte\": 2008} },\n",
    "                                    { \"deadpooled_year\": None},\n",
    "                                    { \"$or\": [\n",
    "                                            { \"number_of_employees\": {\"$lte\": 100} },\n",
    "                                            { \"number_of_employees\": {\"$gte\": 1000} }\n",
    "                                    ] },\n",
    "                                    { \"offices\": { \"$exists\": True, \"$ne\": [] } }\n",
    "                            ] } )\n",
    "\n",
    "geoCompanies = list(map(lambda r: convertCompany(r),cursor))\n",
    "\n",
    "plano = flatten(geoCompanies)\n",
    "\n",
    "data = toDataFrame(plano)\n",
    "\n",
    "data.head()"
   ]
  },
  {
   "cell_type": "code",
   "execution_count": 99,
   "metadata": {},
   "outputs": [
    {
     "data": {
      "text/plain": [
       "286    {'type': 'Point', 'coordinates': [-73.821321, ...\n",
       "287    {'type': 'Point', 'coordinates': [-70.566466, ...\n",
       "288    {'type': 'Point', 'coordinates': [88.363895, 2...\n",
       "289    {'type': 'Point', 'coordinates': [121.475916, ...\n",
       "290    {'type': 'Point', 'coordinates': [77.22496, 28...\n",
       "Name: position, dtype: object"
      ]
     },
     "execution_count": 99,
     "metadata": {},
     "output_type": "execute_result"
    }
   ],
   "source": [
    "data.loc[data[\"name\"]==\"WJT Global Solutions\"][\"position\"]"
   ]
  },
  {
   "cell_type": "code",
   "execution_count": null,
   "metadata": {},
   "outputs": [],
   "source": [
    "API_KEY = \"XXXX\"\n",
    "API_SECRET = \"XXXX\"\n",
    "ACCESS_TOKEN = \"XXXX\"\n",
    "ACCESS_TOKEN_SECRET = \"XXXX\"\n",
    "\n",
    "auth = tweepy.OAuthHandler(API_KEY, API_SECRET)\n",
    "auth.set_access_token(ACCESS_TOKEN, ACCESS_TOKEN_SECRET)\n",
    "api = tweepy.API(auth)"
   ]
  },
  {
   "cell_type": "code",
   "execution_count": null,
   "metadata": {},
   "outputs": [],
   "source": [
    "def getFollowers(twitteruser):\n",
    "    followers = []\n",
    "    for tweet in twitteruser:\n",
    "        if twitteruser is None:\n",
    "            followers.append(0)\n",
    "        else:\n",
    "            try:\n",
    "                user = api.get_user(tweet)\n",
    "                followers.append(user.followers_count)\n",
    "            except Exception as e:\n",
    "                if e == \"[{u'message': u'Rate limit exceeded', u'code': 88}]\":\n",
    "                    time.sleep(60*15)\n",
    "                else:\n",
    "                    followers.append(\"invalid username\")\n",
    "    followers = pd.DataFrame(followers)\n",
    "    return followers\n",
    "\n",
    "\n",
    "def joinData2(data1, data2):\n",
    "    data1[\"followers\"] = data2[0]\n",
    "    data_clean = data1.sort_values(by=[\"count\"], ascending=False)\n",
    "    return data_clean\n",
    "\n",
    "\n",
    "followers = getFollowers(data_clean[\"twitter_account\"])\n",
    "\n",
    "data_clean = joinData2(data_clean, followers)\n",
    "data_clean.head(10)"
   ]
  },
  {
   "cell_type": "code",
   "execution_count": null,
   "metadata": {},
   "outputs": [],
   "source": [
    "followers = []\n",
    "\n",
    "for tweet in data_clean[\"twitter_account\"]:\n",
    "    if data_clean[\"twitter_account\"] is None:\n",
    "        followers.append(0)\n",
    "    else:\n",
    "        try:\n",
    "            user = api.get_user(tweet)\n",
    "            followers.append(user.followers_count)\n",
    "        except Exception as e:\n",
    "            if e == \"[{u'message': u'Rate limit exceeded', u'code': 88}]\":\n",
    "                time.sleep(60*15)\n",
    "            else:\n",
    "                followers.append(\"invalid username\")"
   ]
  }
 ],
 "metadata": {
  "kernelspec": {
   "display_name": "Python 3",
   "language": "python",
   "name": "python3"
  },
  "language_info": {
   "codemirror_mode": {
    "name": "ipython",
    "version": 3
   },
   "file_extension": ".py",
   "mimetype": "text/x-python",
   "name": "python",
   "nbconvert_exporter": "python",
   "pygments_lexer": "ipython3",
   "version": "3.7.2"
  }
 },
 "nbformat": 4,
 "nbformat_minor": 2
}
