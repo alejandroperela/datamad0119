{
 "cells": [
  {
   "cell_type": "markdown",
   "metadata": {},
   "source": [
    "# Visualization Project"
   ]
  },
  {
   "cell_type": "markdown",
   "metadata": {},
   "source": [
    "# Filtrado de empresas"
   ]
  },
  {
   "cell_type": "markdown",
   "metadata": {},
   "source": [
    "Inicialmente importo las librerías con las que voy a trabajar."
   ]
  },
  {
   "cell_type": "code",
   "execution_count": 91,
   "metadata": {},
   "outputs": [],
   "source": [
    "import pymongo\n",
    "import re\n",
    "import pandas as pd\n",
    "import numpy as np\n",
    "import matplotlib.pyplot as plt\n",
    "import seaborn as sns\n",
    "import warnings\n",
    "import tweepy\n",
    "import oauth, tweepy, sys, locale, threading \n",
    "from time import localtime, strftime, sleep\n",
    "from pylab import *\n",
    "\n",
    "MongoClient = pymongo.MongoClient\n",
    "client = MongoClient()\n",
    "db = client.companies\n",
    "\n",
    "warnings.filterwarnings('ignore')\n",
    "%matplotlib inline"
   ]
  },
  {
   "cell_type": "markdown",
   "metadata": {},
   "source": [
    "Voy a empezar estructurando los datos con los que quiero trabajar. Para ello, he decidido establecer unos determinados filtros, en base a las necesidades de mi empresa. En concreto éstos han sido los siguientes:\n",
    "    - Sector de la empresa: éste está establecido como \"category_code\" en la base de datos. He decidido seleccionar empresas relacionadas con el sector del software y web de cara a mis empleados developers y UX/UI. Y he incluido también empresas del sector de la consultoría y relaciones públicas de cara a los directivos.\n",
    "    - También he querido buscar empresas que fuesen relativamente nuevas, por lo que he seleccionado empresas que hayan sido creadas de 2008 en adelante.\n",
    "    - Ovbiamente quiero que en la zona haya empresas que no hayan quebrado y que sigan operando, por lo que he decidido no incluir las que aún sigan realizando alguna actividad.\n",
    "    - También me gustaría que en la zona hubiese empresas o bien pequeñas, es decir, con menos de 100 empleados, o grandes, con más de 1000.\n",
    "    - Y por último, me gustaría obtener los datos de las empresas que en la bases de datos tengan al menos una oficina con coordenadas, es decir, que el array de \"offices\" no esté vacío dado que son los datos con los que voy a trabajar.\n",
    "    \n",
    "Una vez he estructurado el filtro que quiero aplicar, defino las funciones que voy a utilizar para mostrar la información en mi DataFrame. Empiezo estableciendo los campos que quiero obtener de cada empresa, en este caso, el nombre, el sector, la cuenta de twitter, su ciudad, su número de empleados y la localización.\n",
    "\n",
    "Dado que únicamente quiero obtener la información de empresas que tengan ubicación, aplico un filtro inicial que obvie las empresas que contengan un null en los campos de latitud y longitud, para el resto, le indico que me devuelva los campos antes especificados.\n",
    "\n",
    "Posteriormente, defino dos funciones. La primer que me convierta la lista de listas que obtengo, en una única lista. Y la segunda para transformar dicha lista en un DataFrame, sobre el cual voy a trabajar."
   ]
  },
  {
   "cell_type": "code",
   "execution_count": 2,
   "metadata": {},
   "outputs": [
    {
     "data": {
      "text/html": [
       "<div>\n",
       "<style scoped>\n",
       "    .dataframe tbody tr th:only-of-type {\n",
       "        vertical-align: middle;\n",
       "    }\n",
       "\n",
       "    .dataframe tbody tr th {\n",
       "        vertical-align: top;\n",
       "    }\n",
       "\n",
       "    .dataframe thead th {\n",
       "        text-align: right;\n",
       "    }\n",
       "</style>\n",
       "<table border=\"1\" class=\"dataframe\">\n",
       "  <thead>\n",
       "    <tr style=\"text-align: right;\">\n",
       "      <th></th>\n",
       "      <th>city</th>\n",
       "      <th>employees</th>\n",
       "      <th>name</th>\n",
       "      <th>position</th>\n",
       "      <th>sector</th>\n",
       "      <th>twitter_account</th>\n",
       "    </tr>\n",
       "  </thead>\n",
       "  <tbody>\n",
       "    <tr>\n",
       "      <th>0</th>\n",
       "      <td>San Francisco</td>\n",
       "      <td>40</td>\n",
       "      <td>GoingOn</td>\n",
       "      <td>{'type': 'Point', 'coordinates': [-122.392142,...</td>\n",
       "      <td>software</td>\n",
       "      <td>GoingOn_Network</td>\n",
       "    </tr>\n",
       "    <tr>\n",
       "      <th>1</th>\n",
       "      <td>Berlin</td>\n",
       "      <td>8</td>\n",
       "      <td>headr</td>\n",
       "      <td>{'type': 'Point', 'coordinates': [13.4109071, ...</td>\n",
       "      <td>web</td>\n",
       "      <td>tripodsocial</td>\n",
       "    </tr>\n",
       "    <tr>\n",
       "      <th>2</th>\n",
       "      <td>San Mateo</td>\n",
       "      <td>30</td>\n",
       "      <td>Fixya</td>\n",
       "      <td>{'type': 'Point', 'coordinates': [-122.323895,...</td>\n",
       "      <td>web</td>\n",
       "      <td>MUaliyu</td>\n",
       "    </tr>\n",
       "    <tr>\n",
       "      <th>3</th>\n",
       "      <td>Louisville</td>\n",
       "      <td>17</td>\n",
       "      <td>First30Days</td>\n",
       "      <td>{'type': 'Point', 'coordinates': [-85.717393, ...</td>\n",
       "      <td>web</td>\n",
       "      <td>clickariane</td>\n",
       "    </tr>\n",
       "    <tr>\n",
       "      <th>4</th>\n",
       "      <td>Kirkland</td>\n",
       "      <td>3</td>\n",
       "      <td>PokerPlayersSocialNetwork</td>\n",
       "      <td>{'type': 'Point', 'coordinates': [-122.187925,...</td>\n",
       "      <td>web</td>\n",
       "      <td></td>\n",
       "    </tr>\n",
       "  </tbody>\n",
       "</table>\n",
       "</div>"
      ],
      "text/plain": [
       "            city  employees                       name  \\\n",
       "0  San Francisco         40                    GoingOn   \n",
       "1         Berlin          8                      headr   \n",
       "2      San Mateo         30                      Fixya   \n",
       "3     Louisville         17                First30Days   \n",
       "4       Kirkland          3  PokerPlayersSocialNetwork   \n",
       "\n",
       "                                            position    sector  \\\n",
       "0  {'type': 'Point', 'coordinates': [-122.392142,...  software   \n",
       "1  {'type': 'Point', 'coordinates': [13.4109071, ...       web   \n",
       "2  {'type': 'Point', 'coordinates': [-122.323895,...       web   \n",
       "3  {'type': 'Point', 'coordinates': [-85.717393, ...       web   \n",
       "4  {'type': 'Point', 'coordinates': [-122.187925,...       web   \n",
       "\n",
       "   twitter_account  \n",
       "0  GoingOn_Network  \n",
       "1     tripodsocial  \n",
       "2          MUaliyu  \n",
       "3      clickariane  \n",
       "4                   "
      ]
     },
     "execution_count": 2,
     "metadata": {},
     "output_type": "execute_result"
    }
   ],
   "source": [
    "def toGeoJSON(array):\n",
    "    return {\n",
    "        \"type\":\"Point\",\n",
    "        \"coordinates\":[(array[\"longitude\"]), (array[\"latitude\"])]\n",
    "    }\n",
    "\n",
    "\n",
    "def convertCompany(company):\n",
    "    posicion = []\n",
    "    for i in range(len(company[\"offices\"])):\n",
    "        if company[\"offices\"][i][\"longitude\"] is None or company[\"offices\"][i][\"latitude\"] is None:\n",
    "            pass\n",
    "        else:\n",
    "            posicion.append( {\n",
    "                \"name\": company[\"name\"],\n",
    "                \"sector\":company[\"category_code\"],\n",
    "                \"twitter_account\": company[\"twitter_username\"],\n",
    "                \"city\": company[\"offices\"][i][\"city\"],\n",
    "                \"employees\": company[\"number_of_employees\"],\n",
    "                \"position\": toGeoJSON(company[\"offices\"][i])\n",
    "            } )\n",
    "    return posicion\n",
    "\n",
    "\n",
    "def flatten(posicion):\n",
    "    plano = []\n",
    "    for j in range(len(posicion)):\n",
    "        for i in range(len(posicion[j])):\n",
    "            plano.append(posicion[j][i])\n",
    "    return plano\n",
    "\n",
    "\n",
    "def toDataFrame(plano):\n",
    "    df = pd.DataFrame(plano)\n",
    "    return df\n",
    "\n",
    "\n",
    "cursor = db.companies.find( { \n",
    "                            \"$and\": [\n",
    "                                    {\"$or\": [ \n",
    "                                            { \"category_code\": \"software\" }, \n",
    "                                            { \"category_code\": \"web\" },\n",
    "                                            { \"category_code\": \"consulting\" },\n",
    "                                            { \"category_code\": \"public_relations\" }\n",
    "                                    ]},\n",
    "                                    { \"founded_year\": {\"$gte\": 2008} },\n",
    "                                    { \"deadpooled_year\": None},\n",
    "                                    { \"$or\": [\n",
    "                                            { \"number_of_employees\": {\"$lte\": 50} },\n",
    "                                            { \"number_of_employees\": {\"$gte\": 250} }\n",
    "                                    ] },\n",
    "                                    { \"offices\": { \"$exists\": True, \"$ne\": [] } }\n",
    "                            ] },\n",
    "                            {\"_id\":0}\n",
    "                        )\n",
    "\n",
    "\n",
    "geoCompanies = list(map(lambda r: convertCompany(r),cursor))\n",
    "plano = flatten(geoCompanies)\n",
    "data = toDataFrame(plano)\n",
    "data.head()"
   ]
  },
  {
   "cell_type": "markdown",
   "metadata": {},
   "source": [
    "Reordeno las columnas a mi gusto para seguir trabajamdo con el DataFrame."
   ]
  },
  {
   "cell_type": "code",
   "execution_count": 3,
   "metadata": {},
   "outputs": [
    {
     "data": {
      "text/html": [
       "<div>\n",
       "<style scoped>\n",
       "    .dataframe tbody tr th:only-of-type {\n",
       "        vertical-align: middle;\n",
       "    }\n",
       "\n",
       "    .dataframe tbody tr th {\n",
       "        vertical-align: top;\n",
       "    }\n",
       "\n",
       "    .dataframe thead th {\n",
       "        text-align: right;\n",
       "    }\n",
       "</style>\n",
       "<table border=\"1\" class=\"dataframe\">\n",
       "  <thead>\n",
       "    <tr style=\"text-align: right;\">\n",
       "      <th></th>\n",
       "      <th>name</th>\n",
       "      <th>sector</th>\n",
       "      <th>twitter_account</th>\n",
       "      <th>city</th>\n",
       "      <th>employees</th>\n",
       "      <th>position</th>\n",
       "    </tr>\n",
       "  </thead>\n",
       "  <tbody>\n",
       "    <tr>\n",
       "      <th>0</th>\n",
       "      <td>GoingOn</td>\n",
       "      <td>software</td>\n",
       "      <td>GoingOn_Network</td>\n",
       "      <td>San Francisco</td>\n",
       "      <td>40</td>\n",
       "      <td>{'type': 'Point', 'coordinates': [-122.392142,...</td>\n",
       "    </tr>\n",
       "    <tr>\n",
       "      <th>1</th>\n",
       "      <td>headr</td>\n",
       "      <td>web</td>\n",
       "      <td>tripodsocial</td>\n",
       "      <td>Berlin</td>\n",
       "      <td>8</td>\n",
       "      <td>{'type': 'Point', 'coordinates': [13.4109071, ...</td>\n",
       "    </tr>\n",
       "    <tr>\n",
       "      <th>2</th>\n",
       "      <td>Fixya</td>\n",
       "      <td>web</td>\n",
       "      <td>MUaliyu</td>\n",
       "      <td>San Mateo</td>\n",
       "      <td>30</td>\n",
       "      <td>{'type': 'Point', 'coordinates': [-122.323895,...</td>\n",
       "    </tr>\n",
       "    <tr>\n",
       "      <th>3</th>\n",
       "      <td>First30Days</td>\n",
       "      <td>web</td>\n",
       "      <td>clickariane</td>\n",
       "      <td>Louisville</td>\n",
       "      <td>17</td>\n",
       "      <td>{'type': 'Point', 'coordinates': [-85.717393, ...</td>\n",
       "    </tr>\n",
       "    <tr>\n",
       "      <th>4</th>\n",
       "      <td>PokerPlayersSocialNetwork</td>\n",
       "      <td>web</td>\n",
       "      <td></td>\n",
       "      <td>Kirkland</td>\n",
       "      <td>3</td>\n",
       "      <td>{'type': 'Point', 'coordinates': [-122.187925,...</td>\n",
       "    </tr>\n",
       "  </tbody>\n",
       "</table>\n",
       "</div>"
      ],
      "text/plain": [
       "                        name    sector  twitter_account           city  \\\n",
       "0                    GoingOn  software  GoingOn_Network  San Francisco   \n",
       "1                      headr       web     tripodsocial         Berlin   \n",
       "2                      Fixya       web          MUaliyu      San Mateo   \n",
       "3                First30Days       web      clickariane     Louisville   \n",
       "4  PokerPlayersSocialNetwork       web                        Kirkland   \n",
       "\n",
       "   employees                                           position  \n",
       "0         40  {'type': 'Point', 'coordinates': [-122.392142,...  \n",
       "1          8  {'type': 'Point', 'coordinates': [13.4109071, ...  \n",
       "2         30  {'type': 'Point', 'coordinates': [-122.323895,...  \n",
       "3         17  {'type': 'Point', 'coordinates': [-85.717393, ...  \n",
       "4          3  {'type': 'Point', 'coordinates': [-122.187925,...  "
      ]
     },
     "execution_count": 3,
     "metadata": {},
     "output_type": "execute_result"
    }
   ],
   "source": [
    "columns = [\"name\", \"sector\", \"twitter_account\", \"city\", \"employees\", \"position\"]\n",
    "data = data[columns]\n",
    "data.head()"
   ]
  },
  {
   "cell_type": "markdown",
   "metadata": {},
   "source": [
    "# Twitter API"
   ]
  },
  {
   "cell_type": "markdown",
   "metadata": {},
   "source": [
    "A continuación, y antes de exportar la base de datos limpia, obtengo el número de followers de cada empresa para saber cómo de famosas son en las redes sociales.\n",
    "\n",
    "Muchas de ellas no tienen cuenta de twitter por lo que en la columna de followers aparecerá invalid username, o cero seguidores."
   ]
  },
  {
   "cell_type": "code",
   "execution_count": 6,
   "metadata": {},
   "outputs": [],
   "source": [
    "API_KEY = \"XXXX\"\n",
    "API_SECRET = \"XXXX\"\n",
    "ACCESS_TOKEN = \"XXXX\"\n",
    "ACCESS_TOKEN_SECRET = \"XXXX\"\n",
    "\n",
    "auth = tweepy.OAuthHandler(API_KEY, API_SECRET)\n",
    "auth.set_access_token(ACCESS_TOKEN, ACCESS_TOKEN_SECRET)\n",
    "api = tweepy.API(auth)"
   ]
  },
  {
   "cell_type": "code",
   "execution_count": 7,
   "metadata": {},
   "outputs": [
    {
     "data": {
      "text/html": [
       "<div>\n",
       "<style scoped>\n",
       "    .dataframe tbody tr th:only-of-type {\n",
       "        vertical-align: middle;\n",
       "    }\n",
       "\n",
       "    .dataframe tbody tr th {\n",
       "        vertical-align: top;\n",
       "    }\n",
       "\n",
       "    .dataframe thead th {\n",
       "        text-align: right;\n",
       "    }\n",
       "</style>\n",
       "<table border=\"1\" class=\"dataframe\">\n",
       "  <thead>\n",
       "    <tr style=\"text-align: right;\">\n",
       "      <th></th>\n",
       "      <th>name</th>\n",
       "      <th>sector</th>\n",
       "      <th>twitter_account</th>\n",
       "      <th>city</th>\n",
       "      <th>employees</th>\n",
       "      <th>position</th>\n",
       "      <th>followers</th>\n",
       "    </tr>\n",
       "  </thead>\n",
       "  <tbody>\n",
       "    <tr>\n",
       "      <th>0</th>\n",
       "      <td>GoingOn</td>\n",
       "      <td>software</td>\n",
       "      <td>GoingOn_Network</td>\n",
       "      <td>San Francisco</td>\n",
       "      <td>40</td>\n",
       "      <td>{'type': 'Point', 'coordinates': [-122.392142,...</td>\n",
       "      <td>no username</td>\n",
       "    </tr>\n",
       "    <tr>\n",
       "      <th>1</th>\n",
       "      <td>headr</td>\n",
       "      <td>web</td>\n",
       "      <td>tripodsocial</td>\n",
       "      <td>Berlin</td>\n",
       "      <td>8</td>\n",
       "      <td>{'type': 'Point', 'coordinates': [13.4109071, ...</td>\n",
       "      <td>40</td>\n",
       "    </tr>\n",
       "    <tr>\n",
       "      <th>2</th>\n",
       "      <td>Fixya</td>\n",
       "      <td>web</td>\n",
       "      <td>MUaliyu</td>\n",
       "      <td>San Mateo</td>\n",
       "      <td>30</td>\n",
       "      <td>{'type': 'Point', 'coordinates': [-122.323895,...</td>\n",
       "      <td>6</td>\n",
       "    </tr>\n",
       "    <tr>\n",
       "      <th>3</th>\n",
       "      <td>First30Days</td>\n",
       "      <td>web</td>\n",
       "      <td>clickariane</td>\n",
       "      <td>Louisville</td>\n",
       "      <td>17</td>\n",
       "      <td>{'type': 'Point', 'coordinates': [-85.717393, ...</td>\n",
       "      <td>2919</td>\n",
       "    </tr>\n",
       "    <tr>\n",
       "      <th>4</th>\n",
       "      <td>PokerPlayersSocialNetwork</td>\n",
       "      <td>web</td>\n",
       "      <td></td>\n",
       "      <td>Kirkland</td>\n",
       "      <td>3</td>\n",
       "      <td>{'type': 'Point', 'coordinates': [-122.187925,...</td>\n",
       "      <td>no username</td>\n",
       "    </tr>\n",
       "  </tbody>\n",
       "</table>\n",
       "</div>"
      ],
      "text/plain": [
       "                        name    sector  twitter_account           city  \\\n",
       "0                    GoingOn  software  GoingOn_Network  San Francisco   \n",
       "1                      headr       web     tripodsocial         Berlin   \n",
       "2                      Fixya       web          MUaliyu      San Mateo   \n",
       "3                First30Days       web      clickariane     Louisville   \n",
       "4  PokerPlayersSocialNetwork       web                        Kirkland   \n",
       "\n",
       "   employees                                           position    followers  \n",
       "0         40  {'type': 'Point', 'coordinates': [-122.392142,...  no username  \n",
       "1          8  {'type': 'Point', 'coordinates': [13.4109071, ...           40  \n",
       "2         30  {'type': 'Point', 'coordinates': [-122.323895,...            6  \n",
       "3         17  {'type': 'Point', 'coordinates': [-85.717393, ...         2919  \n",
       "4          3  {'type': 'Point', 'coordinates': [-122.187925,...  no username  "
      ]
     },
     "execution_count": 7,
     "metadata": {},
     "output_type": "execute_result"
    }
   ],
   "source": [
    "def getFollowers(twitteruser):\n",
    "    followers = []\n",
    "    for tweet in twitteruser:\n",
    "        if twitteruser is None:\n",
    "            followers.append(\"no username\")\n",
    "        else:\n",
    "            try:\n",
    "                user = api.get_user(tweet)\n",
    "                followers.append(user.followers_count)\n",
    "            except Exception as e:\n",
    "                if e == \"[{u'message': u'Rate limit exceeded', u'code': 88}]\":\n",
    "                    time.sleep(60*15)\n",
    "                else:\n",
    "                    followers.append(\"no username\")\n",
    "    followers = pd.DataFrame(followers)\n",
    "    return followers\n",
    "\n",
    "\n",
    "def joinData2(data1, data2):\n",
    "    data1[\"followers\"] = data2[0]\n",
    "    return data\n",
    "\n",
    "\n",
    "followers = getFollowers(data[\"twitter_account\"])\n",
    "\n",
    "data = joinData2(data, followers)\n",
    "data.head()"
   ]
  },
  {
   "cell_type": "markdown",
   "metadata": {},
   "source": [
    "Una vez tengo la base de datos completa, la exporto la base datos filtrada para incorporarla a MongoDB Compass y trabajar a partir de ahora sobre ella."
   ]
  },
  {
   "cell_type": "code",
   "execution_count": 8,
   "metadata": {},
   "outputs": [],
   "source": [
    "data.to_json(\"comp_with_coords.json\", orient=\"records\", lines=True)"
   ]
  },
  {
   "cell_type": "markdown",
   "metadata": {},
   "source": [
    "# Ubicación óptima"
   ]
  },
  {
   "cell_type": "markdown",
   "metadata": {},
   "source": [
    "Lo que voy a hacer a continuación es hacer un bucle para que tome cada una de las coordenadas de que hay en la base de datos y evalúe cuántas empresas hay alrededor en un radio de 10 km. A partir de ahí, definiré la función countCompany que me contará el número de celdas que contienen información de una empresa que se encuentre dentro de ese radio de 10 km. Y la empresa con el mayor número de compañías a su alrededor tendrá la localización que a mi más me interesa.\n",
    "\n",
    "Luego voy a definir otra función llamada countBins para separar a las empresas por tamaño, definiendo así si la empresa es pequeña si tiene menos de 50 trabajadores, y grande si tiene más. \n",
    "\n",
    "Y por último, defino una última función llamada joinData que me unirá a la base de datos la información que he sacado con las dos funciones anteriores. "
   ]
  },
  {
   "cell_type": "code",
   "execution_count": 95,
   "metadata": {},
   "outputs": [
    {
     "data": {
      "text/html": [
       "<div>\n",
       "<style scoped>\n",
       "    .dataframe tbody tr th:only-of-type {\n",
       "        vertical-align: middle;\n",
       "    }\n",
       "\n",
       "    .dataframe tbody tr th {\n",
       "        vertical-align: top;\n",
       "    }\n",
       "\n",
       "    .dataframe thead th {\n",
       "        text-align: right;\n",
       "    }\n",
       "</style>\n",
       "<table border=\"1\" class=\"dataframe\">\n",
       "  <thead>\n",
       "    <tr style=\"text-align: right;\">\n",
       "      <th></th>\n",
       "      <th>name</th>\n",
       "      <th>sector</th>\n",
       "      <th>twitter_account</th>\n",
       "      <th>city</th>\n",
       "      <th>employees</th>\n",
       "      <th>position</th>\n",
       "      <th>followers</th>\n",
       "      <th>count</th>\n",
       "      <th>size</th>\n",
       "    </tr>\n",
       "  </thead>\n",
       "  <tbody>\n",
       "    <tr>\n",
       "      <th>603</th>\n",
       "      <td>Disrupto</td>\n",
       "      <td>web</td>\n",
       "      <td>disrupto</td>\n",
       "      <td>New York</td>\n",
       "      <td>7</td>\n",
       "      <td>{'type': 'Point', 'coordinates': [-73.9565551,...</td>\n",
       "      <td>90</td>\n",
       "      <td>38</td>\n",
       "      <td>Small</td>\n",
       "    </tr>\n",
       "    <tr>\n",
       "      <th>538</th>\n",
       "      <td>TrialX</td>\n",
       "      <td>web</td>\n",
       "      <td>trialx</td>\n",
       "      <td>New York</td>\n",
       "      <td>5</td>\n",
       "      <td>{'type': 'Point', 'coordinates': [-73.9893359,...</td>\n",
       "      <td>1545</td>\n",
       "      <td>38</td>\n",
       "      <td>Small</td>\n",
       "    </tr>\n",
       "    <tr>\n",
       "      <th>293</th>\n",
       "      <td>Aghreni Technologies</td>\n",
       "      <td>software</td>\n",
       "      <td>aghreni</td>\n",
       "      <td>New York</td>\n",
       "      <td>15</td>\n",
       "      <td>{'type': 'Point', 'coordinates': [-73.988071, ...</td>\n",
       "      <td>35160</td>\n",
       "      <td>37</td>\n",
       "      <td>Small</td>\n",
       "    </tr>\n",
       "    <tr>\n",
       "      <th>285</th>\n",
       "      <td>Yipit</td>\n",
       "      <td>web</td>\n",
       "      <td>yipit</td>\n",
       "      <td>New York</td>\n",
       "      <td>23</td>\n",
       "      <td>{'type': 'Point', 'coordinates': [-73.987764, ...</td>\n",
       "      <td>3593</td>\n",
       "      <td>37</td>\n",
       "      <td>Small</td>\n",
       "    </tr>\n",
       "    <tr>\n",
       "      <th>584</th>\n",
       "      <td>ArtNeighbor</td>\n",
       "      <td>web</td>\n",
       "      <td>artneighbor</td>\n",
       "      <td>New York City</td>\n",
       "      <td>5</td>\n",
       "      <td>{'type': 'Point', 'coordinates': [-73.9918181,...</td>\n",
       "      <td>1466</td>\n",
       "      <td>37</td>\n",
       "      <td>Small</td>\n",
       "    </tr>\n",
       "  </tbody>\n",
       "</table>\n",
       "</div>"
      ],
      "text/plain": [
       "                     name    sector twitter_account           city  employees  \\\n",
       "603              Disrupto       web        disrupto       New York          7   \n",
       "538                TrialX       web          trialx       New York          5   \n",
       "293  Aghreni Technologies  software         aghreni       New York         15   \n",
       "285                 Yipit       web           yipit       New York         23   \n",
       "584           ArtNeighbor       web     artneighbor  New York City          5   \n",
       "\n",
       "                                              position followers  count   size  \n",
       "603  {'type': 'Point', 'coordinates': [-73.9565551,...        90     38  Small  \n",
       "538  {'type': 'Point', 'coordinates': [-73.9893359,...      1545     38  Small  \n",
       "293  {'type': 'Point', 'coordinates': [-73.988071, ...     35160     37  Small  \n",
       "285  {'type': 'Point', 'coordinates': [-73.987764, ...      3593     37  Small  \n",
       "584  {'type': 'Point', 'coordinates': [-73.9918181,...      1466     37  Small  "
      ]
     },
     "execution_count": 95,
     "metadata": {},
     "output_type": "execute_result"
    }
   ],
   "source": [
    "def countNear(dataf):   \n",
    "    final = []\n",
    "    for position in dataf[\"position\"]:\n",
    "        final.append(db.clean.find({\n",
    "          \"position\": {\n",
    "            \"$near\": {\n",
    "              \"$geometry\": {\n",
    "                \"type\": \"Point\",\n",
    "                \"coordinates\": [position[\"coordinates\"][0], position[\"coordinates\"][1]]\n",
    "              },\n",
    "              \"$minDistance\": 0,\n",
    "              \"$maxDistance\":10000\n",
    "            }\n",
    "          }\n",
    "        }))\n",
    "    return final\n",
    "\n",
    "    \n",
    "def countCompany(lista):\n",
    "    data_count = pd.DataFrame(lista)\n",
    "    data_count = data_count.T\n",
    "    data_count = data_count.count()\n",
    "    data_count = pd.DataFrame(data_count)\n",
    "    return data_count\n",
    "\n",
    "\n",
    "def countBins(dataf):\n",
    "    count_labels = ['Small', 'Big']\n",
    "    cutoffs = [0,50,10000000]\n",
    "    bins = pd.cut(dataf['employees'],cutoffs, labels=count_labels)\n",
    "    bins = pd.DataFrame(bins)\n",
    "    return bins\n",
    "\n",
    "\n",
    "def joinData(data1, data2, data3):\n",
    "    data1[\"count\"] = data2[0]\n",
    "    data1[\"size\"] = data3[\"employees\"]\n",
    "    data_clean = data1.sort_values(by=[\"count\"], ascending=False)\n",
    "    return data_clean\n",
    "\n",
    "\n",
    "final = countNear(data)    \n",
    "data_count = countCompany(final)\n",
    "bins = countBins(data)\n",
    "data_clean = joinData(data, data_count, bins)\n",
    "data_clean.head()\n"
   ]
  },
  {
   "cell_type": "markdown",
   "metadata": {},
   "source": [
    "Como podemos ver en la tabla anterior, las empresas Disrupto y TrialX la empresas que más compañías tienen en su radio. Por lo que dichas localizaciones serán las que más me interesen. Como podemos observar también, es la ciudad de Nueva York la que aparentemente tiene más empresas. Pero para cerciorarnos, voy a hacer una tabla para ver las 10 ciudades con más empresas.\n",
    "\n",
    "Los resultados muestran que son Nueva York, San Francisco y Londres las ciudades con un mayor número de empresas."
   ]
  },
  {
   "cell_type": "code",
   "execution_count": 96,
   "metadata": {},
   "outputs": [
    {
     "data": {
      "text/plain": [
       "<matplotlib.axes._subplots.AxesSubplot at 0x7fbe40b5fef0>"
      ]
     },
     "execution_count": 96,
     "metadata": {},
     "output_type": "execute_result"
    },
    {
     "data": {
      "image/png": "[encoded data removed]",
      "text/plain": [
       "<Figure size 432x288 with 1 Axes>"
      ]
     },
     "metadata": {
      "needs_background": "light"
     },
     "output_type": "display_data"
    }
   ],
   "source": [
    "data_clean.groupby(['city']).agg({'size':'count'}).sort_values(by=[\"size\"], ascending=False).head(10).plot.bar()"
   ]
  },
  {
   "cell_type": "markdown",
   "metadata": {},
   "source": [
    "Y dado que queremos estar en una localización que tenga una buen ratio de empresas grandes y pequeñas, voy a analizar a través de un gráfico cómo es esta relación en las principales ciudades.\n",
    "\n",
    "Como podemos observar, apenas hay empresas grandes, la inmensa mayoría son pequeñas. Aun así, Nueva York sigue siendo la que aparentemente tiene la ratio más alta de empresas grandes por cada empresas pequeña. Por lo que seguiría siendo nuestra principal opción."
   ]
  },
  {
   "cell_type": "code",
   "execution_count": 71,
   "metadata": {},
   "outputs": [
    {
     "data": {
      "text/plain": [
       "<matplotlib.axes._subplots.AxesSubplot at 0x7fbe411df320>"
      ]
     },
     "execution_count": 71,
     "metadata": {},
     "output_type": "execute_result"
    },
    {
     "data": {
      "image/png": "[encoded data removed]",
      "text/plain": [
       "<Figure size 720x360 with 1 Axes>"
      ]
     },
     "metadata": {
      "needs_background": "light"
     },
     "output_type": "display_data"
    }
   ],
   "source": [
    "filtered = data_clean[(data_clean['city'] == 'New York') | \n",
    "                      (data_clean['city'] == 'San Francisco') |\n",
    "                      (data_clean['city'] == 'London') |\n",
    "                      (data_clean['city'] == 'Chicago') |\n",
    "                      (data_clean['city'] == 'Paris') |\n",
    "                      (data_clean['city'] == 'Palo Alto') |\n",
    "                      (data_clean['city'] == 'Toronto') |\n",
    "                      (data_clean['city'] == 'New York City') |\n",
    "                      (data_clean['city'] == 'Berlin')]\n",
    "\n",
    "filtered.groupby(['city', 'size']).agg({'size': 'count'}).sort_values(by=[\"size\"], ascending=False).unstack('size').plot.bar(figsize=(10,5))"
   ]
  },
  {
   "cell_type": "markdown",
   "metadata": {},
   "source": [
    "Por si acaso, voy a hacer un pequeño gráfico que me muestre la división que existe dentro de nuestra base de datos entre empresas grandes y pequeñas. Y como podemos observar, la práctica totalidad de las empresas con pequeñas.\n",
    "\n",
    "Así mismo, realizo otro gráfico para saber cómo es la distribución por sectores, concluyendo que más de la mitad de las empresas de mi base de datos pertenecen al sector web.\n",
    "\n",
    "Por lo que podemos concluir que Nueva York es la ciudad que más nos interesa para establecer nuestra empresa. Y más concretamente, la localización de las empresas Disrupto y TrialX, el primero en Brooklyn en Williamsburg, y el segundo en la isla de Manhattan en el Noho."
   ]
  },
  {
   "cell_type": "code",
   "execution_count": 94,
   "metadata": {},
   "outputs": [
    {
     "data": {
      "text/plain": [
       "<Figure size 432x288 with 0 Axes>"
      ]
     },
     "metadata": {},
     "output_type": "display_data"
    },
    {
     "data": {
      "image/png": "[encoded data removed]",
      "text/plain": [
       "<Figure size 648x360 with 1 Axes>"
      ]
     },
     "metadata": {},
     "output_type": "display_data"
    },
    {
     "data": {
      "image/png": "[encoded data removed]",
      "text/plain": [
       "<Figure size 648x360 with 1 Axes>"
      ]
     },
     "metadata": {},
     "output_type": "display_data"
    }
   ],
   "source": [
    "plt.figure(211)\n",
    "data_clean.groupby(['size']).agg({'size':'count'}).sort_values(by=[\"size\"], ascending=False).plot.pie(subplots=True, autopct='%.1f %%', figsize=(9,5))\n",
    "\n",
    "plt.figure(212)\n",
    "data_clean.groupby(['sector']).agg({'sector':'count'}).sort_values(by=[\"sector\"], ascending=False).plot.pie(subplots=True, autopct='%.1f %%', figsize=(9,5))\n",
    "\n",
    "plt.show()"
   ]
  },
  {
   "cell_type": "markdown",
   "metadata": {},
   "source": [
    "# Empresas cercanas"
   ]
  },
  {
   "cell_type": "markdown",
   "metadata": {},
   "source": [
    "Una vez conozco las mejores ubicaciones, he decidido quedarme con TrialX, dado que está en la propia isla de Manhattan, y a diferencia de Disrupto que se encuentra en Brooklyn, no hace falta cruzar ningún puente para ir al centro neurálgico de la ciudad en donde se encuentran la mayoría de empresas.\n",
    "\n",
    "Para ello incluyo la ubicación de TrialX y busca la lista de empresas que están en un radio de 10 km tal y como dijimos antes."
   ]
  },
  {
   "cell_type": "code",
   "execution_count": 19,
   "metadata": {},
   "outputs": [
    {
     "data": {
      "text/html": [
       "<div>\n",
       "<style scoped>\n",
       "    .dataframe tbody tr th:only-of-type {\n",
       "        vertical-align: middle;\n",
       "    }\n",
       "\n",
       "    .dataframe tbody tr th {\n",
       "        vertical-align: top;\n",
       "    }\n",
       "\n",
       "    .dataframe thead th {\n",
       "        text-align: right;\n",
       "    }\n",
       "</style>\n",
       "<table border=\"1\" class=\"dataframe\">\n",
       "  <thead>\n",
       "    <tr style=\"text-align: right;\">\n",
       "      <th></th>\n",
       "      <th>_id</th>\n",
       "      <th>city</th>\n",
       "      <th>employees</th>\n",
       "      <th>followers</th>\n",
       "      <th>name</th>\n",
       "      <th>position</th>\n",
       "      <th>sector</th>\n",
       "      <th>twitter_account</th>\n",
       "    </tr>\n",
       "  </thead>\n",
       "  <tbody>\n",
       "    <tr>\n",
       "      <th>7</th>\n",
       "      <td>5c6b0809c0046dde6eb9c386</td>\n",
       "      <td>New York</td>\n",
       "      <td>15</td>\n",
       "      <td>35156</td>\n",
       "      <td>Aghreni Technologies</td>\n",
       "      <td>{'type': 'Point', 'coordinates': [-73.988071, ...</td>\n",
       "      <td>software</td>\n",
       "      <td>aghreni</td>\n",
       "    </tr>\n",
       "    <tr>\n",
       "      <th>13</th>\n",
       "      <td>5c6b0809c0046dde6eb9c4bc</td>\n",
       "      <td>New York City</td>\n",
       "      <td>5</td>\n",
       "      <td>1466</td>\n",
       "      <td>ArtNeighbor</td>\n",
       "      <td>{'type': 'Point', 'coordinates': [-73.9918181,...</td>\n",
       "      <td>web</td>\n",
       "      <td>artneighbor</td>\n",
       "    </tr>\n",
       "    <tr>\n",
       "      <th>4</th>\n",
       "      <td>5c6b0809c0046dde6eb9c360</td>\n",
       "      <td>New York</td>\n",
       "      <td>5</td>\n",
       "      <td>175</td>\n",
       "      <td>Buzzr</td>\n",
       "      <td>{'type': 'Point', 'coordinates': [-73.992609, ...</td>\n",
       "      <td>software</td>\n",
       "      <td>buzzr</td>\n",
       "    </tr>\n",
       "    <tr>\n",
       "      <th>33</th>\n",
       "      <td>5c6b0809c0046dde6eb9c36c</td>\n",
       "      <td>New York</td>\n",
       "      <td>5</td>\n",
       "      <td>20</td>\n",
       "      <td>CarZen</td>\n",
       "      <td>{'type': 'Point', 'coordinates': [-73.951865, ...</td>\n",
       "      <td>web</td>\n",
       "      <td>carzen</td>\n",
       "    </tr>\n",
       "    <tr>\n",
       "      <th>9</th>\n",
       "      <td>5c6b0809c0046dde6eb9c4ce</td>\n",
       "      <td>New York</td>\n",
       "      <td>17</td>\n",
       "      <td>41</td>\n",
       "      <td>ChallengePost</td>\n",
       "      <td>{'type': 'Point', 'coordinates': [-74.00717, 4...</td>\n",
       "      <td>web</td>\n",
       "      <td>challengepost</td>\n",
       "    </tr>\n",
       "  </tbody>\n",
       "</table>\n",
       "</div>"
      ],
      "text/plain": [
       "                         _id           city  employees followers  \\\n",
       "7   5c6b0809c0046dde6eb9c386       New York         15     35156   \n",
       "13  5c6b0809c0046dde6eb9c4bc  New York City          5      1466   \n",
       "4   5c6b0809c0046dde6eb9c360       New York          5       175   \n",
       "33  5c6b0809c0046dde6eb9c36c       New York          5        20   \n",
       "9   5c6b0809c0046dde6eb9c4ce       New York         17        41   \n",
       "\n",
       "                    name                                           position  \\\n",
       "7   Aghreni Technologies  {'type': 'Point', 'coordinates': [-73.988071, ...   \n",
       "13           ArtNeighbor  {'type': 'Point', 'coordinates': [-73.9918181,...   \n",
       "4                  Buzzr  {'type': 'Point', 'coordinates': [-73.992609, ...   \n",
       "33                CarZen  {'type': 'Point', 'coordinates': [-73.951865, ...   \n",
       "9          ChallengePost  {'type': 'Point', 'coordinates': [-74.00717, 4...   \n",
       "\n",
       "      sector twitter_account  \n",
       "7   software         aghreni  \n",
       "13       web     artneighbor  \n",
       "4   software           buzzr  \n",
       "33       web          carzen  \n",
       "9        web   challengepost  "
      ]
     },
     "execution_count": 19,
     "metadata": {},
     "output_type": "execute_result"
    }
   ],
   "source": [
    "cursor_TrialX = db.clean.find({\n",
    "    \"position\": {\n",
    "    \"$near\": {\n",
    "        \"$geometry\": {\n",
    "        \"type\": \"Point\",\n",
    "        \"coordinates\": [-73.9893359, 40.7277434]\n",
    "        },\n",
    "        \"$minDistance\": 0,\n",
    "        \"$maxDistance\":10000\n",
    "    }\n",
    "    }\n",
    "})\n",
    "\n",
    "\n",
    "data_TrialX = pd.DataFrame(list(cursor_TrialX))\n",
    "data_TrialX.sort_values(by=[\"name\"], ascending=True).head()"
   ]
  },
  {
   "cell_type": "markdown",
   "metadata": {},
   "source": [
    "Ahora, de cara a visualizar los datos en Tableau, me quedo con la información más relevante de las empresas cercanas, y creo dos nuevas columnas con la longitud y la latitud para que Tableau las pueda identificar."
   ]
  },
  {
   "cell_type": "code",
   "execution_count": 20,
   "metadata": {},
   "outputs": [
    {
     "data": {
      "text/html": [
       "<div>\n",
       "<style scoped>\n",
       "    .dataframe tbody tr th:only-of-type {\n",
       "        vertical-align: middle;\n",
       "    }\n",
       "\n",
       "    .dataframe tbody tr th {\n",
       "        vertical-align: top;\n",
       "    }\n",
       "\n",
       "    .dataframe thead th {\n",
       "        text-align: right;\n",
       "    }\n",
       "</style>\n",
       "<table border=\"1\" class=\"dataframe\">\n",
       "  <thead>\n",
       "    <tr style=\"text-align: right;\">\n",
       "      <th></th>\n",
       "      <th>name</th>\n",
       "      <th>sector</th>\n",
       "      <th>twitter_account</th>\n",
       "      <th>city</th>\n",
       "      <th>employees</th>\n",
       "      <th>followers</th>\n",
       "      <th>long</th>\n",
       "      <th>lat</th>\n",
       "    </tr>\n",
       "  </thead>\n",
       "  <tbody>\n",
       "    <tr>\n",
       "      <th>7</th>\n",
       "      <td>Aghreni Technologies</td>\n",
       "      <td>software</td>\n",
       "      <td>aghreni</td>\n",
       "      <td>New York</td>\n",
       "      <td>15</td>\n",
       "      <td>35156</td>\n",
       "      <td>-73.988071</td>\n",
       "      <td>40.744549</td>\n",
       "    </tr>\n",
       "    <tr>\n",
       "      <th>13</th>\n",
       "      <td>ArtNeighbor</td>\n",
       "      <td>web</td>\n",
       "      <td>artneighbor</td>\n",
       "      <td>New York City</td>\n",
       "      <td>5</td>\n",
       "      <td>1466</td>\n",
       "      <td>-73.991818</td>\n",
       "      <td>40.748938</td>\n",
       "    </tr>\n",
       "    <tr>\n",
       "      <th>4</th>\n",
       "      <td>Buzzr</td>\n",
       "      <td>software</td>\n",
       "      <td>buzzr</td>\n",
       "      <td>New York</td>\n",
       "      <td>5</td>\n",
       "      <td>175</td>\n",
       "      <td>-73.992609</td>\n",
       "      <td>40.740941</td>\n",
       "    </tr>\n",
       "    <tr>\n",
       "      <th>33</th>\n",
       "      <td>CarZen</td>\n",
       "      <td>web</td>\n",
       "      <td>carzen</td>\n",
       "      <td>New York</td>\n",
       "      <td>5</td>\n",
       "      <td>20</td>\n",
       "      <td>-73.951865</td>\n",
       "      <td>40.769450</td>\n",
       "    </tr>\n",
       "    <tr>\n",
       "      <th>9</th>\n",
       "      <td>ChallengePost</td>\n",
       "      <td>web</td>\n",
       "      <td>challengepost</td>\n",
       "      <td>New York</td>\n",
       "      <td>17</td>\n",
       "      <td>41</td>\n",
       "      <td>-74.007170</td>\n",
       "      <td>40.740804</td>\n",
       "    </tr>\n",
       "  </tbody>\n",
       "</table>\n",
       "</div>"
      ],
      "text/plain": [
       "                    name    sector twitter_account           city  employees  \\\n",
       "7   Aghreni Technologies  software         aghreni       New York         15   \n",
       "13           ArtNeighbor       web     artneighbor  New York City          5   \n",
       "4                  Buzzr  software           buzzr       New York          5   \n",
       "33                CarZen       web          carzen       New York          5   \n",
       "9          ChallengePost       web   challengepost       New York         17   \n",
       "\n",
       "   followers       long        lat  \n",
       "7      35156 -73.988071  40.744549  \n",
       "13      1466 -73.991818  40.748938  \n",
       "4        175 -73.992609  40.740941  \n",
       "33        20 -73.951865  40.769450  \n",
       "9         41 -74.007170  40.740804  "
      ]
     },
     "execution_count": 20,
     "metadata": {},
     "output_type": "execute_result"
    }
   ],
   "source": [
    "coords_TrialX = pd.DataFrame(pd.DataFrame(data_TrialX[\"position\"].values.flatten().tolist())[\"coordinates\"].values.tolist())\n",
    "clean_TrialX = pd.concat([data_TrialX,coords_TrialX],axis=1)\n",
    "clean_TrialX.drop(['_id',\"position\"], inplace=True, axis=1)\n",
    "clean_TrialX = clean_TrialX.rename({0:\"long\",1:\"lat\"}, axis=1)\n",
    "\n",
    "columns = [\"name\", \"sector\", \"twitter_account\", \"city\", \"employees\", \"followers\", \"long\", \"lat\"]\n",
    "clean_TrialX = clean_TrialX[columns]\n",
    "clean_TrialX.sort_values(by=[\"name\"], ascending=True).head()"
   ]
  },
  {
   "cell_type": "markdown",
   "metadata": {},
   "source": [
    "Antes de exportar el fichero analizo a qué sector pertenecen las empresas que están a mi alrededor, y como puedo observar, el resultado es el mismo que para mi base de datos en general, el principal sector es el web, donde 2 de cada 3 empresas pertenecen a ese sector."
   ]
  },
  {
   "cell_type": "code",
   "execution_count": 76,
   "metadata": {},
   "outputs": [
    {
     "data": {
      "text/plain": [
       "array([<matplotlib.axes._subplots.AxesSubplot object at 0x7fbe40e27f98>],\n",
       "      dtype=object)"
      ]
     },
     "execution_count": 76,
     "metadata": {},
     "output_type": "execute_result"
    },
    {
     "data": {
      "image/png": "[encoded data removed]",
      "text/plain": [
       "<Figure size 648x360 with 1 Axes>"
      ]
     },
     "metadata": {},
     "output_type": "display_data"
    }
   ],
   "source": [
    "clean_TrialX.groupby(['sector']).agg({'sector':'count'}).sort_values(by=[\"sector\"], ascending=False).plot.pie(subplots=True, autopct='%.1f %%', figsize=(9,5))"
   ]
  },
  {
   "cell_type": "markdown",
   "metadata": {},
   "source": [
    "Y finalmente exporto el fichero JSON para trabajar con él en Tableau."
   ]
  },
  {
   "cell_type": "code",
   "execution_count": 21,
   "metadata": {},
   "outputs": [],
   "source": [
    "clean_TrialX.to_json('visualize_companies.json', orient=\"records\")"
   ]
  },
  {
   "cell_type": "markdown",
   "metadata": {},
   "source": [
    "# Tableau"
   ]
  },
  {
   "cell_type": "markdown",
   "metadata": {},
   "source": [
    "A continuación, adjunto los mapas con el resultado de la ubicación óptima junto con las empresas de alrededor.\n",
    "\n",
    "En el siguiente link se puede encontrar adjunto el mapa resultante: https://public.tableau.com/profile/alejandro6195#!/vizhome/Ironhack-Tableau/Hoja1."
   ]
  },
  {
   "cell_type": "markdown",
   "metadata": {},
   "source": [
    "![title](img/Map.png)"
   ]
  },
  {
   "cell_type": "markdown",
   "metadata": {},
   "source": [
    "![title](img/Map3.png)"
   ]
  }
 ],
 "metadata": {
  "kernelspec": {
   "display_name": "Python 3",
   "language": "python",
   "name": "python3"
  },
  "language_info": {
   "codemirror_mode": {
    "name": "ipython",
    "version": 3
   },
   "file_extension": ".py",
   "mimetype": "text/x-python",
   "name": "python",
   "nbconvert_exporter": "python",
   "pygments_lexer": "ipython3",
   "version": "3.7.2"
  }
 },
 "nbformat": 4,
 "nbformat_minor": 2
}
