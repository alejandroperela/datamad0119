{
 "cells": [
  {
   "cell_type": "markdown",
   "metadata": {},
   "source": [
    "# Extracción y descripción de los datos"
   ]
  },
  {
   "cell_type": "markdown",
   "metadata": {},
   "source": [
    "Empiezo importando las librerías que voy a utilizar."
   ]
  },
  {
   "cell_type": "code",
   "execution_count": 2,
   "metadata": {},
   "outputs": [],
   "source": [
    "%matplotlib inline\n",
    "\n",
    "import numpy as np\n",
    "import pandas as pd\n",
    "\n",
    "import librosa.display\n",
    "import librosa\n",
    "\n",
    "from glob import glob\n",
    "\n",
    "import ffmpeg\n",
    "\n",
    "import os\n",
    "\n",
    "from pydub import AudioSegment\n",
    "from pydub.utils import make_chunks\n",
    "\n",
    "import re"
   ]
  },
  {
   "cell_type": "markdown",
   "metadata": {},
   "source": [
    "Continuo creando 3 funciones con las que voy a hacer los siguiente:\n",
    " - La primera divide un archivo audio de larga duración en pequeños audios de 10 segundos de duración, y los guarda en la carpeta que le he especificado.\n",
    " - La segunda accede a cada uno de esos audios de 10 segundos y saca las features características de dicho archivo, y en base a su nombre le asigna una categoría y otra.\n",
    " - La tercera simplemente me enseña las principales características y métricas de la base de datos.\n",
    "\n",
    "Finalmente, guardo el el dataset en mi carpeta como un CSV.\n",
    "\n",
    "Dado que la base de datos ya la tengo creada, este JN lo voy a aplicar sobre audios que luego voy a utilizar para predecir con mi modelo y ver si es lo suficientemente bueno."
   ]
  },
  {
   "cell_type": "code",
   "execution_count": 3,
   "metadata": {},
   "outputs": [
    {
     "name": "stdout",
     "output_type": "stream",
     "text": [
      "exporting washing_machine_4-1.wav0.wav\n",
      "exporting washing_machine_4-1.wav1.wav\n",
      "exporting washing_machine_4-1.wav2.wav\n",
      "exporting washing_machine_4-1.wav3.wav\n",
      "exporting washing_machine_4-1.wav4.wav\n",
      "exporting washing_machine_4-1.wav5.wav\n",
      "exporting washing_machine_4-1.wav6.wav\n",
      "exporting washing_machine_4-1.wav7.wav\n",
      "exporting washing_machine_4-1.wav8.wav\n",
      "exporting washing_machine_4-1.wav9.wav\n",
      "exporting washing_machine_4-1.wav10.wav\n",
      "exporting washing_machine_4-1.wav11.wav\n",
      "exporting washing_machine_4-1.wav12.wav\n",
      "exporting washing_machine_4-1.wav13.wav\n",
      "exporting washing_machine_4-1.wav14.wav\n",
      "exporting washing_machine_4-1.wav15.wav\n",
      "exporting washing_machine_4-1.wav16.wav\n",
      "exporting washing_machine_4-1.wav17.wav\n",
      "exporting washing_machine_4-1.wav18.wav\n",
      "exporting washing_machine_4-1.wav19.wav\n",
      "exporting washing_machine_4-1.wav20.wav\n",
      "exporting washing_machine_4-1.wav21.wav\n",
      "exporting washing_machine_4-1.wav22.wav\n",
      "exporting washing_machine_4-1.wav23.wav\n",
      "exporting washing_machine_4-1.wav24.wav\n",
      "exporting washing_machine_4-1.wav25.wav\n",
      "exporting washing_machine_4-1.wav26.wav\n",
      "exporting washing_machine_4-1.wav27.wav\n",
      "exporting washing_machine_4-1.wav28.wav\n",
      "exporting washing_machine_4-1.wav29.wav\n",
      "exporting washing_machine_4-1.wav30.wav\n",
      "exporting washing_machine_4-1.wav31.wav\n",
      "exporting washing_machine_4-1.wav32.wav\n",
      "exporting washing_machine_4-1.wav33.wav\n",
      "exporting washing_machine_4-1.wav34.wav\n",
      "exporting washing_machine_4-1.wav35.wav\n",
      "exporting washing_machine_4-1.wav36.wav\n",
      "exporting washing_machine_4-1.wav37.wav\n",
      "exporting washing_machine_4-1.wav38.wav\n",
      "exporting washing_machine_4-1.wav39.wav\n",
      "exporting washing_machine_4-1.wav40.wav\n",
      "exporting washing_machine_4-1.wav41.wav\n",
      "exporting washing_machine_4-1.wav42.wav\n",
      "exporting washing_machine_4-1.wav43.wav\n",
      "exporting washing_machine_4-1.wav44.wav\n",
      "exporting washing_machine_4-1.wav45.wav\n",
      "exporting washing_machine_4-1.wav46.wav\n",
      "exporting washing_machine_4-1.wav47.wav\n",
      "exporting washing_machine_4-1.wav48.wav\n",
      "exporting washing_machine_4-1.wav49.wav\n",
      "exporting washing_machine_4-1.wav50.wav\n",
      "exporting washing_machine_4-1.wav51.wav\n",
      "exporting washing_machine_4-1.wav52.wav\n",
      "exporting washing_machine_4-1.wav53.wav\n",
      "exporting washing_machine_4-1.wav54.wav\n",
      "exporting washing_machine_4-1.wav55.wav\n",
      "exporting washing_machine_4-1.wav56.wav\n",
      "exporting washing_machine_4-1.wav57.wav\n",
      "exporting washing_machine_4-1.wav58.wav\n",
      "exporting washing_machine_4-1.wav59.wav\n",
      "exporting washing_machine_4-1.wav60.wav\n"
     ]
    }
   ],
   "source": [
    "def decompose_files(data_dir, audio_files):\n",
    "    for j in range(len(audio_files)):\n",
    "        myaudio = AudioSegment.from_file(data_dir + '{}'.format(os.listdir(data_dir)[j])) \n",
    "        chunk_length_ms = 10000\n",
    "        chunks = make_chunks(myaudio, chunk_length_ms)\n",
    "\n",
    "        for i, chunk in enumerate(chunks):\n",
    "            chunk_name = \"{}{}.wav\".format(os.listdir(data_dir)[j], i)\n",
    "            print(\"exporting\", chunk_name)\n",
    "            chunk.export('./sounds2/{}'.format(chunk_name), format=\"mp3\")\n",
    "            \n",
    "decompose_files('./sounds/', glob('./sounds' + '/*'))"
   ]
  },
  {
   "cell_type": "code",
   "execution_count": 10,
   "metadata": {},
   "outputs": [],
   "source": [
    "def get_features(data_dir, audio_files):\n",
    "    momentos = {'ducha': 'Ducha', 'cena': 'Cena', 'washing': 'Lavadora', 'vacuum': 'Aspiradora', \n",
    "                'shaver': 'Afeitadora', 'hairdryer': 'Secador_pelo', 'airconditioner': 'Aire_acondicionado', \n",
    "                'cellphone': 'Telefono', 'comp': 'Tecleo', 'silence': 'Silencio', 'dryer': 'Secadora', \n",
    "                'blender': 'Licuadora', 'doorbell': 'Timbre', 'alarm': 'Alarma', 'faucet': 'Grifo', \n",
    "                'microwave': 'Microondas'}\n",
    "    features = []\n",
    "    for i in range(len(audio_files)):\n",
    "        y, sr = librosa.load(audio_files[i], )\n",
    "        name = os.listdir(data_dir)[i]\n",
    "        pattern = \"[._][\\w]+\"\n",
    "        name = re.sub(pattern, '', name)\n",
    "        if name in momentos.keys():\n",
    "            momento = momentos.get(name)\n",
    "        else:\n",
    "            momento = 'Otro'\n",
    "        D = np.abs(librosa.stft(y))\n",
    "        mfcc = np.ndarray.mean(librosa.feature.mfcc(y=y, sr=sr, n_mfcc=20))\n",
    "        features.append([D, mfcc, momento])\n",
    "    return pd.DataFrame(features, columns=['D', 'mfcc', 'momento'])\n",
    "\n",
    "data = get_features('./sounds2/', glob('./sounds2' + '/*.wav'))"
   ]
  },
  {
   "cell_type": "code",
   "execution_count": 109,
   "metadata": {},
   "outputs": [
    {
     "name": "stdout",
     "output_type": "stream",
     "text": [
      "8000\n",
      "8000\n",
      "8000\n"
     ]
    }
   ],
   "source": [
    "def get_features(data_dir, audio_files):\n",
    "    momentos = {'ducha': 'Ducha', 'cena': 'Cena', 'washing': 'Lavadora', 'vacuum': 'Aspiradora', \n",
    "                'shaver': 'Afeitadora', 'hairdryer': 'Secador_pelo', 'airconditioner': 'Aire_acondicionado', \n",
    "                'cellphone': 'Telefono', 'comp': 'Tecleo', 'silence': 'Silencio', 'dryer': 'Secadora', \n",
    "                'blender': 'Licuadora', 'doorbell': 'Timbre', 'alarm': 'Alarma', 'faucet': 'Grifo', \n",
    "                'microwave': 'Microondas'}\n",
    "    features = []\n",
    "    for i in range(len(audio_files)):\n",
    "        y, sr = librosa.load(audio_files[i], sr=8000)\n",
    "        name = os.listdir(data_dir)[i]\n",
    "        pattern = \"[._][\\w]+\"\n",
    "        name = re.sub(pattern, '', name)\n",
    "        if name in momentos.keys():\n",
    "            momento = momentos.get(name)\n",
    "        else:\n",
    "            momento = 'Otro'\n",
    "        D = np.abs(np.fft.fft(y, n=10)[:8000*2 // 2])\n",
    "        mfcc = np.ndarray.mean(librosa.feature.mfcc(y=y, sr=sr, n_mfcc=20))\n",
    "        print(sr)\n",
    "        features.append([D[0], D[1], D[2], D[3], D[4], D[5], D[6], D[7], D[8], D[9], mfcc, momento])\n",
    "    return pd.DataFrame(features, columns=['Fourier1', 'Fourier2', 'Fourier3', 'Fourier4', 'Fourier5', \n",
    "                                           'Fourier6', 'Fourier7', 'Fourier8', 'Fourier9', 'Fourier10', \n",
    "                                           'mfcc', 'momento'])\n",
    "\n",
    "data = get_features('./sounds2/', glob('./sounds2' + '/*.wav'))"
   ]
  },
  {
   "cell_type": "code",
   "execution_count": 11,
   "metadata": {},
   "outputs": [
    {
     "data": {
      "text/plain": [
       "\"The type of the dataframe is <class 'pandas.core.frame.DataFrame'>.\""
      ]
     },
     "metadata": {},
     "output_type": "display_data"
    },
    {
     "name": "stdout",
     "output_type": "stream",
     "text": [
      "------------------------------------------------------------------------\n"
     ]
    },
    {
     "data": {
      "text/plain": [
       "'The amount of entries are 9.'"
      ]
     },
     "metadata": {},
     "output_type": "display_data"
    },
    {
     "name": "stdout",
     "output_type": "stream",
     "text": [
      "------------------------------------------------------------------------\n"
     ]
    },
    {
     "data": {
      "text/plain": [
       "'Its shape is (3, 3).'"
      ]
     },
     "metadata": {},
     "output_type": "display_data"
    },
    {
     "name": "stdout",
     "output_type": "stream",
     "text": [
      "------------------------------------------------------------------------\n"
     ]
    },
    {
     "data": {
      "text/plain": [
       "\"Its features are: ['D', 'mfcc', 'momento'].\""
      ]
     },
     "metadata": {},
     "output_type": "display_data"
    },
    {
     "name": "stdout",
     "output_type": "stream",
     "text": [
      "------------------------------------------------------------------------\n",
      "The data types of columns are: D           object\n",
      "mfcc       float64\n",
      "momento     object\n",
      "dtype: object\n",
      "------------------------------------------------------------------------\n",
      "The counter of each class is: Otro    3\n",
      "Name: momento, dtype: int64\n",
      "------------------------------------------------------------------------\n",
      "The amount of null values is: D          0\n",
      "mfcc       0\n",
      "momento    0\n",
      "dtype: int64.\n"
     ]
    },
    {
     "data": {
      "text/html": [
       "<div>\n",
       "<style scoped>\n",
       "    .dataframe tbody tr th:only-of-type {\n",
       "        vertical-align: middle;\n",
       "    }\n",
       "\n",
       "    .dataframe tbody tr th {\n",
       "        vertical-align: top;\n",
       "    }\n",
       "\n",
       "    .dataframe thead th {\n",
       "        text-align: right;\n",
       "    }\n",
       "</style>\n",
       "<table border=\"1\" class=\"dataframe\">\n",
       "  <thead>\n",
       "    <tr style=\"text-align: right;\">\n",
       "      <th></th>\n",
       "      <th>D</th>\n",
       "      <th>mfcc</th>\n",
       "      <th>momento</th>\n",
       "    </tr>\n",
       "  </thead>\n",
       "  <tbody>\n",
       "    <tr>\n",
       "      <th>0</th>\n",
       "      <td>[[0.002371622, 0.0010023934, 0.00020817871, 0....</td>\n",
       "      <td>-3.848597</td>\n",
       "      <td>Otro</td>\n",
       "    </tr>\n",
       "    <tr>\n",
       "      <th>1</th>\n",
       "      <td>[[1.3690411, 1.6039556, 3.3537927, 2.32991, 4....</td>\n",
       "      <td>-0.390428</td>\n",
       "      <td>Otro</td>\n",
       "    </tr>\n",
       "    <tr>\n",
       "      <th>2</th>\n",
       "      <td>[[50.140614, 29.09889, 7.7536716, 2.2107341, 3...</td>\n",
       "      <td>-0.235068</td>\n",
       "      <td>Otro</td>\n",
       "    </tr>\n",
       "  </tbody>\n",
       "</table>\n",
       "</div>"
      ],
      "text/plain": [
       "                                                   D      mfcc momento\n",
       "0  [[0.002371622, 0.0010023934, 0.00020817871, 0.... -3.848597    Otro\n",
       "1  [[1.3690411, 1.6039556, 3.3537927, 2.32991, 4.... -0.390428    Otro\n",
       "2  [[50.140614, 29.09889, 7.7536716, 2.2107341, 3... -0.235068    Otro"
      ]
     },
     "metadata": {},
     "output_type": "display_data"
    },
    {
     "data": {
      "text/html": [
       "<div>\n",
       "<style scoped>\n",
       "    .dataframe tbody tr th:only-of-type {\n",
       "        vertical-align: middle;\n",
       "    }\n",
       "\n",
       "    .dataframe tbody tr th {\n",
       "        vertical-align: top;\n",
       "    }\n",
       "\n",
       "    .dataframe thead th {\n",
       "        text-align: right;\n",
       "    }\n",
       "</style>\n",
       "<table border=\"1\" class=\"dataframe\">\n",
       "  <thead>\n",
       "    <tr style=\"text-align: right;\">\n",
       "      <th></th>\n",
       "      <th>mfcc</th>\n",
       "    </tr>\n",
       "  </thead>\n",
       "  <tbody>\n",
       "    <tr>\n",
       "      <th>count</th>\n",
       "      <td>3.000000</td>\n",
       "    </tr>\n",
       "    <tr>\n",
       "      <th>mean</th>\n",
       "      <td>-1.491364</td>\n",
       "    </tr>\n",
       "    <tr>\n",
       "      <th>std</th>\n",
       "      <td>2.042901</td>\n",
       "    </tr>\n",
       "    <tr>\n",
       "      <th>min</th>\n",
       "      <td>-3.848597</td>\n",
       "    </tr>\n",
       "    <tr>\n",
       "      <th>25%</th>\n",
       "      <td>-2.119513</td>\n",
       "    </tr>\n",
       "    <tr>\n",
       "      <th>50%</th>\n",
       "      <td>-0.390428</td>\n",
       "    </tr>\n",
       "    <tr>\n",
       "      <th>75%</th>\n",
       "      <td>-0.312748</td>\n",
       "    </tr>\n",
       "    <tr>\n",
       "      <th>max</th>\n",
       "      <td>-0.235068</td>\n",
       "    </tr>\n",
       "  </tbody>\n",
       "</table>\n",
       "</div>"
      ],
      "text/plain": [
       "           mfcc\n",
       "count  3.000000\n",
       "mean  -1.491364\n",
       "std    2.042901\n",
       "min   -3.848597\n",
       "25%   -2.119513\n",
       "50%   -0.390428\n",
       "75%   -0.312748\n",
       "max   -0.235068"
      ]
     },
     "metadata": {},
     "output_type": "display_data"
    }
   ],
   "source": [
    "def show_df_info(dataframe):\n",
    "    display(\"The type of the dataframe is {}.\".format(type(dataframe)))\n",
    "    print(\"------------------------------------------------------------------------\")\n",
    "    display(\"The amount of entries are {}.\".format(dataframe.size))\n",
    "    print(\"------------------------------------------------------------------------\")\n",
    "    display(\"Its shape is {}.\".format(dataframe.shape))\n",
    "    print(\"------------------------------------------------------------------------\")\n",
    "    display(\"Its features are: {}.\".format(list(dataframe)))\n",
    "    print(\"------------------------------------------------------------------------\")\n",
    "    print(\"The data types of columns are: {}\".format(dataframe.dtypes))\n",
    "    print(\"------------------------------------------------------------------------\")\n",
    "    print(\"The counter of each class is: {}\".format(dataframe.momento.value_counts()))\n",
    "    print(\"------------------------------------------------------------------------\")\n",
    "    print('The amount of null values is: {}.'.format(dataframe.isna().sum()))\n",
    "    display(dataframe)\n",
    "    display(dataframe.describe())\n",
    "    \n",
    "show_df_info(data)"
   ]
  },
  {
   "cell_type": "code",
   "execution_count": 87,
   "metadata": {},
   "outputs": [],
   "source": [
    "data['A'], data['B'], data['C'] = data['D'].str.split(',')"
   ]
  },
  {
   "cell_type": "code",
   "execution_count": 110,
   "metadata": {},
   "outputs": [
    {
     "data": {
      "text/html": [
       "<div>\n",
       "<style scoped>\n",
       "    .dataframe tbody tr th:only-of-type {\n",
       "        vertical-align: middle;\n",
       "    }\n",
       "\n",
       "    .dataframe tbody tr th {\n",
       "        vertical-align: top;\n",
       "    }\n",
       "\n",
       "    .dataframe thead th {\n",
       "        text-align: right;\n",
       "    }\n",
       "</style>\n",
       "<table border=\"1\" class=\"dataframe\">\n",
       "  <thead>\n",
       "    <tr style=\"text-align: right;\">\n",
       "      <th></th>\n",
       "      <th>Fourier1</th>\n",
       "      <th>Fourier2</th>\n",
       "      <th>Fourier3</th>\n",
       "      <th>Fourier4</th>\n",
       "      <th>Fourier5</th>\n",
       "      <th>Fourier6</th>\n",
       "      <th>Fourier7</th>\n",
       "      <th>Fourier8</th>\n",
       "      <th>Fourier9</th>\n",
       "      <th>Fourier10</th>\n",
       "      <th>mfcc</th>\n",
       "      <th>momento</th>\n",
       "    </tr>\n",
       "  </thead>\n",
       "  <tbody>\n",
       "    <tr>\n",
       "      <th>0</th>\n",
       "      <td>0.000092</td>\n",
       "      <td>0.000031</td>\n",
       "      <td>0.000076</td>\n",
       "      <td>0.000031</td>\n",
       "      <td>0.000041</td>\n",
       "      <td>0.000031</td>\n",
       "      <td>0.000041</td>\n",
       "      <td>0.000031</td>\n",
       "      <td>0.000076</td>\n",
       "      <td>0.000031</td>\n",
       "      <td>-2.130798</td>\n",
       "      <td>Otro</td>\n",
       "    </tr>\n",
       "    <tr>\n",
       "      <th>1</th>\n",
       "      <td>0.798218</td>\n",
       "      <td>0.030360</td>\n",
       "      <td>0.056974</td>\n",
       "      <td>0.030780</td>\n",
       "      <td>0.013632</td>\n",
       "      <td>0.008911</td>\n",
       "      <td>0.013632</td>\n",
       "      <td>0.030780</td>\n",
       "      <td>0.056974</td>\n",
       "      <td>0.030360</td>\n",
       "      <td>1.838263</td>\n",
       "      <td>Otro</td>\n",
       "    </tr>\n",
       "    <tr>\n",
       "      <th>2</th>\n",
       "      <td>0.409149</td>\n",
       "      <td>0.126351</td>\n",
       "      <td>0.057948</td>\n",
       "      <td>0.040650</td>\n",
       "      <td>0.020767</td>\n",
       "      <td>0.018768</td>\n",
       "      <td>0.020767</td>\n",
       "      <td>0.040650</td>\n",
       "      <td>0.057948</td>\n",
       "      <td>0.126351</td>\n",
       "      <td>1.866691</td>\n",
       "      <td>Otro</td>\n",
       "    </tr>\n",
       "  </tbody>\n",
       "</table>\n",
       "</div>"
      ],
      "text/plain": [
       "   Fourier1  Fourier2  Fourier3  Fourier4  Fourier5  Fourier6  Fourier7  \\\n",
       "0  0.000092  0.000031  0.000076  0.000031  0.000041  0.000031  0.000041   \n",
       "1  0.798218  0.030360  0.056974  0.030780  0.013632  0.008911  0.013632   \n",
       "2  0.409149  0.126351  0.057948  0.040650  0.020767  0.018768  0.020767   \n",
       "\n",
       "   Fourier8  Fourier9  Fourier10      mfcc momento  \n",
       "0  0.000031  0.000076   0.000031 -2.130798    Otro  \n",
       "1  0.030780  0.056974   0.030360  1.838263    Otro  \n",
       "2  0.040650  0.057948   0.126351  1.866691    Otro  "
      ]
     },
     "execution_count": 110,
     "metadata": {},
     "output_type": "execute_result"
    }
   ],
   "source": [
    "data"
   ]
  },
  {
   "cell_type": "code",
   "execution_count": 104,
   "metadata": {},
   "outputs": [
    {
     "data": {
      "text/plain": [
       "3.0517578125e-05"
      ]
     },
     "execution_count": 104,
     "metadata": {},
     "output_type": "execute_result"
    }
   ],
   "source": [
    "data.Fourier6[0]"
   ]
  },
  {
   "cell_type": "code",
   "execution_count": 49,
   "metadata": {},
   "outputs": [
    {
     "data": {
      "text/plain": [
       "44177.5"
      ]
     },
     "execution_count": 49,
     "metadata": {},
     "output_type": "execute_result"
    }
   ],
   "source": [
    "len(fourier1)/10"
   ]
  },
  {
   "cell_type": "code",
   "execution_count": 34,
   "metadata": {},
   "outputs": [],
   "source": [
    "fourier1 = []\n",
    "for i in data.D[0]:\n",
    "    for j in i:\n",
    "        fourier1.append(j)"
   ]
  },
  {
   "cell_type": "code",
   "execution_count": 47,
   "metadata": {},
   "outputs": [],
   "source": [
    "a = 0\n",
    "b = 44177\n",
    "lista1 = []\n",
    "for i in range(10):\n",
    "    y = sum(fourier1[a:b])\n",
    "    lista1.append(y)\n",
    "    a += 44177\n",
    "    b += 44177\n",
    "    "
   ]
  },
  {
   "cell_type": "code",
   "execution_count": 48,
   "metadata": {},
   "outputs": [
    {
     "data": {
      "text/plain": [
       "[103290.73543502635,\n",
       " 13887.204518775387,\n",
       " 1033.6304840533805,\n",
       " 16.191152160835546,\n",
       " 2.5612409457986622,\n",
       " 1.6539086996433348,\n",
       " 1.2690775203940878,\n",
       " 1.0465804311976052,\n",
       " 0.9425176184715518,\n",
       " 0.8834538457045508]"
      ]
     },
     "execution_count": 48,
     "metadata": {},
     "output_type": "execute_result"
    }
   ],
   "source": [
    "lista1"
   ]
  },
  {
   "cell_type": "code",
   "execution_count": 35,
   "metadata": {},
   "outputs": [],
   "source": [
    "fourier2 = []\n",
    "for i in data.D[1]:\n",
    "    for j in i:\n",
    "        fourier2.append(j)"
   ]
  },
  {
   "cell_type": "code",
   "execution_count": null,
   "metadata": {},
   "outputs": [],
   "source": [
    "a = 0\n",
    "b = 44177\n",
    "lista2 = []\n",
    "for i in range(10):\n",
    "    y = sum(fourier2[a:b])\n",
    "    lista2.append(y)\n",
    "    a += 44177\n",
    "    b += 44177"
   ]
  },
  {
   "cell_type": "code",
   "execution_count": null,
   "metadata": {},
   "outputs": [],
   "source": [
    "lista2"
   ]
  },
  {
   "cell_type": "code",
   "execution_count": 36,
   "metadata": {},
   "outputs": [],
   "source": [
    "fourier3 = []\n",
    "for i in data.D[2]:\n",
    "    for j in i:\n",
    "        fourier3.append(j)"
   ]
  },
  {
   "cell_type": "code",
   "execution_count": 37,
   "metadata": {},
   "outputs": [
    {
     "data": {
      "text/plain": [
       "441775"
      ]
     },
     "execution_count": 37,
     "metadata": {},
     "output_type": "execute_result"
    }
   ],
   "source": [
    "len(fourier1)"
   ]
  },
  {
   "cell_type": "code",
   "execution_count": 38,
   "metadata": {},
   "outputs": [
    {
     "data": {
      "text/plain": [
       "441775"
      ]
     },
     "execution_count": 38,
     "metadata": {},
     "output_type": "execute_result"
    }
   ],
   "source": [
    "len(fourier2)"
   ]
  },
  {
   "cell_type": "code",
   "execution_count": 39,
   "metadata": {},
   "outputs": [
    {
     "data": {
      "text/plain": [
       "441775"
      ]
     },
     "execution_count": 39,
     "metadata": {},
     "output_type": "execute_result"
    }
   ],
   "source": [
    "len(fourier3)"
   ]
  },
  {
   "cell_type": "code",
   "execution_count": 29,
   "metadata": {},
   "outputs": [
    {
     "ename": "ValueError",
     "evalue": "Length of values does not match length of index",
     "output_type": "error",
     "traceback": [
      "\u001b[0;31m---------------------------------------------------------------------------\u001b[0m",
      "\u001b[0;31mValueError\u001b[0m                                Traceback (most recent call last)",
      "\u001b[0;32m<ipython-input-29-1b120426e814>\u001b[0m in \u001b[0;36m<module>\u001b[0;34m\u001b[0m\n\u001b[0;32m----> 1\u001b[0;31m \u001b[0mdata\u001b[0m\u001b[0;34m[\u001b[0m\u001b[0;34m'fourier'\u001b[0m\u001b[0;34m]\u001b[0m \u001b[0;34m=\u001b[0m \u001b[0mfourier\u001b[0m\u001b[0;34m\u001b[0m\u001b[0;34m\u001b[0m\u001b[0m\n\u001b[0m",
      "\u001b[0;32m/home/linuxbrew/.linuxbrew/opt/python/lib/python3.7/site-packages/pandas/core/frame.py\u001b[0m in \u001b[0;36m__setitem__\u001b[0;34m(self, key, value)\u001b[0m\n\u001b[1;32m   3117\u001b[0m         \u001b[0;32melse\u001b[0m\u001b[0;34m:\u001b[0m\u001b[0;34m\u001b[0m\u001b[0;34m\u001b[0m\u001b[0m\n\u001b[1;32m   3118\u001b[0m             \u001b[0;31m# set column\u001b[0m\u001b[0;34m\u001b[0m\u001b[0;34m\u001b[0m\u001b[0;34m\u001b[0m\u001b[0m\n\u001b[0;32m-> 3119\u001b[0;31m             \u001b[0mself\u001b[0m\u001b[0;34m.\u001b[0m\u001b[0m_set_item\u001b[0m\u001b[0;34m(\u001b[0m\u001b[0mkey\u001b[0m\u001b[0;34m,\u001b[0m \u001b[0mvalue\u001b[0m\u001b[0;34m)\u001b[0m\u001b[0;34m\u001b[0m\u001b[0;34m\u001b[0m\u001b[0m\n\u001b[0m\u001b[1;32m   3120\u001b[0m \u001b[0;34m\u001b[0m\u001b[0m\n\u001b[1;32m   3121\u001b[0m     \u001b[0;32mdef\u001b[0m \u001b[0m_setitem_slice\u001b[0m\u001b[0;34m(\u001b[0m\u001b[0mself\u001b[0m\u001b[0;34m,\u001b[0m \u001b[0mkey\u001b[0m\u001b[0;34m,\u001b[0m \u001b[0mvalue\u001b[0m\u001b[0;34m)\u001b[0m\u001b[0;34m:\u001b[0m\u001b[0;34m\u001b[0m\u001b[0;34m\u001b[0m\u001b[0m\n",
      "\u001b[0;32m/home/linuxbrew/.linuxbrew/opt/python/lib/python3.7/site-packages/pandas/core/frame.py\u001b[0m in \u001b[0;36m_set_item\u001b[0;34m(self, key, value)\u001b[0m\n\u001b[1;32m   3192\u001b[0m \u001b[0;34m\u001b[0m\u001b[0m\n\u001b[1;32m   3193\u001b[0m         \u001b[0mself\u001b[0m\u001b[0;34m.\u001b[0m\u001b[0m_ensure_valid_index\u001b[0m\u001b[0;34m(\u001b[0m\u001b[0mvalue\u001b[0m\u001b[0;34m)\u001b[0m\u001b[0;34m\u001b[0m\u001b[0;34m\u001b[0m\u001b[0m\n\u001b[0;32m-> 3194\u001b[0;31m         \u001b[0mvalue\u001b[0m \u001b[0;34m=\u001b[0m \u001b[0mself\u001b[0m\u001b[0;34m.\u001b[0m\u001b[0m_sanitize_column\u001b[0m\u001b[0;34m(\u001b[0m\u001b[0mkey\u001b[0m\u001b[0;34m,\u001b[0m \u001b[0mvalue\u001b[0m\u001b[0;34m)\u001b[0m\u001b[0;34m\u001b[0m\u001b[0;34m\u001b[0m\u001b[0m\n\u001b[0m\u001b[1;32m   3195\u001b[0m         \u001b[0mNDFrame\u001b[0m\u001b[0;34m.\u001b[0m\u001b[0m_set_item\u001b[0m\u001b[0;34m(\u001b[0m\u001b[0mself\u001b[0m\u001b[0;34m,\u001b[0m \u001b[0mkey\u001b[0m\u001b[0;34m,\u001b[0m \u001b[0mvalue\u001b[0m\u001b[0;34m)\u001b[0m\u001b[0;34m\u001b[0m\u001b[0;34m\u001b[0m\u001b[0m\n\u001b[1;32m   3196\u001b[0m \u001b[0;34m\u001b[0m\u001b[0m\n",
      "\u001b[0;32m/home/linuxbrew/.linuxbrew/opt/python/lib/python3.7/site-packages/pandas/core/frame.py\u001b[0m in \u001b[0;36m_sanitize_column\u001b[0;34m(self, key, value, broadcast)\u001b[0m\n\u001b[1;32m   3389\u001b[0m \u001b[0;34m\u001b[0m\u001b[0m\n\u001b[1;32m   3390\u001b[0m             \u001b[0;31m# turn me into an ndarray\u001b[0m\u001b[0;34m\u001b[0m\u001b[0;34m\u001b[0m\u001b[0;34m\u001b[0m\u001b[0m\n\u001b[0;32m-> 3391\u001b[0;31m             \u001b[0mvalue\u001b[0m \u001b[0;34m=\u001b[0m \u001b[0m_sanitize_index\u001b[0m\u001b[0;34m(\u001b[0m\u001b[0mvalue\u001b[0m\u001b[0;34m,\u001b[0m \u001b[0mself\u001b[0m\u001b[0;34m.\u001b[0m\u001b[0mindex\u001b[0m\u001b[0;34m,\u001b[0m \u001b[0mcopy\u001b[0m\u001b[0;34m=\u001b[0m\u001b[0;32mFalse\u001b[0m\u001b[0;34m)\u001b[0m\u001b[0;34m\u001b[0m\u001b[0;34m\u001b[0m\u001b[0m\n\u001b[0m\u001b[1;32m   3392\u001b[0m             \u001b[0;32mif\u001b[0m \u001b[0;32mnot\u001b[0m \u001b[0misinstance\u001b[0m\u001b[0;34m(\u001b[0m\u001b[0mvalue\u001b[0m\u001b[0;34m,\u001b[0m \u001b[0;34m(\u001b[0m\u001b[0mnp\u001b[0m\u001b[0;34m.\u001b[0m\u001b[0mndarray\u001b[0m\u001b[0;34m,\u001b[0m \u001b[0mIndex\u001b[0m\u001b[0;34m)\u001b[0m\u001b[0;34m)\u001b[0m\u001b[0;34m:\u001b[0m\u001b[0;34m\u001b[0m\u001b[0;34m\u001b[0m\u001b[0m\n\u001b[1;32m   3393\u001b[0m                 \u001b[0;32mif\u001b[0m \u001b[0misinstance\u001b[0m\u001b[0;34m(\u001b[0m\u001b[0mvalue\u001b[0m\u001b[0;34m,\u001b[0m \u001b[0mlist\u001b[0m\u001b[0;34m)\u001b[0m \u001b[0;32mand\u001b[0m \u001b[0mlen\u001b[0m\u001b[0;34m(\u001b[0m\u001b[0mvalue\u001b[0m\u001b[0;34m)\u001b[0m \u001b[0;34m>\u001b[0m \u001b[0;36m0\u001b[0m\u001b[0;34m:\u001b[0m\u001b[0;34m\u001b[0m\u001b[0;34m\u001b[0m\u001b[0m\n",
      "\u001b[0;32m/home/linuxbrew/.linuxbrew/opt/python/lib/python3.7/site-packages/pandas/core/series.py\u001b[0m in \u001b[0;36m_sanitize_index\u001b[0;34m(data, index, copy)\u001b[0m\n\u001b[1;32m   3999\u001b[0m \u001b[0;34m\u001b[0m\u001b[0m\n\u001b[1;32m   4000\u001b[0m     \u001b[0;32mif\u001b[0m \u001b[0mlen\u001b[0m\u001b[0;34m(\u001b[0m\u001b[0mdata\u001b[0m\u001b[0;34m)\u001b[0m \u001b[0;34m!=\u001b[0m \u001b[0mlen\u001b[0m\u001b[0;34m(\u001b[0m\u001b[0mindex\u001b[0m\u001b[0;34m)\u001b[0m\u001b[0;34m:\u001b[0m\u001b[0;34m\u001b[0m\u001b[0;34m\u001b[0m\u001b[0m\n\u001b[0;32m-> 4001\u001b[0;31m         \u001b[0;32mraise\u001b[0m \u001b[0mValueError\u001b[0m\u001b[0;34m(\u001b[0m\u001b[0;34m'Length of values does not match length of '\u001b[0m \u001b[0;34m'index'\u001b[0m\u001b[0;34m)\u001b[0m\u001b[0;34m\u001b[0m\u001b[0;34m\u001b[0m\u001b[0m\n\u001b[0m\u001b[1;32m   4002\u001b[0m \u001b[0;34m\u001b[0m\u001b[0m\n\u001b[1;32m   4003\u001b[0m     \u001b[0;32mif\u001b[0m \u001b[0misinstance\u001b[0m\u001b[0;34m(\u001b[0m\u001b[0mdata\u001b[0m\u001b[0;34m,\u001b[0m \u001b[0mABCIndexClass\u001b[0m\u001b[0;34m)\u001b[0m \u001b[0;32mand\u001b[0m \u001b[0;32mnot\u001b[0m \u001b[0mcopy\u001b[0m\u001b[0;34m:\u001b[0m\u001b[0;34m\u001b[0m\u001b[0;34m\u001b[0m\u001b[0m\n",
      "\u001b[0;31mValueError\u001b[0m: Length of values does not match length of index"
     ]
    }
   ],
   "source": [
    "data['fourier'] = fourier"
   ]
  },
  {
   "cell_type": "code",
   "execution_count": 22,
   "metadata": {},
   "outputs": [
    {
     "data": {
      "text/plain": [
       "array([[2.3716220e-03, 1.0023934e-03, 2.0817871e-04, ..., 1.1261877e+01,\n",
       "        6.3997693e+00, 2.5181681e+01],\n",
       "       [1.8741221e-03, 1.4557991e-03, 9.4269658e-04, ..., 6.6576471e+00,\n",
       "        2.3446825e+00, 2.3329836e+01],\n",
       "       [4.1683170e-04, 1.0886100e-03, 8.4229902e-04, ..., 1.5184585e+01,\n",
       "        1.6317823e+01, 3.6874058e+01],\n",
       "       ...,\n",
       "       [2.9475952e-06, 1.4737884e-06, 5.4705979e-11, ..., 1.6898531e-07,\n",
       "        7.0781138e-04, 7.7505321e-03],\n",
       "       [2.9475484e-06, 1.4737598e-06, 5.9606924e-11, ..., 4.1855199e-07,\n",
       "        7.0770690e-04, 7.7509005e-03],\n",
       "       [2.9475368e-06, 1.4737822e-06, 4.7265702e-11, ..., 8.5414683e-08,\n",
       "        7.0872583e-04, 7.7518215e-03]], dtype=float32)"
      ]
     },
     "execution_count": 22,
     "metadata": {},
     "output_type": "execute_result"
    }
   ],
   "source": [
    "data.D[0]"
   ]
  },
  {
   "cell_type": "code",
   "execution_count": 20,
   "metadata": {},
   "outputs": [
    {
     "data": {
      "text/plain": [
       "1025"
      ]
     },
     "execution_count": 20,
     "metadata": {},
     "output_type": "execute_result"
    }
   ],
   "source": [
    "len(fourier)"
   ]
  },
  {
   "cell_type": "code",
   "execution_count": 9,
   "metadata": {},
   "outputs": [
    {
     "data": {
      "text/plain": [
       "1025"
      ]
     },
     "execution_count": 9,
     "metadata": {},
     "output_type": "execute_result"
    }
   ],
   "source": [
    "len(data.loc[0, 'D'])"
   ]
  },
  {
   "cell_type": "code",
   "execution_count": 12,
   "metadata": {},
   "outputs": [
    {
     "data": {
      "text/plain": [
       "431"
      ]
     },
     "execution_count": 12,
     "metadata": {},
     "output_type": "execute_result"
    }
   ],
   "source": [
    "len(data.loc[0, 'D'][0])"
   ]
  },
  {
   "cell_type": "code",
   "execution_count": 18,
   "metadata": {},
   "outputs": [
    {
     "data": {
      "text/plain": [
       "array([2.37162202e-03, 1.00239343e-03, 2.08178710e-04, 1.48735265e-03,\n",
       "       1.24947447e-03, 5.60650136e-04, 5.71757229e-03, 1.93187483e-02,\n",
       "       2.69554388e-02, 2.39374749e-02, 1.08702015e-02, 3.65813188e-02,\n",
       "       4.47993614e-02, 4.25000762e-04, 1.95175447e-02, 9.73172137e-04,\n",
       "       1.53311947e-02, 2.81732772e-02, 2.27646381e-02, 1.08562768e-01,\n",
       "       2.21774913e-02, 1.99333802e-02, 4.43793386e-02, 8.05871263e-02,\n",
       "       1.48289025e-01, 1.76413879e-01, 7.17183053e-02, 1.58139318e-01,\n",
       "       9.99311656e-02, 2.13208944e-01, 9.96383131e-02, 1.51793331e-01,\n",
       "       3.81628156e-01, 2.04675406e-01, 1.25767767e-01, 1.08287983e-01,\n",
       "       1.38229534e-01, 1.68189391e-01, 5.16825467e-02, 1.26205347e-02,\n",
       "       2.42036972e-02, 4.22102101e-02, 2.00393930e-01, 9.80732590e-02,\n",
       "       3.83197010e-01, 6.41518235e-01, 6.23247683e-01, 1.22885415e-02,\n",
       "       4.36624527e-01, 6.62776753e-02, 7.67944306e-02, 6.96019411e-01,\n",
       "       1.40179768e-01, 5.53346455e-01, 8.93449336e-02, 8.95094499e-02,\n",
       "       1.51788026e-01, 5.06241173e-02, 4.36148465e-01, 6.07546091e-01,\n",
       "       5.41012824e-01, 5.02842963e-01, 2.17626482e-01, 2.76106387e-01,\n",
       "       4.70837891e-01, 8.44593287e-01, 1.46074951e+00, 1.51239824e+00,\n",
       "       1.22987735e+00, 7.47707905e-04, 4.01761770e-01, 2.78288960e-01,\n",
       "       4.17982787e-01, 1.73044503e-02, 4.15154040e-01, 3.72578025e-01,\n",
       "       2.81892300e-01, 2.29125157e-01, 4.04870719e-01, 1.00037432e+00,\n",
       "       1.32555440e-01, 8.70104790e-01, 9.28831659e-03, 4.93057854e-02,\n",
       "       7.53098205e-02, 5.48642814e-01, 2.55393505e-01, 3.15727115e-01,\n",
       "       8.98176014e-01, 9.37230825e-01, 9.60144103e-01, 3.83250654e-01,\n",
       "       1.73472786e+00, 5.78450501e-01, 1.12241292e+00, 3.68295312e-01,\n",
       "       2.94839710e-01, 2.67098856e+00, 1.22468457e-01, 2.14911890e+00,\n",
       "       6.11584127e-01, 2.74265438e-01, 2.28642225e+00, 2.41093421e+00,\n",
       "       6.13997161e-01, 6.73575342e-01, 1.24388945e+00, 2.27111125e+00,\n",
       "       1.39832222e+00, 2.75768423e+00, 8.85237932e-01, 1.40961885e+00,\n",
       "       5.77402687e+00, 8.65413785e-01, 4.36931562e+00, 6.34962857e-01,\n",
       "       5.34356236e-01, 2.64309287e+00, 1.53910220e+00, 1.99259818e+00,\n",
       "       1.46882486e+00, 1.58590400e+00, 3.47895473e-01, 2.35319710e+00,\n",
       "       3.83720469e+00, 2.93066406e+00, 3.30151033e+00, 2.01266718e+00,\n",
       "       7.38018095e-01, 2.75983000e+00, 2.68080163e+00, 1.76394057e+00,\n",
       "       9.30934679e-03, 1.30083501e-01, 3.77609468e+00, 3.51086664e+00,\n",
       "       1.35736898e-01, 2.34947830e-01, 1.12260640e+00, 1.89066052e+00,\n",
       "       1.93141925e+00, 4.76810026e+00, 2.67270303e+00, 6.31481469e-01,\n",
       "       5.22760963e+00, 4.22423840e+00, 3.24169612e+00, 4.17106247e+00,\n",
       "       2.79517460e+00, 4.17022139e-01, 2.80457401e+00, 2.12816238e+00,\n",
       "       3.79541850e+00, 3.26281261e+00, 7.23220289e-01, 1.12771034e+00,\n",
       "       1.85064471e+00, 1.24392115e-01, 6.60189819e+00, 5.75057316e+00,\n",
       "       1.60839653e+00, 3.31577945e+00, 2.22141790e+00, 6.72978282e-01,\n",
       "       1.74906284e-01, 6.69104671e+00, 6.12987757e+00, 1.05097151e+00,\n",
       "       1.33279383e+00, 3.64448667e+00, 1.43519950e+00, 2.08411670e+00,\n",
       "       1.07776153e+00, 2.48750448e+00, 7.10773230e-01, 4.99230194e+00,\n",
       "       6.25882244e+00, 1.83498785e-01, 1.36446505e+01, 5.82094717e+00,\n",
       "       1.46744699e+01, 4.84866238e+00, 3.72734785e+00, 4.24863911e+00,\n",
       "       4.17274761e+00, 1.88259852e+00, 1.65969181e+00, 6.30105591e+00,\n",
       "       4.28041124e+00, 9.62962437e+00, 7.03031731e+00, 6.50659621e-01,\n",
       "       8.83810711e+00, 3.62754059e+00, 4.13443708e+00, 1.85485375e+00,\n",
       "       4.51816273e+00, 6.24015629e-01, 1.12524071e+01, 1.22982991e+00,\n",
       "       7.05112028e+00, 2.69717902e-01, 6.77669382e+00, 1.07633543e+00,\n",
       "       4.22882748e+00, 2.96781993e+00, 2.32373953e+00, 5.31876183e+00,\n",
       "       6.97510099e+00, 3.25059325e-01, 1.79480991e+01, 2.54791570e+00,\n",
       "       1.38922577e+01, 2.25118542e+00, 6.86561525e-01, 6.23907804e-01,\n",
       "       3.03841531e-02, 5.24775922e-01, 2.89943784e-01, 1.42055416e+00,\n",
       "       4.44963276e-01, 2.47197021e-02, 1.60044193e+00, 5.98005676e+00,\n",
       "       1.37174439e+00, 2.76030898e+00, 9.54865873e-01, 3.29084277e+00,\n",
       "       7.63520050e+00, 1.10481501e+01, 4.55967426e+00, 6.89381182e-01,\n",
       "       5.21823835e+00, 9.48951912e+00, 1.09892540e+01, 4.99271345e+00,\n",
       "       1.05744085e+01, 4.46278000e+00, 2.84765244e+00, 8.43635464e+00,\n",
       "       6.36641979e+00, 1.95841904e+01, 2.32926440e+00, 5.34796572e+00,\n",
       "       1.96411049e+00, 2.17456865e+00, 8.59936297e-01, 1.32189541e+01,\n",
       "       1.95778275e+01, 4.46226329e-01, 1.11743889e+01, 9.57915783e+00,\n",
       "       3.98474193e+00, 4.58698845e+00, 3.70311785e+00, 2.17567849e+00,\n",
       "       1.34938157e+00, 2.17920971e+00, 9.02073479e+00, 9.08511162e+00,\n",
       "       1.08788214e+01, 1.75309527e+00, 9.76076412e+00, 3.12422085e+00,\n",
       "       1.25477254e+00, 2.14488220e+00, 7.28555489e+00, 1.80456314e+01,\n",
       "       6.83910227e+00, 2.69231262e+01, 7.88169503e-01, 2.30805254e+00,\n",
       "       6.48921919e+00, 2.79276371e+00, 4.98043776e+00, 3.77515388e+00,\n",
       "       1.18145414e-01, 1.15408516e+01, 2.05721474e+00, 9.20790672e+00,\n",
       "       1.52405035e+00, 7.92828751e+00, 9.37066746e+00, 3.66674805e+00,\n",
       "       2.94108224e+00, 2.70222259e+00, 2.12597892e-01, 1.95305729e+00,\n",
       "       5.00604093e-01, 6.33551031e-02, 2.35788822e+00, 3.90730891e-03,\n",
       "       4.70571804e+00, 3.06998277e+00, 1.34750109e+01, 1.61170650e+00,\n",
       "       2.15613174e+00, 9.22245979e-01, 1.20538294e+00, 1.09657450e+01,\n",
       "       2.90514636e+00, 5.70366383e+00, 8.39606953e+00, 1.49370837e+00,\n",
       "       1.54894629e+01, 1.09125242e+01, 4.76893711e+00, 2.98746657e+00,\n",
       "       5.23907661e+00, 9.77431393e+00, 5.94683552e+00, 5.40510559e+00,\n",
       "       1.74371278e+00, 3.98575616e+00, 5.05732679e+00, 5.09829879e-01,\n",
       "       1.39972057e+01, 8.05087471e+00, 6.30936480e+00, 1.39499731e+01,\n",
       "       4.57562351e+00, 5.27621508e+00, 8.80946350e+00, 8.01513255e-01,\n",
       "       1.65091877e+01, 6.05913830e+00, 6.75719213e+00, 5.99721575e+00,\n",
       "       1.23644276e+01, 3.58211255e+00, 1.39402933e+01, 5.11755514e+00,\n",
       "       5.16958952e+00, 2.39573932e+00, 1.98429668e+00, 1.53116579e+01,\n",
       "       4.19186831e-01, 4.08815622e+00, 1.86135197e+00, 1.37793195e+00,\n",
       "       4.22184961e-03, 6.21013463e-01, 1.99298871e+00, 6.77229929e+00,\n",
       "       7.46405602e+00, 6.66349220e+00, 2.48461580e+00, 8.80638599e+00,\n",
       "       5.94051933e+00, 1.28370345e-01, 3.98139119e-01, 3.24813056e+00,\n",
       "       1.43406236e+00, 7.69111967e+00, 5.04609919e+00, 1.65379550e-02,\n",
       "       2.53548563e-01, 6.27422714e+00, 8.03684330e+00, 9.91851616e+00,\n",
       "       1.00409222e+01, 7.91064692e+00, 1.50721848e+00, 1.48459873e+01,\n",
       "       7.65957451e+00, 2.67271852e+00, 1.42882824e+01, 1.04635916e+01,\n",
       "       1.23398771e+01, 7.30337524e+00, 1.08751173e+01, 7.26594210e+00,\n",
       "       2.24126005e+00, 1.33786240e+01, 5.65915203e+00, 5.40016127e+00,\n",
       "       1.21177139e+01, 2.06845713e+00, 6.42478132e+00, 9.56776559e-01,\n",
       "       5.18715429e+00, 4.37258244e+00, 6.83212137e+00, 1.07307625e+01,\n",
       "       7.92977619e+00, 2.01099663e+01, 6.53117180e-01, 8.58454227e+00,\n",
       "       8.15538466e-01, 9.23662090e+00, 1.58578527e+00, 1.47023945e+01,\n",
       "       4.46035719e+00, 4.82450294e+00, 1.90947700e+00, 1.07606113e+00,\n",
       "       3.88436937e+00, 2.40462613e+00, 1.28371739e+00, 5.86116076e+00,\n",
       "       1.47662544e+00, 1.08259525e+01, 2.43969178e+00, 6.16749668e+00,\n",
       "       3.38052630e-01, 5.80126822e-01, 3.06194901e+00, 3.07143068e+00,\n",
       "       5.24719429e+00, 6.82855511e+00, 1.49249351e+00, 2.93862462e+00,\n",
       "       2.67309952e+00, 4.40967751e+00, 3.41539907e+00, 4.62735623e-01,\n",
       "       3.36142778e+00, 7.21837103e-01, 3.76280642e+00, 3.41761422e+00,\n",
       "       1.61778283e+00, 2.97715038e-01, 7.02758580e-02, 6.84481204e-01,\n",
       "       2.00063324e+00, 6.52792454e+00, 4.19695711e+00, 6.33748913e+00,\n",
       "       1.12618771e+01, 6.39976931e+00, 2.51816807e+01], dtype=float32)"
      ]
     },
     "execution_count": 18,
     "metadata": {},
     "output_type": "execute_result"
    }
   ],
   "source": [
    "data.loc[0, 'D'][0]"
   ]
  },
  {
   "cell_type": "code",
   "execution_count": 13,
   "metadata": {},
   "outputs": [
    {
     "data": {
      "text/plain": [
       "1025"
      ]
     },
     "execution_count": 13,
     "metadata": {},
     "output_type": "execute_result"
    }
   ],
   "source": [
    "len(data.loc[1, 'D'])"
   ]
  },
  {
   "cell_type": "code",
   "execution_count": 14,
   "metadata": {},
   "outputs": [
    {
     "data": {
      "text/plain": [
       "431"
      ]
     },
     "execution_count": 14,
     "metadata": {},
     "output_type": "execute_result"
    }
   ],
   "source": [
    "len(data.loc[1, 'D'][0])"
   ]
  },
  {
   "cell_type": "code",
   "execution_count": 15,
   "metadata": {},
   "outputs": [
    {
     "data": {
      "text/plain": [
       "1025"
      ]
     },
     "execution_count": 15,
     "metadata": {},
     "output_type": "execute_result"
    }
   ],
   "source": [
    "len(data.loc[2, 'D'])"
   ]
  },
  {
   "cell_type": "code",
   "execution_count": 16,
   "metadata": {},
   "outputs": [
    {
     "data": {
      "text/plain": [
       "431"
      ]
     },
     "execution_count": 16,
     "metadata": {},
     "output_type": "execute_result"
    }
   ],
   "source": [
    "len(data.loc[2, 'D'][0])"
   ]
  },
  {
   "cell_type": "code",
   "execution_count": 22,
   "metadata": {},
   "outputs": [],
   "source": [
    "#data.to_csv('data_fourier.csv', index=False)"
   ]
  },
  {
   "cell_type": "code",
   "execution_count": null,
   "metadata": {},
   "outputs": [],
   "source": []
  }
 ],
 "metadata": {
  "kernelspec": {
   "display_name": "Python 3",
   "language": "python",
   "name": "python3"
  },
  "language_info": {
   "codemirror_mode": {
    "name": "ipython",
    "version": 3
   },
   "file_extension": ".py",
   "mimetype": "text/x-python",
   "name": "python",
   "nbconvert_exporter": "python",
   "pygments_lexer": "ipython3",
   "version": "3.7.2"
  }
 },
 "nbformat": 4,
 "nbformat_minor": 2
}
