{
 "cells": [
  {
   "cell_type": "code",
   "execution_count": 25,
   "metadata": {},
   "outputs": [],
   "source": [
    "%matplotlib inline\n",
    "\n",
    "import numpy as np\n",
    "import pandas as pd\n",
    "\n",
    "import librosa.display\n",
    "import librosa\n",
    "\n",
    "from glob import glob\n",
    "\n",
    "import ffmpeg\n",
    "\n",
    "import os\n",
    "\n",
    "from pydub import AudioSegment\n",
    "from pydub.utils import make_chunks"
   ]
  },
  {
   "cell_type": "code",
   "execution_count": 26,
   "metadata": {},
   "outputs": [],
   "source": [
    "data_dir = './sounds'\n",
    "audio_files = glob(data_dir + '/*')"
   ]
  },
  {
   "cell_type": "code",
   "execution_count": 29,
   "metadata": {},
   "outputs": [
    {
     "data": {
      "text/plain": [
       "4"
      ]
     },
     "execution_count": 29,
     "metadata": {},
     "output_type": "execute_result"
    }
   ],
   "source": [
    "len(audio_files)"
   ]
  },
  {
   "cell_type": "code",
   "execution_count": 30,
   "metadata": {},
   "outputs": [
    {
     "name": "stdout",
     "output_type": "stream",
     "text": [
      "exporting ducha_5.mp30.wav\n",
      "exporting ducha_5.mp31.wav\n",
      "exporting ducha_5.mp32.wav\n",
      "exporting ducha_5.mp33.wav\n",
      "exporting ducha_5.mp34.wav\n",
      "exporting ducha_5.mp35.wav\n",
      "exporting ducha_5.mp36.wav\n",
      "exporting ducha_5.mp37.wav\n",
      "exporting ducha_5.mp38.wav\n",
      "exporting ducha_5.mp39.wav\n",
      "exporting ducha_5.mp310.wav\n",
      "exporting ducha_5.mp311.wav\n",
      "exporting ducha_5.mp312.wav\n",
      "exporting ducha_5.mp313.wav\n",
      "exporting ducha_5.mp314.wav\n",
      "exporting ducha_5.mp315.wav\n",
      "exporting ducha_5.mp316.wav\n",
      "exporting ducha_5.mp317.wav\n",
      "exporting ducha_5.mp318.wav\n",
      "exporting ducha_5.mp319.wav\n",
      "exporting ducha_5.mp320.wav\n",
      "exporting ducha_5.mp321.wav\n",
      "exporting ducha_5.mp322.wav\n",
      "exporting ducha_5.mp323.wav\n",
      "exporting ducha_5.mp324.wav\n",
      "exporting ducha_5.mp325.wav\n",
      "exporting ducha_5.mp326.wav\n",
      "exporting ducha_5.mp327.wav\n",
      "exporting ducha_5.mp328.wav\n",
      "exporting ducha_5.mp329.wav\n",
      "exporting ducha_5.mp330.wav\n",
      "exporting ducha_5.mp331.wav\n",
      "exporting ducha_5.mp332.wav\n",
      "exporting ducha_5.mp333.wav\n",
      "exporting ducha_5.mp334.wav\n",
      "exporting ducha_5.mp335.wav\n",
      "exporting ducha_5.mp336.wav\n",
      "exporting ducha_2.mp30.wav\n",
      "exporting ducha_2.mp31.wav\n",
      "exporting ducha_2.mp32.wav\n",
      "exporting ducha_2.mp33.wav\n",
      "exporting ducha_2.mp34.wav\n",
      "exporting ducha_2.mp35.wav\n",
      "exporting ducha_2.mp36.wav\n",
      "exporting ducha_2.mp37.wav\n",
      "exporting ducha_2.mp38.wav\n",
      "exporting ducha_2.mp39.wav\n",
      "exporting ducha_2.mp310.wav\n",
      "exporting ducha_2.mp311.wav\n",
      "exporting ducha_2.mp312.wav\n",
      "exporting ducha_2.mp313.wav\n",
      "exporting ducha_2.mp314.wav\n",
      "exporting ducha_2.mp315.wav\n",
      "exporting ducha_2.mp316.wav\n",
      "exporting ducha_2.mp317.wav\n",
      "exporting ducha_2.mp318.wav\n",
      "exporting ducha_2.mp319.wav\n",
      "exporting ducha_2.mp320.wav\n",
      "exporting ducha_2.mp321.wav\n",
      "exporting ducha_2.mp322.wav\n",
      "exporting ducha_2.mp323.wav\n",
      "exporting ducha_2.mp324.wav\n",
      "exporting ducha_2.mp325.wav\n",
      "exporting ducha_2.mp326.wav\n",
      "exporting ducha_2.mp327.wav\n",
      "exporting ducha_2.mp328.wav\n",
      "exporting ducha_2.mp329.wav\n",
      "exporting ducha_2.mp330.wav\n",
      "exporting ducha_2.mp331.wav\n",
      "exporting ducha_2.mp332.wav\n",
      "exporting ducha_2.mp333.wav\n",
      "exporting ducha_2.mp334.wav\n",
      "exporting ducha_2.mp335.wav\n",
      "exporting ducha_2.mp336.wav\n",
      "exporting ducha_3.mp30.wav\n",
      "exporting ducha_3.mp31.wav\n",
      "exporting ducha_3.mp32.wav\n",
      "exporting ducha_3.mp33.wav\n",
      "exporting ducha_3.mp34.wav\n",
      "exporting ducha_3.mp35.wav\n",
      "exporting ducha_3.mp36.wav\n",
      "exporting ducha_3.mp37.wav\n",
      "exporting ducha_3.mp38.wav\n",
      "exporting ducha_3.mp39.wav\n",
      "exporting ducha_3.mp310.wav\n",
      "exporting ducha_3.mp311.wav\n",
      "exporting ducha_3.mp312.wav\n",
      "exporting ducha_3.mp313.wav\n",
      "exporting ducha_3.mp314.wav\n",
      "exporting ducha_3.mp315.wav\n",
      "exporting ducha_3.mp316.wav\n",
      "exporting ducha_3.mp317.wav\n",
      "exporting ducha_3.mp318.wav\n",
      "exporting ducha_3.mp319.wav\n",
      "exporting ducha_3.mp320.wav\n",
      "exporting ducha_3.mp321.wav\n",
      "exporting ducha_3.mp322.wav\n",
      "exporting ducha_3.mp323.wav\n",
      "exporting ducha_3.mp324.wav\n",
      "exporting ducha_3.mp325.wav\n",
      "exporting ducha_3.mp326.wav\n",
      "exporting ducha_3.mp327.wav\n",
      "exporting ducha_3.mp328.wav\n",
      "exporting ducha_3.mp329.wav\n",
      "exporting ducha_3.mp330.wav\n",
      "exporting ducha_3.mp331.wav\n",
      "exporting ducha_3.mp332.wav\n",
      "exporting ducha_3.mp333.wav\n",
      "exporting ducha_3.mp334.wav\n",
      "exporting ducha_3.mp335.wav\n",
      "exporting ducha_3.mp336.wav\n",
      "exporting ducha_4.mp30.wav\n",
      "exporting ducha_4.mp31.wav\n",
      "exporting ducha_4.mp32.wav\n",
      "exporting ducha_4.mp33.wav\n",
      "exporting ducha_4.mp34.wav\n",
      "exporting ducha_4.mp35.wav\n",
      "exporting ducha_4.mp36.wav\n",
      "exporting ducha_4.mp37.wav\n",
      "exporting ducha_4.mp38.wav\n",
      "exporting ducha_4.mp39.wav\n",
      "exporting ducha_4.mp310.wav\n",
      "exporting ducha_4.mp311.wav\n",
      "exporting ducha_4.mp312.wav\n",
      "exporting ducha_4.mp313.wav\n",
      "exporting ducha_4.mp314.wav\n",
      "exporting ducha_4.mp315.wav\n",
      "exporting ducha_4.mp316.wav\n",
      "exporting ducha_4.mp317.wav\n",
      "exporting ducha_4.mp318.wav\n",
      "exporting ducha_4.mp319.wav\n",
      "exporting ducha_4.mp320.wav\n",
      "exporting ducha_4.mp321.wav\n",
      "exporting ducha_4.mp322.wav\n",
      "exporting ducha_4.mp323.wav\n",
      "exporting ducha_4.mp324.wav\n",
      "exporting ducha_4.mp325.wav\n",
      "exporting ducha_4.mp326.wav\n",
      "exporting ducha_4.mp327.wav\n",
      "exporting ducha_4.mp328.wav\n",
      "exporting ducha_4.mp329.wav\n",
      "exporting ducha_4.mp330.wav\n",
      "exporting ducha_4.mp331.wav\n",
      "exporting ducha_4.mp332.wav\n",
      "exporting ducha_4.mp333.wav\n",
      "exporting ducha_4.mp334.wav\n",
      "exporting ducha_4.mp335.wav\n",
      "exporting ducha_4.mp336.wav\n"
     ]
    }
   ],
   "source": [
    "for j in range(len(audio_files)):\n",
    "    myaudio = AudioSegment.from_file(\"./sounds/{}\".format(os.listdir('./sounds/')[j])) \n",
    "    chunk_length_ms = 10000 # pydub calculates in millisec\n",
    "    chunks = make_chunks(myaudio, chunk_length_ms) #Make chunks of one sec\n",
    "\n",
    "    #Export all of the individual chunks as wav files\n",
    "\n",
    "    for i, chunk in enumerate(chunks):\n",
    "        chunk_name = \"{}{}.wav\".format(os.listdir('./sounds/')[j], i)\n",
    "        print(\"exporting\", chunk_name)\n",
    "        chunk.export(chunk_name, format=\"mp3\")"
   ]
  },
  {
   "cell_type": "code",
   "execution_count": 31,
   "metadata": {},
   "outputs": [],
   "source": [
    "data_dir = './sounds2'\n",
    "audio_files = glob(data_dir + '/*.wav')"
   ]
  },
  {
   "cell_type": "code",
   "execution_count": 32,
   "metadata": {},
   "outputs": [
    {
     "data": {
      "text/plain": [
       "148"
      ]
     },
     "execution_count": 32,
     "metadata": {},
     "output_type": "execute_result"
    }
   ],
   "source": [
    "len(audio_files)"
   ]
  },
  {
   "cell_type": "code",
   "execution_count": 33,
   "metadata": {},
   "outputs": [],
   "source": [
    "data = pd.DataFrame(columns = ['name','mfcc', 'scem','scom', 'srom','sbwm', 'tempo', 'rmse'])"
   ]
  },
  {
   "cell_type": "code",
   "execution_count": 34,
   "metadata": {},
   "outputs": [],
   "source": [
    "lista = []\n",
    "for i in range(len(audio_files)):\n",
    "    lista.append(os.listdir('./sounds2/')[i])\n",
    "data.name = lista"
   ]
  },
  {
   "cell_type": "code",
   "execution_count": 35,
   "metadata": {},
   "outputs": [],
   "source": [
    "lista2 = []\n",
    "for i in range(len(audio_files)):\n",
    "    y, sr = librosa.load(audio_files[i])\n",
    "    mfcc_aux = librosa.feature.mfcc(y=y, sr=sr, n_mfcc=20)\n",
    "    mfcc = np.ndarray.mean(mfcc_aux)\n",
    "    lista2.append(mfcc)\n",
    "data.mfcc = lista2"
   ]
  },
  {
   "cell_type": "code",
   "execution_count": 36,
   "metadata": {},
   "outputs": [],
   "source": [
    "lista3 = []\n",
    "for i in range(len(audio_files)):\n",
    "    y, sr = librosa.load(audio_files[i])\n",
    "    cent = librosa.feature.spectral_centroid(y=y, sr=sr)\n",
    "    scem = np.ndarray.mean(cent)\n",
    "    lista3.append(scem)\n",
    "data.scem = lista3"
   ]
  },
  {
   "cell_type": "code",
   "execution_count": 37,
   "metadata": {},
   "outputs": [],
   "source": [
    "lista4 = []\n",
    "for i in range(len(audio_files)):\n",
    "    y, sr = librosa.load(audio_files[i])\n",
    "    S = np.abs(librosa.stft(y))\n",
    "    contrast = librosa.feature.spectral_contrast(S=S, sr=sr)\n",
    "    scom = np.ndarray.mean(contrast)\n",
    "    lista4.append(scom)\n",
    "data.scom = lista4"
   ]
  },
  {
   "cell_type": "code",
   "execution_count": 38,
   "metadata": {},
   "outputs": [],
   "source": [
    "lista5 = []\n",
    "for i in range(len(audio_files)):\n",
    "    y, sr = librosa.load(audio_files[i])\n",
    "    rolloff = librosa.feature.spectral_rolloff(y=y, sr=sr)\n",
    "    srom = np.ndarray.mean(rolloff)\n",
    "    lista5.append(srom)\n",
    "data.srom = lista5"
   ]
  },
  {
   "cell_type": "code",
   "execution_count": 39,
   "metadata": {},
   "outputs": [],
   "source": [
    "lista6 = []\n",
    "for i in range(len(audio_files)):\n",
    "    y, sr = librosa.load(audio_files[i])\n",
    "    spec_bw = librosa.feature.spectral_bandwidth(y=y, sr=sr)\n",
    "    sbwm = np.ndarray.mean(spec_bw)\n",
    "    lista6.append(sbwm)\n",
    "data.sbwm = lista6"
   ]
  },
  {
   "cell_type": "code",
   "execution_count": 40,
   "metadata": {},
   "outputs": [],
   "source": [
    "lista7 = []\n",
    "for i in range(len(audio_files)):\n",
    "    y, sr = librosa.load(audio_files[i])\n",
    "    hop_length = 512\n",
    "    oenv = librosa.onset.onset_strength(y=y, sr=sr, hop_length=hop_length)\n",
    "    tempogram = librosa.feature.tempogram(onset_envelope=oenv, sr=sr, hop_length=hop_length)\n",
    "\n",
    "    # Compute global onset autocorrelation\n",
    "    ac_global = librosa.autocorrelate(oenv, max_size=tempogram.shape[0])\n",
    "    ac_global = librosa.util.normalize(ac_global)\n",
    "\n",
    "    # Estimate the global tempo for display purposes\n",
    "    tempo = librosa.beat.tempo(onset_envelope=oenv, sr=sr, hop_length=hop_length)[0]\n",
    "    lista7.append(tempo)\n",
    "data.tempo = lista7"
   ]
  },
  {
   "cell_type": "code",
   "execution_count": 41,
   "metadata": {},
   "outputs": [],
   "source": [
    "lista8 = []\n",
    "for i in range(len(audio_files)):\n",
    "    y, sr = librosa.load(audio_files[i])\n",
    "    rmse_aux = librosa.feature.rms(y=y)\n",
    "    rmse = np.ndarray.mean(rmse_aux)\n",
    "    lista8.append(rmse)\n",
    "data.rmse = lista8"
   ]
  },
  {
   "cell_type": "code",
   "execution_count": 42,
   "metadata": {},
   "outputs": [
    {
     "data": {
      "text/plain": [
       "(148, 8)"
      ]
     },
     "execution_count": 42,
     "metadata": {},
     "output_type": "execute_result"
    }
   ],
   "source": [
    "data.shape"
   ]
  },
  {
   "cell_type": "code",
   "execution_count": 43,
   "metadata": {},
   "outputs": [
    {
     "data": {
      "text/plain": [
       "name      object\n",
       "mfcc     float64\n",
       "scem     float64\n",
       "scom     float64\n",
       "srom     float64\n",
       "sbwm     float64\n",
       "tempo    float64\n",
       "rmse     float64\n",
       "dtype: object"
      ]
     },
     "execution_count": 43,
     "metadata": {},
     "output_type": "execute_result"
    }
   ],
   "source": [
    "data.dtypes"
   ]
  },
  {
   "cell_type": "code",
   "execution_count": 44,
   "metadata": {},
   "outputs": [],
   "source": [
    "momento = []\n",
    "\n",
    "for i in data['name']:\n",
    "    if 'ducha' in i:\n",
    "        momento.append('Ducha')\n",
    "    elif 'cena' in i:\n",
    "        momento.append('Cena')\n",
    "    elif 'washing' in i:\n",
    "        momento.append('Lavadora')\n",
    "    elif 'vacuum' in i:\n",
    "        momento.append('Aspiradora')\n",
    "    elif 'shaver' in i:\n",
    "        momento.append('Afeitadora')\n",
    "    elif 'hairdryer' in i:\n",
    "        momento.append('Secador_pelo')\n",
    "    elif 'airconditioner' in i:\n",
    "        momento.append('Aire_acondicionado')\n",
    "    elif 'cellphone' in i:\n",
    "        momento.append('Telefono')\n",
    "    elif 'comp_type' in i:\n",
    "        momento.append('Tecleo')\n",
    "    elif 'silence' in i:\n",
    "        momento.append('Silencio')\n",
    "    elif 'dryer' in i:\n",
    "        momento.append('Secadora')\n",
    "    else:\n",
    "        momento.append('Otro')\n",
    "        \n",
    "data['momento_aux'] = momento\n",
    "#data['momento'] = 'Otro'\n",
    "data.drop(['name'], axis=1, inplace=True)"
   ]
  },
  {
   "cell_type": "code",
   "execution_count": 45,
   "metadata": {},
   "outputs": [
    {
     "data": {
      "text/plain": [
       "Ducha    148\n",
       "Name: momento_aux, dtype: int64"
      ]
     },
     "execution_count": 45,
     "metadata": {},
     "output_type": "execute_result"
    }
   ],
   "source": [
    "data.momento_aux.value_counts()"
   ]
  },
  {
   "cell_type": "code",
   "execution_count": 46,
   "metadata": {},
   "outputs": [],
   "source": [
    "data.to_csv('data_momento_aux_vacuum_silence.csv', index=False)"
   ]
  },
  {
   "cell_type": "code",
   "execution_count": null,
   "metadata": {},
   "outputs": [],
   "source": []
  }
 ],
 "metadata": {
  "kernelspec": {
   "display_name": "Python 3",
   "language": "python",
   "name": "python3"
  },
  "language_info": {
   "codemirror_mode": {
    "name": "ipython",
    "version": 3
   },
   "file_extension": ".py",
   "mimetype": "text/x-python",
   "name": "python",
   "nbconvert_exporter": "python",
   "pygments_lexer": "ipython3",
   "version": "3.7.2"
  }
 },
 "nbformat": 4,
 "nbformat_minor": 2
}
