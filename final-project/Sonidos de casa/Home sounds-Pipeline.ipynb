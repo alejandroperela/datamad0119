{
 "cells": [
  {
   "cell_type": "code",
   "execution_count": 10,
   "metadata": {},
   "outputs": [],
   "source": [
    "%matplotlib inline\n",
    "\n",
    "import numpy as np\n",
    "import pandas as pd\n",
    "\n",
    "import librosa.display\n",
    "import librosa\n",
    "\n",
    "from glob import glob\n",
    "\n",
    "import ffmpeg\n",
    "\n",
    "import os\n",
    "\n",
    "from pydub import AudioSegment\n",
    "from pydub.utils import make_chunks"
   ]
  },
  {
   "cell_type": "code",
   "execution_count": 3,
   "metadata": {},
   "outputs": [],
   "source": [
    "data_dir = './sounds'\n",
    "audio_files = glob(data_dir + '/*')"
   ]
  },
  {
   "cell_type": "code",
   "execution_count": 4,
   "metadata": {},
   "outputs": [
    {
     "data": {
      "text/plain": [
       "0"
      ]
     },
     "execution_count": 4,
     "metadata": {},
     "output_type": "execute_result"
    }
   ],
   "source": [
    "len(audio_files)"
   ]
  },
  {
   "cell_type": "code",
   "execution_count": 13,
   "metadata": {},
   "outputs": [
    {
     "name": "stdout",
     "output_type": "stream",
     "text": [
      "exporting ducha.wav0.wav\n",
      "exporting ducha.wav1.wav\n",
      "exporting ducha.wav2.wav\n",
      "exporting ducha.wav3.wav\n",
      "exporting ducha.wav4.wav\n",
      "exporting ducha.wav5.wav\n",
      "exporting ducha.wav6.wav\n",
      "exporting ducha.wav7.wav\n",
      "exporting ducha.wav8.wav\n",
      "exporting ducha.wav9.wav\n",
      "exporting ducha.wav10.wav\n",
      "exporting ducha.wav11.wav\n",
      "exporting ducha.wav12.wav\n",
      "exporting ducha.wav13.wav\n",
      "exporting ducha.wav14.wav\n",
      "exporting ducha.wav15.wav\n",
      "exporting ducha.wav16.wav\n",
      "exporting ducha.wav17.wav\n",
      "exporting ducha.wav18.wav\n",
      "exporting ducha.wav19.wav\n",
      "exporting ducha.wav20.wav\n",
      "exporting ducha.wav21.wav\n",
      "exporting ducha.wav22.wav\n",
      "exporting ducha.wav23.wav\n",
      "exporting ducha.wav24.wav\n",
      "exporting ducha.wav25.wav\n",
      "exporting ducha.wav26.wav\n",
      "exporting ducha.wav27.wav\n",
      "exporting ducha.wav28.wav\n",
      "exporting ducha.wav29.wav\n",
      "exporting ducha.wav30.wav\n",
      "exporting ducha.wav31.wav\n",
      "exporting ducha.wav32.wav\n",
      "exporting ducha.wav33.wav\n",
      "exporting ducha.wav34.wav\n"
     ]
    }
   ],
   "source": [
    "data_dir = './sounds'\n",
    "audio_files = glob(data_dir + '/*')\n",
    "for j in range(len(audio_files)):\n",
    "    myaudio = AudioSegment.from_file(\"./sounds/{}\".format(os.listdir('./sounds/')[j])) \n",
    "    chunk_length_ms = 10000\n",
    "    chunks = make_chunks(myaudio, chunk_length_ms)\n",
    "\n",
    "for i, chunk in enumerate(chunks):\n",
    "    chunk_name = \"{}{}.wav\".format(os.listdir('./sounds/')[j], i)\n",
    "    print(\"exporting\", chunk_name)\n",
    "    chunk.export(chunk_name, format=\"mp3\")"
   ]
  },
  {
   "cell_type": "code",
   "execution_count": 22,
   "metadata": {},
   "outputs": [],
   "source": [
    "def Pipeline():    \n",
    "    data_dir = './sounds2'\n",
    "    audio_files = glob(data_dir + '/*.wav')\n",
    "    \n",
    "    data = pd.DataFrame(columns = ['name','mfcc', 'scem','scom', 'srom','sbwm', 'tempo', 'rmse'])\n",
    "    \n",
    "    lista = []\n",
    "    for i in range(len(audio_files)):\n",
    "        lista.append(os.listdir('./sounds2/')[i])\n",
    "    data.name = lista\n",
    "    \n",
    "    lista2 = []\n",
    "    for i in range(len(audio_files)):\n",
    "        y, sr = librosa.load(audio_files[i])\n",
    "        mfcc_aux = librosa.feature.mfcc(y=y, sr=sr, n_mfcc=20)\n",
    "        mfcc = np.ndarray.mean(mfcc_aux)\n",
    "        lista2.append(mfcc)\n",
    "    data.mfcc = lista2\n",
    "    \n",
    "    lista3 = []\n",
    "    for i in range(len(audio_files)):\n",
    "        y, sr = librosa.load(audio_files[i])\n",
    "        cent = librosa.feature.spectral_centroid(y=y, sr=sr)\n",
    "        scem = np.ndarray.mean(cent)\n",
    "        lista3.append(scem)\n",
    "    data.scem = lista3\n",
    "    \n",
    "    lista4 = []\n",
    "    for i in range(len(audio_files)):\n",
    "        y, sr = librosa.load(audio_files[i])\n",
    "        S = np.abs(librosa.stft(y))\n",
    "        contrast = librosa.feature.spectral_contrast(S=S, sr=sr)\n",
    "        scom = np.ndarray.mean(contrast)\n",
    "        lista4.append(scom)\n",
    "    data.scom = lista4\n",
    "    \n",
    "    lista5 = []\n",
    "    for i in range(len(audio_files)):\n",
    "        y, sr = librosa.load(audio_files[i])\n",
    "        rolloff = librosa.feature.spectral_rolloff(y=y, sr=sr)\n",
    "        srom = np.ndarray.mean(rolloff)\n",
    "        lista5.append(srom)\n",
    "    data.srom = lista5\n",
    "    \n",
    "    lista6 = []\n",
    "    for i in range(len(audio_files)):\n",
    "        y, sr = librosa.load(audio_files[i])\n",
    "        spec_bw = librosa.feature.spectral_bandwidth(y=y, sr=sr)\n",
    "        sbwm = np.ndarray.mean(spec_bw)\n",
    "        lista6.append(sbwm)\n",
    "    data.sbwm = lista6\n",
    "    \n",
    "    lista7 = []\n",
    "    for i in range(len(audio_files)):\n",
    "        y, sr = librosa.load(audio_files[i])\n",
    "        hop_length = 512\n",
    "        oenv = librosa.onset.onset_strength(y=y, sr=sr, hop_length=hop_length)\n",
    "        tempogram = librosa.feature.tempogram(onset_envelope=oenv, sr=sr, hop_length=hop_length)\n",
    "\n",
    "        ac_global = librosa.autocorrelate(oenv, max_size=tempogram.shape[0])\n",
    "        ac_global = librosa.util.normalize(ac_global)\n",
    "\n",
    "        tempo = librosa.beat.tempo(onset_envelope=oenv, sr=sr, hop_length=hop_length)[0]\n",
    "        lista7.append(tempo)\n",
    "    data.tempo = lista7\n",
    "    \n",
    "    lista8 = []\n",
    "    for i in range(len(audio_files)):\n",
    "        y, sr = librosa.load(audio_files[i])\n",
    "        rmse_aux = librosa.feature.rms(y=y)\n",
    "        rmse = np.ndarray.mean(rmse_aux)\n",
    "        lista8.append(rmse)\n",
    "    data.rmse = lista8\n",
    "    \n",
    "    momento = []\n",
    "\n",
    "    for i in data['name']:\n",
    "        if 'ducha' in i:\n",
    "            momento.append('Ducha')\n",
    "        elif 'cena' in i:\n",
    "            momento.append('Cena')\n",
    "        elif 'washing' in i:\n",
    "            momento.append('Lavadora')\n",
    "        elif 'vacuum' in i:\n",
    "            momento.append('Aspiradora')\n",
    "        elif 'shaver' in i:\n",
    "            momento.append('Afeitadora')\n",
    "        elif 'hairdryer' in i:\n",
    "            momento.append('Secador_pelo')\n",
    "        else:\n",
    "            momento.append('Otro')\n",
    "\n",
    "    data['momento_aux'] = momento\n",
    "    #data['momento'] = 'Otro'\n",
    "    data.drop(['name'], axis=1, inplace=True)\n",
    "    \n",
    "    return data"
   ]
  },
  {
   "cell_type": "code",
   "execution_count": 23,
   "metadata": {},
   "outputs": [],
   "source": [
    "data = Pipeline()"
   ]
  },
  {
   "cell_type": "code",
   "execution_count": 18,
   "metadata": {},
   "outputs": [
    {
     "data": {
      "text/plain": [
       "(35, 8)"
      ]
     },
     "execution_count": 18,
     "metadata": {},
     "output_type": "execute_result"
    }
   ],
   "source": [
    "data.shape"
   ]
  },
  {
   "cell_type": "code",
   "execution_count": 19,
   "metadata": {},
   "outputs": [
    {
     "data": {
      "text/plain": [
       "name      object\n",
       "mfcc     float64\n",
       "scem     float64\n",
       "scom     float64\n",
       "srom     float64\n",
       "sbwm     float64\n",
       "tempo    float64\n",
       "rmse     float64\n",
       "dtype: object"
      ]
     },
     "execution_count": 19,
     "metadata": {},
     "output_type": "execute_result"
    }
   ],
   "source": [
    "data.dtypes"
   ]
  },
  {
   "cell_type": "code",
   "execution_count": 21,
   "metadata": {},
   "outputs": [
    {
     "data": {
      "text/plain": [
       "Ducha    35\n",
       "Name: momento_aux, dtype: int64"
      ]
     },
     "execution_count": 21,
     "metadata": {},
     "output_type": "execute_result"
    }
   ],
   "source": [
    "data.momento_aux.value_counts()"
   ]
  },
  {
   "cell_type": "code",
   "execution_count": 42,
   "metadata": {},
   "outputs": [],
   "source": [
    "data.to_csv('data_momento_aux_aux.csv', index=False)"
   ]
  },
  {
   "cell_type": "code",
   "execution_count": null,
   "metadata": {},
   "outputs": [],
   "source": []
  }
 ],
 "metadata": {
  "kernelspec": {
   "display_name": "Python 3",
   "language": "python",
   "name": "python3"
  },
  "language_info": {
   "codemirror_mode": {
    "name": "ipython",
    "version": 3
   },
   "file_extension": ".py",
   "mimetype": "text/x-python",
   "name": "python",
   "nbconvert_exporter": "python",
   "pygments_lexer": "ipython3",
   "version": "3.7.2"
  }
 },
 "nbformat": 4,
 "nbformat_minor": 2
}
