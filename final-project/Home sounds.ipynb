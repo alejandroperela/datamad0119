{
 "cells": [
  {
   "cell_type": "code",
   "execution_count": 99,
   "metadata": {},
   "outputs": [],
   "source": [
    "%matplotlib inline\n",
    "\n",
    "import numpy as np\n",
    "import pandas as pd\n",
    "\n",
    "import matplotlib.pyplot as plt\n",
    "\n",
    "import librosa.display\n",
    "import librosa\n",
    "\n",
    "from glob import glob\n",
    "\n",
    "import ffmpeg\n",
    "\n",
    "import os\n",
    "\n",
    "from sklearn import datasets\n",
    "from sklearn.model_selection import train_test_split\n",
    "from sklearn import svm\n",
    "from sklearn import metrics\n",
    "from sklearn.metrics import confusion_matrix\n",
    "from sklearn.utils.multiclass import unique_labels\n",
    "from sklearn.model_selection import cross_val_score\n",
    "from sklearn.linear_model import LogisticRegression\n",
    "from sklearn.multiclass import OneVsRestClassifier\n",
    "from sklearn.ensemble import RandomForestClassifier\n",
    "from sklearn import linear_model\n",
    "from sklearn.metrics import accuracy_score\n",
    "from sklearn.metrics import balanced_accuracy_score\n",
    "from sklearn.metrics import precision_score, recall_score, f1_score\n",
    "from sklearn.metrics import roc_curve, auc\n",
    "from sklearn.preprocessing import label_binarize\n",
    "from sklearn.neighbors import KNeighborsClassifier\n",
    "\n",
    "from scipy import interp\n",
    "\n",
    "from itertools import cycle\n",
    "\n",
    "import seaborn as sns"
   ]
  },
  {
   "cell_type": "code",
   "execution_count": 56,
   "metadata": {},
   "outputs": [],
   "source": [
    "data_dir = './wav'\n",
    "audio_files = glob(data_dir + '/*.wav')"
   ]
  },
  {
   "cell_type": "code",
   "execution_count": 57,
   "metadata": {},
   "outputs": [
    {
     "name": "stdout",
     "output_type": "stream",
     "text": [
      "exporting ducha.wav0.wav\n",
      "exporting ducha.wav1.wav\n",
      "exporting ducha.wav2.wav\n",
      "exporting ducha.wav3.wav\n",
      "exporting ducha.wav4.wav\n",
      "exporting ducha.wav5.wav\n",
      "exporting ducha.wav6.wav\n",
      "exporting ducha.wav7.wav\n",
      "exporting ducha.wav8.wav\n",
      "exporting ducha.wav9.wav\n",
      "exporting ducha.wav10.wav\n",
      "exporting ducha.wav11.wav\n",
      "exporting ducha.wav12.wav\n",
      "exporting ducha.wav13.wav\n",
      "exporting ducha.wav14.wav\n",
      "exporting ducha.wav15.wav\n",
      "exporting ducha.wav16.wav\n",
      "exporting ducha.wav17.wav\n",
      "exporting ducha.wav18.wav\n",
      "exporting ducha.wav19.wav\n",
      "exporting ducha.wav20.wav\n",
      "exporting ducha.wav21.wav\n",
      "exporting ducha.wav22.wav\n",
      "exporting ducha.wav23.wav\n",
      "exporting ducha.wav24.wav\n",
      "exporting ducha.wav25.wav\n",
      "exporting ducha.wav26.wav\n",
      "exporting ducha.wav27.wav\n",
      "exporting ducha.wav28.wav\n",
      "exporting ducha.wav29.wav\n",
      "exporting ducha.wav30.wav\n",
      "exporting ducha.wav31.wav\n",
      "exporting ducha.wav32.wav\n",
      "exporting ducha.wav33.wav\n",
      "exporting ducha.wav34.wav\n",
      "exporting cena.wav0.wav\n",
      "exporting cena.wav1.wav\n",
      "exporting cena.wav2.wav\n",
      "exporting cena.wav3.wav\n",
      "exporting cena.wav4.wav\n",
      "exporting cena.wav5.wav\n",
      "exporting cena.wav6.wav\n",
      "exporting cena.wav7.wav\n",
      "exporting cena.wav8.wav\n",
      "exporting cena.wav9.wav\n",
      "exporting cena.wav10.wav\n",
      "exporting cena.wav11.wav\n",
      "exporting cena.wav12.wav\n",
      "exporting cena.wav13.wav\n",
      "exporting cena.wav14.wav\n",
      "exporting cena.wav15.wav\n",
      "exporting cena.wav16.wav\n",
      "exporting cena.wav17.wav\n",
      "exporting cena.wav18.wav\n",
      "exporting cena.wav19.wav\n",
      "exporting cena.wav20.wav\n",
      "exporting cena.wav21.wav\n",
      "exporting cena.wav22.wav\n",
      "exporting cena.wav23.wav\n",
      "exporting cena.wav24.wav\n",
      "exporting cena.wav25.wav\n",
      "exporting cena.wav26.wav\n",
      "exporting cena.wav27.wav\n",
      "exporting cena.wav28.wav\n",
      "exporting cena.wav29.wav\n",
      "exporting cena.wav30.wav\n",
      "exporting cena.wav31.wav\n",
      "exporting cena.wav32.wav\n",
      "exporting cena.wav33.wav\n",
      "exporting cena.wav34.wav\n",
      "exporting cena.wav35.wav\n",
      "exporting cena.wav36.wav\n",
      "exporting cena.wav37.wav\n",
      "exporting cena.wav38.wav\n",
      "exporting cena.wav39.wav\n",
      "exporting cena.wav40.wav\n",
      "exporting cena.wav41.wav\n",
      "exporting cena.wav42.wav\n",
      "exporting cena.wav43.wav\n",
      "exporting cena.wav44.wav\n",
      "exporting cena.wav45.wav\n",
      "exporting cena.wav46.wav\n",
      "exporting cena.wav47.wav\n",
      "exporting cena.wav48.wav\n",
      "exporting cena.wav49.wav\n",
      "exporting cena.wav50.wav\n",
      "exporting cena.wav51.wav\n",
      "exporting cena.wav52.wav\n",
      "exporting cena.wav53.wav\n",
      "exporting cena.wav54.wav\n",
      "exporting cena.wav55.wav\n",
      "exporting cena.wav56.wav\n",
      "exporting cena.wav57.wav\n",
      "exporting cena.wav58.wav\n",
      "exporting cena.wav59.wav\n",
      "exporting cena.wav60.wav\n",
      "exporting cena.wav61.wav\n",
      "exporting cena.wav62.wav\n",
      "exporting cena.wav63.wav\n",
      "exporting cena.wav64.wav\n",
      "exporting cena.wav65.wav\n",
      "exporting cena.wav66.wav\n",
      "exporting cena.wav67.wav\n",
      "exporting cena.wav68.wav\n",
      "exporting cena.wav69.wav\n",
      "exporting cena.wav70.wav\n",
      "exporting cena.wav71.wav\n",
      "exporting cena.wav72.wav\n",
      "exporting cena.wav73.wav\n",
      "exporting cena.wav74.wav\n",
      "exporting cena.wav75.wav\n",
      "exporting cena.wav76.wav\n",
      "exporting cena.wav77.wav\n",
      "exporting cena.wav78.wav\n",
      "exporting cena.wav79.wav\n",
      "exporting cena.wav80.wav\n",
      "exporting cena.wav81.wav\n",
      "exporting cena.wav82.wav\n",
      "exporting cena.wav83.wav\n",
      "exporting cena.wav84.wav\n",
      "exporting cena.wav85.wav\n",
      "exporting cena.wav86.wav\n",
      "exporting cena.wav87.wav\n",
      "exporting cena.wav88.wav\n",
      "exporting cena.wav89.wav\n",
      "exporting cena.wav90.wav\n",
      "exporting cena.wav91.wav\n",
      "exporting cena.wav92.wav\n",
      "exporting cena.wav93.wav\n",
      "exporting cena.wav94.wav\n",
      "exporting cena.wav95.wav\n",
      "exporting cena.wav96.wav\n",
      "exporting cena.wav97.wav\n",
      "exporting cena.wav98.wav\n",
      "exporting cena.wav99.wav\n",
      "exporting cena.wav100.wav\n",
      "exporting cena.wav101.wav\n",
      "exporting cena.wav102.wav\n",
      "exporting cena.wav103.wav\n",
      "exporting cena.wav104.wav\n",
      "exporting cena.wav105.wav\n",
      "exporting cena.wav106.wav\n",
      "exporting cena.wav107.wav\n",
      "exporting cena.wav108.wav\n",
      "exporting cena.wav109.wav\n",
      "exporting cena.wav110.wav\n",
      "exporting cena.wav111.wav\n",
      "exporting cena.wav112.wav\n",
      "exporting cena.wav113.wav\n",
      "exporting cena.wav114.wav\n",
      "exporting cena.wav115.wav\n",
      "exporting cena.wav116.wav\n",
      "exporting cena.wav117.wav\n",
      "exporting cena.wav118.wav\n",
      "exporting cena.wav119.wav\n",
      "exporting cena.wav120.wav\n",
      "exporting cena.wav121.wav\n",
      "exporting cena.wav122.wav\n",
      "exporting cena.wav123.wav\n",
      "exporting cena.wav124.wav\n",
      "exporting cena.wav125.wav\n",
      "exporting cena.wav126.wav\n",
      "exporting cena.wav127.wav\n",
      "exporting cena.wav128.wav\n",
      "exporting cena.wav129.wav\n"
     ]
    }
   ],
   "source": [
    "from pydub import AudioSegment\n",
    "from pydub.utils import make_chunks\n",
    "\n",
    "for j in range(len(audio_files)):\n",
    "    myaudio = AudioSegment.from_file(\"./wav/{}\".format(os.listdir('./wav/')[j])) \n",
    "    chunk_length_ms = 10000 # pydub calculates in millisec\n",
    "    chunks = make_chunks(myaudio, chunk_length_ms) #Make chunks of one sec\n",
    "\n",
    "    #Export all of the individual chunks as wav files\n",
    "\n",
    "    for i, chunk in enumerate(chunks):\n",
    "        chunk_name = \"{}{}.wav\".format(os.listdir('./wav/')[j], i)\n",
    "        print(\"exporting\", chunk_name)\n",
    "        chunk.export(chunk_name, format=\"wav\")"
   ]
  },
  {
   "cell_type": "code",
   "execution_count": 58,
   "metadata": {},
   "outputs": [
    {
     "data": {
      "text/plain": [
       "2"
      ]
     },
     "execution_count": 58,
     "metadata": {},
     "output_type": "execute_result"
    }
   ],
   "source": [
    "len(audio_files)"
   ]
  },
  {
   "cell_type": "code",
   "execution_count": 71,
   "metadata": {},
   "outputs": [],
   "source": [
    "data_dir = './wav2'\n",
    "audio_files = glob(data_dir + '/*.wav')"
   ]
  },
  {
   "cell_type": "code",
   "execution_count": 72,
   "metadata": {},
   "outputs": [
    {
     "data": {
      "text/plain": [
       "165"
      ]
     },
     "execution_count": 72,
     "metadata": {},
     "output_type": "execute_result"
    }
   ],
   "source": [
    "len(audio_files)"
   ]
  },
  {
   "cell_type": "code",
   "execution_count": 73,
   "metadata": {},
   "outputs": [],
   "source": [
    "data = pd.DataFrame(columns = ['name','mfcc', 'scem','scom', 'srom','sbwm', 'tempo', 'rmse'])"
   ]
  },
  {
   "cell_type": "code",
   "execution_count": 74,
   "metadata": {},
   "outputs": [],
   "source": [
    "lista = []\n",
    "for i in range(len(audio_files)):\n",
    "    lista.append(os.listdir('./wav2/')[i])\n",
    "data.name = lista"
   ]
  },
  {
   "cell_type": "code",
   "execution_count": 75,
   "metadata": {},
   "outputs": [],
   "source": [
    "lista2 = []\n",
    "for i in range(len(audio_files)):\n",
    "    y, sr = librosa.load(audio_files[i])\n",
    "    mfcc_aux = librosa.feature.mfcc(y=y, sr=sr, n_mfcc=20)\n",
    "    mfcc = np.ndarray.mean(mfcc_aux)\n",
    "    lista2.append(mfcc)\n",
    "data.mfcc = lista2"
   ]
  },
  {
   "cell_type": "code",
   "execution_count": 76,
   "metadata": {},
   "outputs": [],
   "source": [
    "lista3 = []\n",
    "for i in range(len(audio_files)):\n",
    "    y, sr = librosa.load(audio_files[i])\n",
    "    cent = librosa.feature.spectral_centroid(y=y, sr=sr)\n",
    "    scem = np.ndarray.mean(cent)\n",
    "    lista3.append(scem)\n",
    "data.scem = lista3"
   ]
  },
  {
   "cell_type": "code",
   "execution_count": 77,
   "metadata": {},
   "outputs": [],
   "source": [
    "lista4 = []\n",
    "for i in range(len(audio_files)):\n",
    "    y, sr = librosa.load(audio_files[i])\n",
    "    S = np.abs(librosa.stft(y))\n",
    "    contrast = librosa.feature.spectral_contrast(S=S, sr=sr)\n",
    "    scom = np.ndarray.mean(contrast)\n",
    "    lista4.append(scom)\n",
    "data.scom = lista4"
   ]
  },
  {
   "cell_type": "code",
   "execution_count": 78,
   "metadata": {},
   "outputs": [],
   "source": [
    "lista5 = []\n",
    "for i in range(len(audio_files)):\n",
    "    y, sr = librosa.load(audio_files[i])\n",
    "    rolloff = librosa.feature.spectral_rolloff(y=y, sr=sr)\n",
    "    srom = np.ndarray.mean(rolloff)\n",
    "    lista5.append(srom)\n",
    "data.srom = lista5"
   ]
  },
  {
   "cell_type": "code",
   "execution_count": 79,
   "metadata": {},
   "outputs": [],
   "source": [
    "lista6 = []\n",
    "for i in range(len(audio_files)):\n",
    "    y, sr = librosa.load(audio_files[i])\n",
    "    spec_bw = librosa.feature.spectral_bandwidth(y=y, sr=sr)\n",
    "    sbwm = np.ndarray.mean(spec_bw)\n",
    "    lista6.append(sbwm)\n",
    "data.sbwm = lista6"
   ]
  },
  {
   "cell_type": "code",
   "execution_count": 80,
   "metadata": {},
   "outputs": [],
   "source": [
    "lista7 = []\n",
    "for i in range(len(audio_files)):\n",
    "    y, sr = librosa.load(audio_files[i])\n",
    "    hop_length = 512\n",
    "    oenv = librosa.onset.onset_strength(y=y, sr=sr, hop_length=hop_length)\n",
    "    tempogram = librosa.feature.tempogram(onset_envelope=oenv, sr=sr, hop_length=hop_length)\n",
    "\n",
    "    # Compute global onset autocorrelation\n",
    "    ac_global = librosa.autocorrelate(oenv, max_size=tempogram.shape[0])\n",
    "    ac_global = librosa.util.normalize(ac_global)\n",
    "\n",
    "    # Estimate the global tempo for display purposes\n",
    "    tempo = librosa.beat.tempo(onset_envelope=oenv, sr=sr, hop_length=hop_length)[0]\n",
    "    lista7.append(tempo)\n",
    "data.tempo = lista7"
   ]
  },
  {
   "cell_type": "code",
   "execution_count": 81,
   "metadata": {},
   "outputs": [],
   "source": [
    "lista8 = []\n",
    "for i in range(len(audio_files)):\n",
    "    y, sr = librosa.load(audio_files[i])\n",
    "    rmse_aux = librosa.feature.rms(y=y)\n",
    "    rmse = np.ndarray.mean(rmse_aux)\n",
    "    lista8.append(rmse)\n",
    "data.rmse = lista8"
   ]
  },
  {
   "cell_type": "code",
   "execution_count": 82,
   "metadata": {},
   "outputs": [
    {
     "data": {
      "text/plain": [
       "(165, 8)"
      ]
     },
     "execution_count": 82,
     "metadata": {},
     "output_type": "execute_result"
    }
   ],
   "source": [
    "data.shape"
   ]
  },
  {
   "cell_type": "code",
   "execution_count": 84,
   "metadata": {},
   "outputs": [
    {
     "data": {
      "text/plain": [
       "name      object\n",
       "mfcc     float64\n",
       "scem     float64\n",
       "scom     float64\n",
       "srom     float64\n",
       "sbwm     float64\n",
       "tempo    float64\n",
       "rmse     float64\n",
       "dtype: object"
      ]
     },
     "execution_count": 84,
     "metadata": {},
     "output_type": "execute_result"
    }
   ],
   "source": [
    "data.dtypes"
   ]
  },
  {
   "cell_type": "code",
   "execution_count": 95,
   "metadata": {},
   "outputs": [],
   "source": [
    "momento = []\n",
    "\n",
    "for i in data['name']:\n",
    "    if 'ducha' in i:\n",
    "        momento.append('Ducha')\n",
    "    elif 'cena' in i:\n",
    "        momento.append('Cena')\n",
    "    else:\n",
    "        momento.append('Otro')\n",
    "        \n",
    "data['momento_aux'] = momento\n",
    "#data['momento'] = 'Otro'\n",
    "data.drop(['name'], axis=1, inplace=True)"
   ]
  },
  {
   "cell_type": "code",
   "execution_count": 118,
   "metadata": {},
   "outputs": [],
   "source": [
    "data.to_csv('data_momento_aux.csv', index=False)"
   ]
  }
 ],
 "metadata": {
  "kernelspec": {
   "display_name": "Python 3",
   "language": "python",
   "name": "python3"
  },
  "language_info": {
   "codemirror_mode": {
    "name": "ipython",
    "version": 3
   },
   "file_extension": ".py",
   "mimetype": "text/x-python",
   "name": "python",
   "nbconvert_exporter": "python",
   "pygments_lexer": "ipython3",
   "version": "3.7.2"
  }
 },
 "nbformat": 4,
 "nbformat_minor": 2
}
