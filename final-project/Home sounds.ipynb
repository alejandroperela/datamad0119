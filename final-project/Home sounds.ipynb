{
 "cells": [
  {
   "cell_type": "code",
   "execution_count": 64,
   "metadata": {},
   "outputs": [],
   "source": [
    "%matplotlib inline\n",
    "\n",
    "import numpy as np\n",
    "import pandas as pd\n",
    "\n",
    "import librosa.display\n",
    "import librosa\n",
    "\n",
    "from glob import glob\n",
    "\n",
    "import ffmpeg\n",
    "\n",
    "import os\n",
    "\n",
    "from pydub import AudioSegment\n",
    "from pydub.utils import make_chunks"
   ]
  },
  {
   "cell_type": "code",
   "execution_count": 65,
   "metadata": {},
   "outputs": [],
   "source": [
    "data_dir = './sounds'\n",
    "audio_files = glob(data_dir + '/*')"
   ]
  },
  {
   "cell_type": "code",
   "execution_count": 66,
   "metadata": {},
   "outputs": [
    {
     "data": {
      "text/plain": [
       "2"
      ]
     },
     "execution_count": 66,
     "metadata": {},
     "output_type": "execute_result"
    }
   ],
   "source": [
    "len(audio_files)"
   ]
  },
  {
   "cell_type": "code",
   "execution_count": 67,
   "metadata": {},
   "outputs": [
    {
     "name": "stdout",
     "output_type": "stream",
     "text": [
      "exporting cellphone.mp30.wav\n",
      "exporting cellphone.mp31.wav\n",
      "exporting cellphone.mp32.wav\n",
      "exporting cellphone.mp33.wav\n",
      "exporting cellphone.mp34.wav\n",
      "exporting cellphone.mp35.wav\n",
      "exporting cellphone.mp36.wav\n",
      "exporting cellphone.mp37.wav\n",
      "exporting cellphone.mp38.wav\n",
      "exporting cellphone.mp39.wav\n",
      "exporting cellphone.mp310.wav\n",
      "exporting cellphone.mp311.wav\n",
      "exporting cellphone.mp312.wav\n",
      "exporting cellphone.mp313.wav\n",
      "exporting cellphone.mp314.wav\n",
      "exporting cellphone.mp315.wav\n",
      "exporting cellphone.mp316.wav\n",
      "exporting cellphone.mp317.wav\n",
      "exporting cellphone.mp318.wav\n",
      "exporting cellphone.mp319.wav\n",
      "exporting cellphone.mp320.wav\n",
      "exporting cellphone.mp321.wav\n",
      "exporting cellphone.mp322.wav\n",
      "exporting cellphone.mp323.wav\n",
      "exporting cellphone.mp324.wav\n",
      "exporting cellphone.mp325.wav\n",
      "exporting cellphone.mp326.wav\n",
      "exporting cellphone.mp327.wav\n",
      "exporting cellphone.mp328.wav\n",
      "exporting cellphone.mp329.wav\n",
      "exporting cellphone.mp330.wav\n",
      "exporting cellphone.mp331.wav\n",
      "exporting cellphone.mp332.wav\n",
      "exporting cellphone.mp333.wav\n",
      "exporting cellphone.mp334.wav\n",
      "exporting cellphone.mp335.wav\n",
      "exporting cellphone.mp336.wav\n",
      "exporting cellphone.mp337.wav\n",
      "exporting cellphone.mp338.wav\n",
      "exporting cellphone.mp339.wav\n",
      "exporting cellphone.mp340.wav\n",
      "exporting cellphone.mp341.wav\n",
      "exporting cellphone.mp342.wav\n",
      "exporting cellphone.mp343.wav\n",
      "exporting cellphone.mp344.wav\n",
      "exporting cellphone.mp345.wav\n",
      "exporting cellphone.mp346.wav\n",
      "exporting cellphone.mp347.wav\n",
      "exporting cellphone.mp348.wav\n",
      "exporting cellphone.mp349.wav\n",
      "exporting cellphone.mp350.wav\n",
      "exporting cellphone.mp351.wav\n",
      "exporting cellphone.mp352.wav\n",
      "exporting cellphone.mp353.wav\n",
      "exporting cellphone.mp354.wav\n",
      "exporting cellphone.mp355.wav\n",
      "exporting cellphone.mp356.wav\n",
      "exporting cellphone.mp357.wav\n",
      "exporting cellphone.mp358.wav\n",
      "exporting cellphone.mp359.wav\n",
      "exporting cellphone.mp360.wav\n",
      "exporting cellphone_2.mp30.wav\n",
      "exporting cellphone_2.mp31.wav\n",
      "exporting cellphone_2.mp32.wav\n",
      "exporting cellphone_2.mp33.wav\n",
      "exporting cellphone_2.mp34.wav\n",
      "exporting cellphone_2.mp35.wav\n",
      "exporting cellphone_2.mp36.wav\n",
      "exporting cellphone_2.mp37.wav\n",
      "exporting cellphone_2.mp38.wav\n",
      "exporting cellphone_2.mp39.wav\n",
      "exporting cellphone_2.mp310.wav\n",
      "exporting cellphone_2.mp311.wav\n",
      "exporting cellphone_2.mp312.wav\n",
      "exporting cellphone_2.mp313.wav\n",
      "exporting cellphone_2.mp314.wav\n",
      "exporting cellphone_2.mp315.wav\n",
      "exporting cellphone_2.mp316.wav\n",
      "exporting cellphone_2.mp317.wav\n",
      "exporting cellphone_2.mp318.wav\n",
      "exporting cellphone_2.mp319.wav\n",
      "exporting cellphone_2.mp320.wav\n",
      "exporting cellphone_2.mp321.wav\n",
      "exporting cellphone_2.mp322.wav\n",
      "exporting cellphone_2.mp323.wav\n",
      "exporting cellphone_2.mp324.wav\n",
      "exporting cellphone_2.mp325.wav\n",
      "exporting cellphone_2.mp326.wav\n",
      "exporting cellphone_2.mp327.wav\n",
      "exporting cellphone_2.mp328.wav\n",
      "exporting cellphone_2.mp329.wav\n",
      "exporting cellphone_2.mp330.wav\n",
      "exporting cellphone_2.mp331.wav\n",
      "exporting cellphone_2.mp332.wav\n",
      "exporting cellphone_2.mp333.wav\n",
      "exporting cellphone_2.mp334.wav\n",
      "exporting cellphone_2.mp335.wav\n",
      "exporting cellphone_2.mp336.wav\n",
      "exporting cellphone_2.mp337.wav\n",
      "exporting cellphone_2.mp338.wav\n",
      "exporting cellphone_2.mp339.wav\n",
      "exporting cellphone_2.mp340.wav\n",
      "exporting cellphone_2.mp341.wav\n",
      "exporting cellphone_2.mp342.wav\n",
      "exporting cellphone_2.mp343.wav\n",
      "exporting cellphone_2.mp344.wav\n",
      "exporting cellphone_2.mp345.wav\n",
      "exporting cellphone_2.mp346.wav\n",
      "exporting cellphone_2.mp347.wav\n",
      "exporting cellphone_2.mp348.wav\n",
      "exporting cellphone_2.mp349.wav\n",
      "exporting cellphone_2.mp350.wav\n",
      "exporting cellphone_2.mp351.wav\n",
      "exporting cellphone_2.mp352.wav\n",
      "exporting cellphone_2.mp353.wav\n",
      "exporting cellphone_2.mp354.wav\n",
      "exporting cellphone_2.mp355.wav\n",
      "exporting cellphone_2.mp356.wav\n",
      "exporting cellphone_2.mp357.wav\n",
      "exporting cellphone_2.mp358.wav\n",
      "exporting cellphone_2.mp359.wav\n",
      "exporting cellphone_2.mp360.wav\n",
      "exporting cellphone_2.mp361.wav\n",
      "exporting cellphone_2.mp362.wav\n",
      "exporting cellphone_2.mp363.wav\n",
      "exporting cellphone_2.mp364.wav\n",
      "exporting cellphone_2.mp365.wav\n",
      "exporting cellphone_2.mp366.wav\n",
      "exporting cellphone_2.mp367.wav\n",
      "exporting cellphone_2.mp368.wav\n",
      "exporting cellphone_2.mp369.wav\n",
      "exporting cellphone_2.mp370.wav\n",
      "exporting cellphone_2.mp371.wav\n",
      "exporting cellphone_2.mp372.wav\n",
      "exporting cellphone_2.mp373.wav\n",
      "exporting cellphone_2.mp374.wav\n",
      "exporting cellphone_2.mp375.wav\n",
      "exporting cellphone_2.mp376.wav\n",
      "exporting cellphone_2.mp377.wav\n",
      "exporting cellphone_2.mp378.wav\n",
      "exporting cellphone_2.mp379.wav\n",
      "exporting cellphone_2.mp380.wav\n",
      "exporting cellphone_2.mp381.wav\n",
      "exporting cellphone_2.mp382.wav\n",
      "exporting cellphone_2.mp383.wav\n",
      "exporting cellphone_2.mp384.wav\n",
      "exporting cellphone_2.mp385.wav\n",
      "exporting cellphone_2.mp386.wav\n",
      "exporting cellphone_2.mp387.wav\n",
      "exporting cellphone_2.mp388.wav\n",
      "exporting cellphone_2.mp389.wav\n",
      "exporting cellphone_2.mp390.wav\n"
     ]
    }
   ],
   "source": [
    "for j in range(len(audio_files)):\n",
    "    myaudio = AudioSegment.from_file(\"./sounds/{}\".format(os.listdir('./sounds/')[j])) \n",
    "    chunk_length_ms = 10000 # pydub calculates in millisec\n",
    "    chunks = make_chunks(myaudio, chunk_length_ms) #Make chunks of one sec\n",
    "\n",
    "    #Export all of the individual chunks as wav files\n",
    "\n",
    "    for i, chunk in enumerate(chunks):\n",
    "        chunk_name = \"{}{}.wav\".format(os.listdir('./sounds/')[j], i)\n",
    "        print(\"exporting\", chunk_name)\n",
    "        chunk.export(chunk_name, format=\"mp3\")"
   ]
  },
  {
   "cell_type": "code",
   "execution_count": 70,
   "metadata": {},
   "outputs": [],
   "source": [
    "data_dir = './sounds2'\n",
    "audio_files = glob(data_dir + '/*.wav')"
   ]
  },
  {
   "cell_type": "code",
   "execution_count": 71,
   "metadata": {},
   "outputs": [
    {
     "data": {
      "text/plain": [
       "152"
      ]
     },
     "execution_count": 71,
     "metadata": {},
     "output_type": "execute_result"
    }
   ],
   "source": [
    "len(audio_files)"
   ]
  },
  {
   "cell_type": "code",
   "execution_count": 73,
   "metadata": {},
   "outputs": [],
   "source": [
    "data = pd.DataFrame(columns = ['name','mfcc', 'scem','scom', 'srom','sbwm', 'tempo', 'rmse'])"
   ]
  },
  {
   "cell_type": "code",
   "execution_count": 74,
   "metadata": {},
   "outputs": [],
   "source": [
    "lista = []\n",
    "for i in range(len(audio_files)):\n",
    "    lista.append(os.listdir('./sounds2/')[i])\n",
    "data.name = lista"
   ]
  },
  {
   "cell_type": "code",
   "execution_count": 75,
   "metadata": {},
   "outputs": [],
   "source": [
    "lista2 = []\n",
    "for i in range(len(audio_files)):\n",
    "    y, sr = librosa.load(audio_files[i])\n",
    "    mfcc_aux = librosa.feature.mfcc(y=y, sr=sr, n_mfcc=20)\n",
    "    mfcc = np.ndarray.mean(mfcc_aux)\n",
    "    lista2.append(mfcc)\n",
    "data.mfcc = lista2"
   ]
  },
  {
   "cell_type": "code",
   "execution_count": 76,
   "metadata": {},
   "outputs": [],
   "source": [
    "lista3 = []\n",
    "for i in range(len(audio_files)):\n",
    "    y, sr = librosa.load(audio_files[i])\n",
    "    cent = librosa.feature.spectral_centroid(y=y, sr=sr)\n",
    "    scem = np.ndarray.mean(cent)\n",
    "    lista3.append(scem)\n",
    "data.scem = lista3"
   ]
  },
  {
   "cell_type": "code",
   "execution_count": 77,
   "metadata": {},
   "outputs": [],
   "source": [
    "lista4 = []\n",
    "for i in range(len(audio_files)):\n",
    "    y, sr = librosa.load(audio_files[i])\n",
    "    S = np.abs(librosa.stft(y))\n",
    "    contrast = librosa.feature.spectral_contrast(S=S, sr=sr)\n",
    "    scom = np.ndarray.mean(contrast)\n",
    "    lista4.append(scom)\n",
    "data.scom = lista4"
   ]
  },
  {
   "cell_type": "code",
   "execution_count": 78,
   "metadata": {},
   "outputs": [],
   "source": [
    "lista5 = []\n",
    "for i in range(len(audio_files)):\n",
    "    y, sr = librosa.load(audio_files[i])\n",
    "    rolloff = librosa.feature.spectral_rolloff(y=y, sr=sr)\n",
    "    srom = np.ndarray.mean(rolloff)\n",
    "    lista5.append(srom)\n",
    "data.srom = lista5"
   ]
  },
  {
   "cell_type": "code",
   "execution_count": 79,
   "metadata": {},
   "outputs": [],
   "source": [
    "lista6 = []\n",
    "for i in range(len(audio_files)):\n",
    "    y, sr = librosa.load(audio_files[i])\n",
    "    spec_bw = librosa.feature.spectral_bandwidth(y=y, sr=sr)\n",
    "    sbwm = np.ndarray.mean(spec_bw)\n",
    "    lista6.append(sbwm)\n",
    "data.sbwm = lista6"
   ]
  },
  {
   "cell_type": "code",
   "execution_count": 80,
   "metadata": {},
   "outputs": [],
   "source": [
    "lista7 = []\n",
    "for i in range(len(audio_files)):\n",
    "    y, sr = librosa.load(audio_files[i])\n",
    "    hop_length = 512\n",
    "    oenv = librosa.onset.onset_strength(y=y, sr=sr, hop_length=hop_length)\n",
    "    tempogram = librosa.feature.tempogram(onset_envelope=oenv, sr=sr, hop_length=hop_length)\n",
    "\n",
    "    # Compute global onset autocorrelation\n",
    "    ac_global = librosa.autocorrelate(oenv, max_size=tempogram.shape[0])\n",
    "    ac_global = librosa.util.normalize(ac_global)\n",
    "\n",
    "    # Estimate the global tempo for display purposes\n",
    "    tempo = librosa.beat.tempo(onset_envelope=oenv, sr=sr, hop_length=hop_length)[0]\n",
    "    lista7.append(tempo)\n",
    "data.tempo = lista7"
   ]
  },
  {
   "cell_type": "code",
   "execution_count": 81,
   "metadata": {},
   "outputs": [],
   "source": [
    "lista8 = []\n",
    "for i in range(len(audio_files)):\n",
    "    y, sr = librosa.load(audio_files[i])\n",
    "    rmse_aux = librosa.feature.rms(y=y)\n",
    "    rmse = np.ndarray.mean(rmse_aux)\n",
    "    lista8.append(rmse)\n",
    "data.rmse = lista8"
   ]
  },
  {
   "cell_type": "code",
   "execution_count": 82,
   "metadata": {},
   "outputs": [
    {
     "data": {
      "text/plain": [
       "(152, 8)"
      ]
     },
     "execution_count": 82,
     "metadata": {},
     "output_type": "execute_result"
    }
   ],
   "source": [
    "data.shape"
   ]
  },
  {
   "cell_type": "code",
   "execution_count": 83,
   "metadata": {},
   "outputs": [
    {
     "data": {
      "text/plain": [
       "name      object\n",
       "mfcc     float64\n",
       "scem     float64\n",
       "scom     float64\n",
       "srom     float64\n",
       "sbwm     float64\n",
       "tempo    float64\n",
       "rmse     float64\n",
       "dtype: object"
      ]
     },
     "execution_count": 83,
     "metadata": {},
     "output_type": "execute_result"
    }
   ],
   "source": [
    "data.dtypes"
   ]
  },
  {
   "cell_type": "code",
   "execution_count": 84,
   "metadata": {},
   "outputs": [],
   "source": [
    "momento = []\n",
    "\n",
    "for i in data['name']:\n",
    "    if 'ducha' in i:\n",
    "        momento.append('Ducha')\n",
    "    elif 'cena' in i:\n",
    "        momento.append('Cena')\n",
    "    elif 'washing' in i:\n",
    "        momento.append('Lavadora')\n",
    "    elif 'vacuum' in i:\n",
    "        momento.append('Aspiradora')\n",
    "    elif 'shaver' in i:\n",
    "        momento.append('Afeitadora')\n",
    "    elif 'hairdryer' in i:\n",
    "        momento.append('Secador_pelo')\n",
    "    elif 'airconditioner' in i:\n",
    "        momento.append('Aire_acondicionado')\n",
    "    elif 'cellphone' in i:\n",
    "        momento.append('Telefono')\n",
    "    else:\n",
    "        momento.append('Otro')\n",
    "        \n",
    "data['momento_aux'] = momento\n",
    "#data['momento'] = 'Otro'\n",
    "data.drop(['name'], axis=1, inplace=True)"
   ]
  },
  {
   "cell_type": "code",
   "execution_count": 85,
   "metadata": {},
   "outputs": [
    {
     "data": {
      "text/plain": [
       "Telefono    152\n",
       "Name: momento_aux, dtype: int64"
      ]
     },
     "execution_count": 85,
     "metadata": {},
     "output_type": "execute_result"
    }
   ],
   "source": [
    "data.momento_aux.value_counts()"
   ]
  },
  {
   "cell_type": "code",
   "execution_count": 86,
   "metadata": {},
   "outputs": [],
   "source": [
    "data.to_csv('data_momento_aux_cellphone.csv', index=False)"
   ]
  },
  {
   "cell_type": "code",
   "execution_count": null,
   "metadata": {},
   "outputs": [],
   "source": []
  }
 ],
 "metadata": {
  "kernelspec": {
   "display_name": "Python 3",
   "language": "python",
   "name": "python3"
  },
  "language_info": {
   "codemirror_mode": {
    "name": "ipython",
    "version": 3
   },
   "file_extension": ".py",
   "mimetype": "text/x-python",
   "name": "python",
   "nbconvert_exporter": "python",
   "pygments_lexer": "ipython3",
   "version": "3.7.2"
  }
 },
 "nbformat": 4,
 "nbformat_minor": 2
}
