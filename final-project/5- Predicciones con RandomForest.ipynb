{
 "cells": [
  {
   "cell_type": "markdown",
   "metadata": {},
   "source": [
    "# Predicciones con RandomForest"
   ]
  },
  {
   "cell_type": "markdown",
   "metadata": {},
   "source": [
    "A continuación voy a aplicar mi modelo para predecir el tipo de sonido en base a un dataset nuevo de sonidos."
   ]
  },
  {
   "cell_type": "markdown",
   "metadata": {},
   "source": [
    "Empiezo importando las librerías que voy a necesitar."
   ]
  },
  {
   "cell_type": "code",
   "execution_count": 12,
   "metadata": {},
   "outputs": [],
   "source": [
    "import numpy as np\n",
    "import pandas as pd\n",
    "import pandas.io\n",
    "\n",
    "import matplotlib.pyplot as plt\n",
    "\n",
    "import librosa.display\n",
    "import librosa\n",
    "\n",
    "from glob import glob\n",
    "\n",
    "import ffmpeg\n",
    "\n",
    "import os\n",
    "\n",
    "from sklearn import datasets\n",
    "from sklearn.model_selection import train_test_split\n",
    "from sklearn import svm\n",
    "from sklearn import metrics\n",
    "from sklearn.metrics import confusion_matrix\n",
    "from sklearn.utils.multiclass import unique_labels\n",
    "from sklearn.model_selection import cross_val_score\n",
    "from sklearn.linear_model import LogisticRegression\n",
    "from sklearn.multiclass import OneVsRestClassifier\n",
    "from sklearn.ensemble import RandomForestClassifier\n",
    "from sklearn import linear_model\n",
    "from sklearn.metrics import accuracy_score\n",
    "from sklearn.metrics import balanced_accuracy_score\n",
    "from sklearn.metrics import precision_score, recall_score, f1_score\n",
    "from sklearn.metrics import roc_curve, auc\n",
    "from sklearn.preprocessing import label_binarize\n",
    "from sklearn.neighbors import KNeighborsClassifier\n",
    "\n",
    "import pickle"
   ]
  },
  {
   "cell_type": "markdown",
   "metadata": {},
   "source": [
    "Empiezo importando el modelo que he guardado anteriormente, para trabajar con él."
   ]
  },
  {
   "cell_type": "code",
   "execution_count": 8,
   "metadata": {},
   "outputs": [],
   "source": [
    "filename = 'finalized_model.sav'\n",
    "\n",
    "loaded_model = pickle.load(open(filename, 'rb'))"
   ]
  },
  {
   "cell_type": "markdown",
   "metadata": {},
   "source": [
    "Continúo descomponiendo los audios en segmentos de 10 segundos, y sacando todas sus features."
   ]
  },
  {
   "cell_type": "code",
   "execution_count": null,
   "metadata": {},
   "outputs": [],
   "source": [
    "def decompose_files(data_dir, audio_files):\n",
    "    for j in range(len(audio_files)):\n",
    "        myaudio = AudioSegment.from_file(data_dir + '{}'.format(os.listdir(data_dir)[j])) \n",
    "        chunk_length_ms = 10000\n",
    "        chunks = make_chunks(myaudio, chunk_length_ms)\n",
    "\n",
    "        for i, chunk in enumerate(chunks):\n",
    "            chunk_name = \"{}{}.wav\".format(os.listdir(data_dir)[j], i)\n",
    "            #print(\"exporting\", chunk_name)\n",
    "            chunk.export('./audios/predicciones_base/{}'.format(chunk_name), format=\"mp3\")\n",
    "            \n",
    "decompose_files('./audios/predicciones/', glob('./audios/predicciones' + '/*'))"
   ]
  },
  {
   "cell_type": "code",
   "execution_count": null,
   "metadata": {},
   "outputs": [],
   "source": [
    "def get_features(data_dir, audio_files):\n",
    "    momentos = {'ducha': 'Ducha', 'cena': 'Cena', 'washing': 'Lavadora', 'vacuum': 'Aspiradora', \n",
    "                'shaver': 'Afeitadora', 'hairdryer': 'Secador_pelo', 'airconditioner': 'Aire_acondicionado', \n",
    "                'cellphone': 'Telefono', 'comp': 'Tecleo', 'silence': 'Silencio', 'dryer': 'Secadora', \n",
    "                'blender': 'Licuadora', 'doorbell': 'Timbre', 'alarm': 'Alarma', 'faucet': 'Grifo', \n",
    "                'microwave': 'Microondas'}\n",
    "    features = []\n",
    "    for i in range(len(audio_files)):\n",
    "        y, sr = librosa.load(audio_files[i])\n",
    "        name = os.listdir(data_dir)[i]\n",
    "        pattern = \"[._][\\w]+\"\n",
    "        name = re.sub(pattern, '', name)\n",
    "        if name in momentos.keys():\n",
    "            momento = momentos.get(name)\n",
    "        else:\n",
    "            momento = 'Otro'\n",
    "        mfcc = np.ndarray.mean(librosa.feature.mfcc(y=y, sr=sr, n_mfcc=20))\n",
    "        scem = np.ndarray.mean(librosa.feature.spectral_centroid(y=y, sr=sr))\n",
    "        scom = np.ndarray.mean(librosa.feature.spectral_contrast(S=np.abs(librosa.stft(y)), sr=sr))\n",
    "        srom = np.ndarray.mean(librosa.feature.spectral_rolloff(y=y, sr=sr))\n",
    "        sbwm = np.ndarray.mean(librosa.feature.spectral_bandwidth(y=y, sr=sr))\n",
    "        tempo = librosa.beat.tempo(onset_envelope=librosa.onset.onset_strength(y=y, sr=sr, hop_length=512), sr=sr, hop_length=512)[0]\n",
    "        rmse = np.ndarray.mean(librosa.feature.rms(y=y))\n",
    "        features.append([mfcc, scem, scom, srom, sbwm, tempo, rmse, momento])\n",
    "    return pd.DataFrame(features, columns=['mfcc', 'scem','scom', 'srom','sbwm', 'tempo', 'rmse', 'momento'])\n",
    "\n",
    "prueba = get_features('./audios/predicciones_base/', glob('./audios/predicciones_base' + '/*.wav'))"
   ]
  },
  {
   "cell_type": "code",
   "execution_count": null,
   "metadata": {},
   "outputs": [],
   "source": [
    "prueba.to_csv('data_prueba.csv', index=False)"
   ]
  },
  {
   "cell_type": "code",
   "execution_count": 15,
   "metadata": {},
   "outputs": [
    {
     "data": {
      "text/html": [
       "<div>\n",
       "<style scoped>\n",
       "    .dataframe tbody tr th:only-of-type {\n",
       "        vertical-align: middle;\n",
       "    }\n",
       "\n",
       "    .dataframe tbody tr th {\n",
       "        vertical-align: top;\n",
       "    }\n",
       "\n",
       "    .dataframe thead th {\n",
       "        text-align: right;\n",
       "    }\n",
       "</style>\n",
       "<table border=\"1\" class=\"dataframe\">\n",
       "  <thead>\n",
       "    <tr style=\"text-align: right;\">\n",
       "      <th></th>\n",
       "      <th>mfcc</th>\n",
       "      <th>scem</th>\n",
       "      <th>scom</th>\n",
       "      <th>srom</th>\n",
       "      <th>sbwm</th>\n",
       "      <th>tempo</th>\n",
       "      <th>rmse</th>\n",
       "      <th>momento</th>\n",
       "    </tr>\n",
       "  </thead>\n",
       "  <tbody>\n",
       "    <tr>\n",
       "      <th>0</th>\n",
       "      <td>-1.606872</td>\n",
       "      <td>4092.840687</td>\n",
       "      <td>19.242309</td>\n",
       "      <td>7751.678339</td>\n",
       "      <td>3074.835521</td>\n",
       "      <td>129.199219</td>\n",
       "      <td>0.156137</td>\n",
       "      <td>Aspiradora</td>\n",
       "    </tr>\n",
       "    <tr>\n",
       "      <th>1</th>\n",
       "      <td>5.749998</td>\n",
       "      <td>673.601633</td>\n",
       "      <td>17.140124</td>\n",
       "      <td>1070.265145</td>\n",
       "      <td>1533.607014</td>\n",
       "      <td>129.199219</td>\n",
       "      <td>0.175553</td>\n",
       "      <td>Aire_acondicionado</td>\n",
       "    </tr>\n",
       "    <tr>\n",
       "      <th>2</th>\n",
       "      <td>-56.568542</td>\n",
       "      <td>0.000000</td>\n",
       "      <td>0.000000</td>\n",
       "      <td>0.000000</td>\n",
       "      <td>0.000000</td>\n",
       "      <td>120.000000</td>\n",
       "      <td>0.000000</td>\n",
       "      <td>Telefono</td>\n",
       "    </tr>\n",
       "    <tr>\n",
       "      <th>3</th>\n",
       "      <td>-12.618124</td>\n",
       "      <td>1806.021749</td>\n",
       "      <td>19.141861</td>\n",
       "      <td>4382.006836</td>\n",
       "      <td>2623.351950</td>\n",
       "      <td>120.000000</td>\n",
       "      <td>0.002939</td>\n",
       "      <td>Tecleo</td>\n",
       "    </tr>\n",
       "    <tr>\n",
       "      <th>4</th>\n",
       "      <td>-12.631319</td>\n",
       "      <td>4496.352321</td>\n",
       "      <td>16.700788</td>\n",
       "      <td>8196.106665</td>\n",
       "      <td>2977.760301</td>\n",
       "      <td>112.347147</td>\n",
       "      <td>0.029217</td>\n",
       "      <td>Tecleo</td>\n",
       "    </tr>\n",
       "  </tbody>\n",
       "</table>\n",
       "</div>"
      ],
      "text/plain": [
       "        mfcc         scem       scom         srom         sbwm       tempo  \\\n",
       "0  -1.606872  4092.840687  19.242309  7751.678339  3074.835521  129.199219   \n",
       "1   5.749998   673.601633  17.140124  1070.265145  1533.607014  129.199219   \n",
       "2 -56.568542     0.000000   0.000000     0.000000     0.000000  120.000000   \n",
       "3 -12.618124  1806.021749  19.141861  4382.006836  2623.351950  120.000000   \n",
       "4 -12.631319  4496.352321  16.700788  8196.106665  2977.760301  112.347147   \n",
       "\n",
       "       rmse             momento  \n",
       "0  0.156137          Aspiradora  \n",
       "1  0.175553  Aire_acondicionado  \n",
       "2  0.000000            Telefono  \n",
       "3  0.002939              Tecleo  \n",
       "4  0.029217              Tecleo  "
      ]
     },
     "execution_count": 15,
     "metadata": {},
     "output_type": "execute_result"
    }
   ],
   "source": [
    "prueba = pd.read_csv('data_prueba.csv')\n",
    "prueba.head()"
   ]
  },
  {
   "cell_type": "markdown",
   "metadata": {},
   "source": [
    "En este paso intermedio, dado que hay una pequeña cantidad de audios cuyas features son todas cero, los elimino para no ensuciar el modelo."
   ]
  },
  {
   "cell_type": "code",
   "execution_count": 10,
   "metadata": {},
   "outputs": [
    {
     "data": {
      "text/html": [
       "<div>\n",
       "<style scoped>\n",
       "    .dataframe tbody tr th:only-of-type {\n",
       "        vertical-align: middle;\n",
       "    }\n",
       "\n",
       "    .dataframe tbody tr th {\n",
       "        vertical-align: top;\n",
       "    }\n",
       "\n",
       "    .dataframe thead th {\n",
       "        text-align: right;\n",
       "    }\n",
       "</style>\n",
       "<table border=\"1\" class=\"dataframe\">\n",
       "  <thead>\n",
       "    <tr style=\"text-align: right;\">\n",
       "      <th></th>\n",
       "      <th>mfcc</th>\n",
       "      <th>scem</th>\n",
       "      <th>scom</th>\n",
       "      <th>srom</th>\n",
       "      <th>sbwm</th>\n",
       "      <th>tempo</th>\n",
       "      <th>rmse</th>\n",
       "      <th>momento</th>\n",
       "    </tr>\n",
       "  </thead>\n",
       "  <tbody>\n",
       "    <tr>\n",
       "      <th>0</th>\n",
       "      <td>-1.606872</td>\n",
       "      <td>4092.840687</td>\n",
       "      <td>19.242309</td>\n",
       "      <td>7751.678339</td>\n",
       "      <td>3074.835521</td>\n",
       "      <td>129.199219</td>\n",
       "      <td>0.156137</td>\n",
       "      <td>Aspiradora</td>\n",
       "    </tr>\n",
       "    <tr>\n",
       "      <th>1</th>\n",
       "      <td>5.749998</td>\n",
       "      <td>673.601633</td>\n",
       "      <td>17.140124</td>\n",
       "      <td>1070.265145</td>\n",
       "      <td>1533.607014</td>\n",
       "      <td>129.199219</td>\n",
       "      <td>0.175553</td>\n",
       "      <td>Aire_acondicionado</td>\n",
       "    </tr>\n",
       "    <tr>\n",
       "      <th>2</th>\n",
       "      <td>-12.618124</td>\n",
       "      <td>1806.021749</td>\n",
       "      <td>19.141861</td>\n",
       "      <td>4382.006836</td>\n",
       "      <td>2623.351950</td>\n",
       "      <td>120.000000</td>\n",
       "      <td>0.002939</td>\n",
       "      <td>Tecleo</td>\n",
       "    </tr>\n",
       "    <tr>\n",
       "      <th>3</th>\n",
       "      <td>-12.631319</td>\n",
       "      <td>4496.352321</td>\n",
       "      <td>16.700788</td>\n",
       "      <td>8196.106665</td>\n",
       "      <td>2977.760301</td>\n",
       "      <td>112.347147</td>\n",
       "      <td>0.029217</td>\n",
       "      <td>Tecleo</td>\n",
       "    </tr>\n",
       "    <tr>\n",
       "      <th>4</th>\n",
       "      <td>-18.866808</td>\n",
       "      <td>1595.430623</td>\n",
       "      <td>21.938086</td>\n",
       "      <td>2863.191581</td>\n",
       "      <td>1947.429463</td>\n",
       "      <td>184.570312</td>\n",
       "      <td>0.025959</td>\n",
       "      <td>Timbre</td>\n",
       "    </tr>\n",
       "  </tbody>\n",
       "</table>\n",
       "</div>"
      ],
      "text/plain": [
       "        mfcc         scem       scom         srom         sbwm       tempo  \\\n",
       "0  -1.606872  4092.840687  19.242309  7751.678339  3074.835521  129.199219   \n",
       "1   5.749998   673.601633  17.140124  1070.265145  1533.607014  129.199219   \n",
       "2 -12.618124  1806.021749  19.141861  4382.006836  2623.351950  120.000000   \n",
       "3 -12.631319  4496.352321  16.700788  8196.106665  2977.760301  112.347147   \n",
       "4 -18.866808  1595.430623  21.938086  2863.191581  1947.429463  184.570312   \n",
       "\n",
       "       rmse             momento  \n",
       "0  0.156137          Aspiradora  \n",
       "1  0.175553  Aire_acondicionado  \n",
       "2  0.002939              Tecleo  \n",
       "3  0.029217              Tecleo  \n",
       "4  0.025959              Timbre  "
      ]
     },
     "execution_count": 10,
     "metadata": {},
     "output_type": "execute_result"
    }
   ],
   "source": [
    "prueba = prueba[prueba['scem'] != 0].reset_index(drop=True)\n",
    "prueba.head()"
   ]
  },
  {
   "cell_type": "code",
   "execution_count": 11,
   "metadata": {},
   "outputs": [
    {
     "name": "stdout",
     "output_type": "stream",
     "text": [
      "Porcentaje de sonidos reconocidos: 100.00%.\n",
      "Porcentaje de aciertos: 5.95%.\n",
      "Porcentaje de aciertos una vez reconoce el sonido: 5.95%.\n"
     ]
    }
   ],
   "source": [
    "classes = ['Afeitadora', 'Aire_acondicionado', 'Alarma', 'Aspiradora', 'Cena', 'Ducha', 'Grifo', 'Lavadora', \n",
    "           'Licuadora', 'Microondas', 'Secador_pelo', 'Secadora', 'Silencio', 'Tecleo', 'Telefono', 'Timbre']\n",
    "\n",
    "X_new = prueba.loc[:, prueba.columns != 'momento']\n",
    "y_new = loaded_model.predict(X_new)\n",
    "y_new2 = loaded_model.predict_proba(X_new)\n",
    "\n",
    "reconocidos = 0\n",
    "aciertos = 0\n",
    "for i in range(len(X_new)):\n",
    "    predicted_list = y_new[i].tolist()\n",
    "    predicted_class = classes[y_new2[i].tolist().index(max(y_new2[i]))]\n",
    "    predicted_probability = y_new2[i].tolist()[y_new2[i].tolist().index(max(y_new2[i]))]\n",
    "    if max(y_new2[i]) > 0:\n",
    "        if predicted_class == prueba.momento[i]:\n",
    "            #print(str(i) + '-  {}: {:.2f}% ----> {}'.format(predicted_class, predicted_probability*100, prueba.momento[i]))\n",
    "            aciertos += 1\n",
    "            reconocidos += 1\n",
    "        else:\n",
    "            #print(str(i) + '-  {}: {:.2f}% ----> {}'.format(predicted_class, predicted_probability*100, prueba.momento[i]))\n",
    "            reconocidos += 1\n",
    "\n",
    "\n",
    "print('Porcentaje de sonidos reconocidos: {:.2f}%.'.format(reconocidos/(len(X_new))*100))\n",
    "print('Porcentaje de aciertos: {:.2f}%.'.format(aciertos/(len(X_new))*100))\n",
    "print('Porcentaje de aciertos una vez reconoce el sonido: {:.2f}%.'.format(aciertos/reconocidos*100))"
   ]
  },
  {
   "cell_type": "markdown",
   "metadata": {},
   "source": [
    "# Conclusiones"
   ]
  },
  {
   "cell_type": "markdown",
   "metadata": {},
   "source": [
    "Como podemos observar, el modelo predice muy bien para sonidos que ya tiene dentro de la base de datos, pero es muy malo prediciendo sonidos nuevos. Esto probablemente se deba al overfitting, al tener un modelo muy ajustado para la propia base de datos sobre la que entrena.\n",
    "\n",
    "Es por ello que voy a sacar más features características (transformada de Fourier) de cada clase, para conseguir un modelo con mejor capacidad de predicción."
   ]
  }
 ],
 "metadata": {
  "kernelspec": {
   "display_name": "Python 3",
   "language": "python",
   "name": "python3"
  },
  "language_info": {
   "codemirror_mode": {
    "name": "ipython",
    "version": 3
   },
   "file_extension": ".py",
   "mimetype": "text/x-python",
   "name": "python",
   "nbconvert_exporter": "python",
   "pygments_lexer": "ipython3",
   "version": "3.7.2"
  }
 },
 "nbformat": 4,
 "nbformat_minor": 2
}
