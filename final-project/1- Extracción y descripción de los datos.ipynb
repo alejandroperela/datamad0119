{
 "cells": [
  {
   "cell_type": "markdown",
   "metadata": {},
   "source": [
    "# Extracción y descripción de los datos"
   ]
  },
  {
   "cell_type": "markdown",
   "metadata": {},
   "source": [
    "Empiezo importando las librerías que voy a utilizar."
   ]
  },
  {
   "cell_type": "code",
   "execution_count": 14,
   "metadata": {},
   "outputs": [],
   "source": [
    "%matplotlib inline\n",
    "\n",
    "import numpy as np\n",
    "import pandas as pd\n",
    "\n",
    "import librosa.display\n",
    "import librosa\n",
    "\n",
    "from glob import glob\n",
    "\n",
    "import ffmpeg\n",
    "\n",
    "import os\n",
    "\n",
    "from pydub import AudioSegment\n",
    "from pydub.utils import make_chunks\n",
    "\n",
    "import re"
   ]
  },
  {
   "cell_type": "markdown",
   "metadata": {},
   "source": [
    "Continuo creando 3 funciones con las que voy a hacer los siguiente:\n",
    " - La primera divide un archivo audio de larga duración en pequeños audios de 10 segundos de duración, y los guarda en la carpeta que le he especificado.\n",
    " - La segunda accede a cada uno de esos audios de 10 segundos y saca las features características de dicho archivo, y en base a su nombre le asigna una categoría y otra.\n",
    " - La tercera simplemente me enseña las principales características y métricas de la base de datos.\n",
    "\n",
    "Finalmente, guardo el el dataset en mi carpeta como un CSV.\n",
    "\n",
    "Dado que la base de datos ya la tengo creada, este JN lo voy a aplicar sobre audios que luego voy a utilizar para predecir con mi modelo y ver si es lo suficientemente bueno."
   ]
  },
  {
   "cell_type": "code",
   "execution_count": 19,
   "metadata": {},
   "outputs": [
    {
     "name": "stdout",
     "output_type": "stream",
     "text": [
      "exporting vacuum.mp30.wav\n",
      "exporting vacuum.mp31.wav\n",
      "exporting vacuum.mp32.wav\n",
      "exporting vacuum.mp33.wav\n",
      "exporting vacuum.mp34.wav\n",
      "exporting vacuum.mp35.wav\n",
      "exporting vacuum.mp36.wav\n",
      "exporting vacuum_2.mp30.wav\n",
      "exporting vacuum_2.mp31.wav\n",
      "exporting vacuum_2.mp32.wav\n",
      "exporting vacuum_2.mp33.wav\n",
      "exporting vacuum_2.mp34.wav\n",
      "exporting vacuum_2.mp35.wav\n",
      "exporting vacuum_2.mp36.wav\n",
      "exporting faucet.mp30.wav\n",
      "exporting faucet.mp31.wav\n",
      "exporting faucet.mp32.wav\n",
      "exporting faucet.mp33.wav\n",
      "exporting faucet.mp34.wav\n",
      "exporting faucet.mp35.wav\n",
      "exporting faucet.mp36.wav\n",
      "exporting faucet_2.mp30.wav\n",
      "exporting faucet_2.mp31.wav\n",
      "exporting faucet_2.mp32.wav\n",
      "exporting faucet_2.mp33.wav\n",
      "exporting faucet_2.mp34.wav\n",
      "exporting faucet_2.mp35.wav\n",
      "exporting faucet_2.mp36.wav\n"
     ]
    }
   ],
   "source": [
    "def decompose_files(data_dir, audio_files):\n",
    "    for j in range(len(audio_files)):\n",
    "        myaudio = AudioSegment.from_file(data_dir + '{}'.format(os.listdir(data_dir)[j])) \n",
    "        chunk_length_ms = 10000\n",
    "        chunks = make_chunks(myaudio, chunk_length_ms)\n",
    "\n",
    "        for i, chunk in enumerate(chunks):\n",
    "            chunk_name = \"{}{}.wav\".format(os.listdir(data_dir)[j], i)\n",
    "            print(\"exporting\", chunk_name)\n",
    "            chunk.export('./sounds2/{}'.format(chunk_name), format=\"mp3\")\n",
    "            \n",
    "decompose_files('./sounds/', glob('./sounds' + '/*'))"
   ]
  },
  {
   "cell_type": "code",
   "execution_count": 20,
   "metadata": {},
   "outputs": [],
   "source": [
    "def get_features(data_dir, audio_files):\n",
    "    momentos = {'ducha': 'Ducha', 'cena': 'Cena', 'washing': 'Lavadora', 'vacuum': 'Aspiradora', \n",
    "                'shaver': 'Afeitadora', 'hairdryer': 'Secador_pelo', 'airconditioner': 'Aire_acondicionado', \n",
    "                'cellphone': 'Telefono', 'comp': 'Tecleo', 'silence': 'Silencio', 'dryer': 'Secadora', \n",
    "                'blender': 'Licuadora', 'doorbell': 'Timbre', 'alarm': 'Alarma', 'faucet': 'Grifo', \n",
    "                'microwave': 'Microondas'}\n",
    "    features = []\n",
    "    for i in range(len(audio_files)):\n",
    "        y, sr = librosa.load(audio_files[i])\n",
    "        name = os.listdir(data_dir)[i]\n",
    "        pattern = \"[._][\\w]+\"\n",
    "        name = re.sub(pattern, '', name)\n",
    "        if name in momentos.keys():\n",
    "            momento = momentos.get(name)\n",
    "        else:\n",
    "            momento = 'Otro'\n",
    "        mfcc = np.ndarray.mean(librosa.feature.mfcc(y=y, sr=sr, n_mfcc=20))\n",
    "        scem = np.ndarray.mean(librosa.feature.spectral_centroid(y=y, sr=sr))\n",
    "        scom = np.ndarray.mean(librosa.feature.spectral_contrast(S=np.abs(librosa.stft(y)), sr=sr))\n",
    "        srom = np.ndarray.mean(librosa.feature.spectral_rolloff(y=y, sr=sr))\n",
    "        sbwm = np.ndarray.mean(librosa.feature.spectral_bandwidth(y=y, sr=sr))\n",
    "        tempo = librosa.beat.tempo(onset_envelope=librosa.onset.onset_strength(y=y, sr=sr, hop_length=512), sr=sr, hop_length=512)[0]\n",
    "        rmse = np.ndarray.mean(librosa.feature.rms(y=y))\n",
    "        features.append([mfcc, scem, scom, srom, sbwm, tempo, rmse, momento])\n",
    "    return pd.DataFrame(features, columns=['mfcc', 'scem','scom', 'srom','sbwm', 'tempo', 'rmse', 'momento'])\n",
    "\n",
    "data = get_features('./sounds2/', glob('./sounds2' + '/*.wav'))"
   ]
  },
  {
   "cell_type": "code",
   "execution_count": 21,
   "metadata": {},
   "outputs": [
    {
     "data": {
      "text/plain": [
       "\"The type of the dataframe is <class 'pandas.core.frame.DataFrame'>.\""
      ]
     },
     "metadata": {},
     "output_type": "display_data"
    },
    {
     "name": "stdout",
     "output_type": "stream",
     "text": [
      "------------------------------------------------------------------------\n"
     ]
    },
    {
     "data": {
      "text/plain": [
       "'The amount of entries are 224.'"
      ]
     },
     "metadata": {},
     "output_type": "display_data"
    },
    {
     "name": "stdout",
     "output_type": "stream",
     "text": [
      "------------------------------------------------------------------------\n"
     ]
    },
    {
     "data": {
      "text/plain": [
       "'Its shape is (28, 8).'"
      ]
     },
     "metadata": {},
     "output_type": "display_data"
    },
    {
     "name": "stdout",
     "output_type": "stream",
     "text": [
      "------------------------------------------------------------------------\n"
     ]
    },
    {
     "data": {
      "text/plain": [
       "\"Its features are: ['mfcc', 'scem', 'scom', 'srom', 'sbwm', 'tempo', 'rmse', 'momento'].\""
      ]
     },
     "metadata": {},
     "output_type": "display_data"
    },
    {
     "name": "stdout",
     "output_type": "stream",
     "text": [
      "------------------------------------------------------------------------\n",
      "The data types of columns are: mfcc       float64\n",
      "scem       float64\n",
      "scom       float64\n",
      "srom       float64\n",
      "sbwm       float64\n",
      "tempo      float64\n",
      "rmse       float64\n",
      "momento     object\n",
      "dtype: object\n",
      "------------------------------------------------------------------------\n",
      "The counter of each class is: Grifo         14\n",
      "Aspiradora    14\n",
      "Name: momento, dtype: int64\n",
      "------------------------------------------------------------------------\n",
      "The amount of null values is: mfcc       0\n",
      "scem       0\n",
      "scom       0\n",
      "srom       0\n",
      "sbwm       0\n",
      "tempo      0\n",
      "rmse       0\n",
      "momento    0\n",
      "dtype: int64.\n"
     ]
    },
    {
     "data": {
      "text/html": [
       "<div>\n",
       "<style scoped>\n",
       "    .dataframe tbody tr th:only-of-type {\n",
       "        vertical-align: middle;\n",
       "    }\n",
       "\n",
       "    .dataframe tbody tr th {\n",
       "        vertical-align: top;\n",
       "    }\n",
       "\n",
       "    .dataframe thead th {\n",
       "        text-align: right;\n",
       "    }\n",
       "</style>\n",
       "<table border=\"1\" class=\"dataframe\">\n",
       "  <thead>\n",
       "    <tr style=\"text-align: right;\">\n",
       "      <th></th>\n",
       "      <th>mfcc</th>\n",
       "      <th>scem</th>\n",
       "      <th>scom</th>\n",
       "      <th>srom</th>\n",
       "      <th>sbwm</th>\n",
       "      <th>tempo</th>\n",
       "      <th>rmse</th>\n",
       "      <th>momento</th>\n",
       "    </tr>\n",
       "  </thead>\n",
       "  <tbody>\n",
       "    <tr>\n",
       "      <th>0</th>\n",
       "      <td>-1.209925</td>\n",
       "      <td>3899.153153</td>\n",
       "      <td>18.999687</td>\n",
       "      <td>7674.313687</td>\n",
       "      <td>3091.657072</td>\n",
       "      <td>123.046875</td>\n",
       "      <td>0.153011</td>\n",
       "      <td>Aspiradora</td>\n",
       "    </tr>\n",
       "    <tr>\n",
       "      <th>1</th>\n",
       "      <td>-0.073909</td>\n",
       "      <td>4462.048199</td>\n",
       "      <td>19.394828</td>\n",
       "      <td>8128.784180</td>\n",
       "      <td>3059.540310</td>\n",
       "      <td>120.000000</td>\n",
       "      <td>0.225774</td>\n",
       "      <td>Aspiradora</td>\n",
       "    </tr>\n",
       "    <tr>\n",
       "      <th>2</th>\n",
       "      <td>0.091820</td>\n",
       "      <td>4143.076863</td>\n",
       "      <td>16.099284</td>\n",
       "      <td>8194.982542</td>\n",
       "      <td>3002.130473</td>\n",
       "      <td>123.046875</td>\n",
       "      <td>0.106121</td>\n",
       "      <td>Grifo</td>\n",
       "    </tr>\n",
       "    <tr>\n",
       "      <th>3</th>\n",
       "      <td>-1.693803</td>\n",
       "      <td>4342.919398</td>\n",
       "      <td>19.224401</td>\n",
       "      <td>7870.685508</td>\n",
       "      <td>3063.301995</td>\n",
       "      <td>123.046875</td>\n",
       "      <td>0.144743</td>\n",
       "      <td>Aspiradora</td>\n",
       "    </tr>\n",
       "    <tr>\n",
       "      <th>4</th>\n",
       "      <td>-9.215146</td>\n",
       "      <td>4809.931879</td>\n",
       "      <td>19.011070</td>\n",
       "      <td>8420.756428</td>\n",
       "      <td>3036.757352</td>\n",
       "      <td>123.046875</td>\n",
       "      <td>0.216905</td>\n",
       "      <td>Aspiradora</td>\n",
       "    </tr>\n",
       "  </tbody>\n",
       "</table>\n",
       "</div>"
      ],
      "text/plain": [
       "       mfcc         scem       scom         srom         sbwm       tempo  \\\n",
       "0 -1.209925  3899.153153  18.999687  7674.313687  3091.657072  123.046875   \n",
       "1 -0.073909  4462.048199  19.394828  8128.784180  3059.540310  120.000000   \n",
       "2  0.091820  4143.076863  16.099284  8194.982542  3002.130473  123.046875   \n",
       "3 -1.693803  4342.919398  19.224401  7870.685508  3063.301995  123.046875   \n",
       "4 -9.215146  4809.931879  19.011070  8420.756428  3036.757352  123.046875   \n",
       "\n",
       "       rmse     momento  \n",
       "0  0.153011  Aspiradora  \n",
       "1  0.225774  Aspiradora  \n",
       "2  0.106121       Grifo  \n",
       "3  0.144743  Aspiradora  \n",
       "4  0.216905  Aspiradora  "
      ]
     },
     "metadata": {},
     "output_type": "display_data"
    },
    {
     "data": {
      "text/html": [
       "<div>\n",
       "<style scoped>\n",
       "    .dataframe tbody tr th:only-of-type {\n",
       "        vertical-align: middle;\n",
       "    }\n",
       "\n",
       "    .dataframe tbody tr th {\n",
       "        vertical-align: top;\n",
       "    }\n",
       "\n",
       "    .dataframe thead th {\n",
       "        text-align: right;\n",
       "    }\n",
       "</style>\n",
       "<table border=\"1\" class=\"dataframe\">\n",
       "  <thead>\n",
       "    <tr style=\"text-align: right;\">\n",
       "      <th></th>\n",
       "      <th>mfcc</th>\n",
       "      <th>scem</th>\n",
       "      <th>scom</th>\n",
       "      <th>srom</th>\n",
       "      <th>sbwm</th>\n",
       "      <th>tempo</th>\n",
       "      <th>rmse</th>\n",
       "    </tr>\n",
       "  </thead>\n",
       "  <tbody>\n",
       "    <tr>\n",
       "      <th>count</th>\n",
       "      <td>28.000000</td>\n",
       "      <td>28.000000</td>\n",
       "      <td>28.000000</td>\n",
       "      <td>28.000000</td>\n",
       "      <td>28.000000</td>\n",
       "      <td>28.000000</td>\n",
       "      <td>28.000000</td>\n",
       "    </tr>\n",
       "    <tr>\n",
       "      <th>mean</th>\n",
       "      <td>-4.303088</td>\n",
       "      <td>4307.866445</td>\n",
       "      <td>17.994960</td>\n",
       "      <td>8092.243933</td>\n",
       "      <td>3014.115586</td>\n",
       "      <td>123.290762</td>\n",
       "      <td>0.121649</td>\n",
       "    </tr>\n",
       "    <tr>\n",
       "      <th>std</th>\n",
       "      <td>3.919068</td>\n",
       "      <td>314.678288</td>\n",
       "      <td>1.655027</td>\n",
       "      <td>404.215899</td>\n",
       "      <td>79.837520</td>\n",
       "      <td>2.842506</td>\n",
       "      <td>0.066696</td>\n",
       "    </tr>\n",
       "    <tr>\n",
       "      <th>min</th>\n",
       "      <td>-11.506991</td>\n",
       "      <td>3607.017904</td>\n",
       "      <td>15.780858</td>\n",
       "      <td>6607.970483</td>\n",
       "      <td>2733.730116</td>\n",
       "      <td>117.453835</td>\n",
       "      <td>0.024315</td>\n",
       "    </tr>\n",
       "    <tr>\n",
       "      <th>25%</th>\n",
       "      <td>-8.202848</td>\n",
       "      <td>4125.403339</td>\n",
       "      <td>16.238359</td>\n",
       "      <td>8027.922232</td>\n",
       "      <td>3002.659434</td>\n",
       "      <td>123.046875</td>\n",
       "      <td>0.054407</td>\n",
       "    </tr>\n",
       "    <tr>\n",
       "      <th>50%</th>\n",
       "      <td>-3.896869</td>\n",
       "      <td>4202.316503</td>\n",
       "      <td>18.727741</td>\n",
       "      <td>8236.625059</td>\n",
       "      <td>3034.369521</td>\n",
       "      <td>123.046875</td>\n",
       "      <td>0.109756</td>\n",
       "    </tr>\n",
       "    <tr>\n",
       "      <th>75%</th>\n",
       "      <td>-0.690039</td>\n",
       "      <td>4491.074084</td>\n",
       "      <td>19.035133</td>\n",
       "      <td>8311.685259</td>\n",
       "      <td>3040.364474</td>\n",
       "      <td>123.046875</td>\n",
       "      <td>0.167872</td>\n",
       "    </tr>\n",
       "    <tr>\n",
       "      <th>max</th>\n",
       "      <td>1.234239</td>\n",
       "      <td>4822.410675</td>\n",
       "      <td>21.697894</td>\n",
       "      <td>8447.185812</td>\n",
       "      <td>3184.399716</td>\n",
       "      <td>129.199219</td>\n",
       "      <td>0.225774</td>\n",
       "    </tr>\n",
       "  </tbody>\n",
       "</table>\n",
       "</div>"
      ],
      "text/plain": [
       "            mfcc         scem       scom         srom         sbwm  \\\n",
       "count  28.000000    28.000000  28.000000    28.000000    28.000000   \n",
       "mean   -4.303088  4307.866445  17.994960  8092.243933  3014.115586   \n",
       "std     3.919068   314.678288   1.655027   404.215899    79.837520   \n",
       "min   -11.506991  3607.017904  15.780858  6607.970483  2733.730116   \n",
       "25%    -8.202848  4125.403339  16.238359  8027.922232  3002.659434   \n",
       "50%    -3.896869  4202.316503  18.727741  8236.625059  3034.369521   \n",
       "75%    -0.690039  4491.074084  19.035133  8311.685259  3040.364474   \n",
       "max     1.234239  4822.410675  21.697894  8447.185812  3184.399716   \n",
       "\n",
       "            tempo       rmse  \n",
       "count   28.000000  28.000000  \n",
       "mean   123.290762   0.121649  \n",
       "std      2.842506   0.066696  \n",
       "min    117.453835   0.024315  \n",
       "25%    123.046875   0.054407  \n",
       "50%    123.046875   0.109756  \n",
       "75%    123.046875   0.167872  \n",
       "max    129.199219   0.225774  "
      ]
     },
     "metadata": {},
     "output_type": "display_data"
    }
   ],
   "source": [
    "def show_df_info(dataframe):\n",
    "    display(\"The type of the dataframe is {}.\".format(type(dataframe)))\n",
    "    print(\"------------------------------------------------------------------------\")\n",
    "    display(\"The amount of entries are {}.\".format(dataframe.size))\n",
    "    print(\"------------------------------------------------------------------------\")\n",
    "    display(\"Its shape is {}.\".format(dataframe.shape))\n",
    "    print(\"------------------------------------------------------------------------\")\n",
    "    display(\"Its features are: {}.\".format(list(dataframe)))\n",
    "    print(\"------------------------------------------------------------------------\")\n",
    "    print(\"The data types of columns are: {}\".format(dataframe.dtypes))\n",
    "    print(\"------------------------------------------------------------------------\")\n",
    "    print(\"The counter of each class is: {}\".format(dataframe.momento.value_counts()))\n",
    "    print(\"------------------------------------------------------------------------\")\n",
    "    print('The amount of null values is: {}.'.format(dataframe.isna().sum()))\n",
    "    display(dataframe.head())\n",
    "    display(dataframe.describe())\n",
    "    \n",
    "show_df_info(data)"
   ]
  },
  {
   "cell_type": "code",
   "execution_count": 22,
   "metadata": {},
   "outputs": [],
   "source": [
    "data.to_csv('data_prueba.csv', index=False)"
   ]
  },
  {
   "cell_type": "code",
   "execution_count": null,
   "metadata": {},
   "outputs": [],
   "source": []
  }
 ],
 "metadata": {
  "kernelspec": {
   "display_name": "Python 3",
   "language": "python",
   "name": "python3"
  },
  "language_info": {
   "codemirror_mode": {
    "name": "ipython",
    "version": 3
   },
   "file_extension": ".py",
   "mimetype": "text/x-python",
   "name": "python",
   "nbconvert_exporter": "python",
   "pygments_lexer": "ipython3",
   "version": "3.7.2"
  }
 },
 "nbformat": 4,
 "nbformat_minor": 2
}
