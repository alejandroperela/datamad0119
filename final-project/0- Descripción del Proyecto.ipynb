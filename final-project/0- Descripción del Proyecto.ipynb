{
 "cells": [
  {
   "cell_type": "markdown",
   "metadata": {},
   "source": [
    "# Descripción del Proyecto"
   ]
  },
  {
   "cell_type": "markdown",
   "metadata": {},
   "source": [
    "La idea de este proyecto era la de poder crear un programa que analizase en tiempo real determinados sonidos de una casa, relacionados principalmente con el gasto de agua y electricidad.\n",
    "\n",
    "Esto permitiría, de una forma sencilla y barata, conocer los hábitos de gasto de un hogar a un bajo precio."
   ]
  },
  {
   "cell_type": "markdown",
   "metadata": {},
   "source": [
    "# Archivos y estructura del proyecto"
   ]
  },
  {
   "cell_type": "markdown",
   "metadata": {},
   "source": [
    "Existen numerosos archivos dentro de este proyecto, que obedecen a su evolución temporal y a los cambios y mejoras en los diferentes modelos."
   ]
  },
  {
   "cell_type": "markdown",
   "metadata": {},
   "source": [
    "Los 5 primeros archivos corresponden con el modelo inicial, el cual únicamente incluye 7 features. Comencé extrayendo estas 7 features, y crear un modelo RandomForest para entrenar. Además, comprobé otros 4 modelos para saber cuál era el mejor.\n",
    "\n",
    "Una vez elegido el mejor modelo, apliqué 3 PCA para saber si se podía mejorar de alguna manera, y dado que no había mejoras sustanciales, pasé a intentar predecir nuevos sonidos.\n",
    "\n",
    "Es en este paso cuando me di cuenta de que mi modelo apenas predecía, y que necesitaba sacar features más discriminantes."
   ]
  },
  {
   "cell_type": "markdown",
   "metadata": {},
   "source": [
    "En los archivos 6 al 9 aplico estos cambios. Para empezar, reduje las ventanas de los audios de 10 a 2 segundos, para obtener más muestras, y obtuve la transformada de Fourier para cada ventana, dividiéndola en 32 bins.\n",
    "\n",
    "Y continué con los mismos pasos que con el primer modelo. En este caso, las transformada de Fourier sí que es una variable más discriminante y el modelo pasó de tener una accuracy del 5% al 54%. Además, muchos de los sonidos que falla lo hace por gran similitud con otros, como el secador de pelo y la secadora, el grifo y la ducha, o la licuadora y la máquina de afeitar."
   ]
  },
  {
   "cell_type": "markdown",
   "metadata": {},
   "source": [
    "Respecto a los últimos 4 archivos, contienen lo mismo que del 6 al 9, con la excepción de que la tranformada de Fourier está dividida en 64 bins en vez de 32."
   ]
  },
  {
   "cell_type": "markdown",
   "metadata": {},
   "source": [
    "# Conclusiones"
   ]
  },
  {
   "cell_type": "markdown",
   "metadata": {},
   "source": [
    "Mi principal conclusión es que un modelo con una score muy alta no te asegura que sea un modelo que haga buenas predicciones. El overfitting es un riesgo muy a tener en cuenta que puede hacer que un modelo apenas tenga capacidad predictiva.\n",
    "\n",
    "Además, features que a priori parecen ser muy discriminantes y diferenciadoras, si tu dataset no es lo suficientemente grande y variado, no servirán de nada.\n",
    "\n",
    "Además, es de vital importancia entender tu dataset y sus características, dado que es algo crucial a la hora de resolver problemas que vayan surgiendo y entender qué features son las más relevantes."
   ]
  },
  {
   "cell_type": "code",
   "execution_count": null,
   "metadata": {},
   "outputs": [],
   "source": []
  }
 ],
 "metadata": {
  "kernelspec": {
   "display_name": "Python 3",
   "language": "python",
   "name": "python3"
  },
  "language_info": {
   "codemirror_mode": {
    "name": "ipython",
    "version": 3
   },
   "file_extension": ".py",
   "mimetype": "text/x-python",
   "name": "python",
   "nbconvert_exporter": "python",
   "pygments_lexer": "ipython3",
   "version": "3.7.2"
  }
 },
 "nbformat": 4,
 "nbformat_minor": 2
}
