{
 "cells": [
  {
   "cell_type": "code",
   "execution_count": 2,
   "metadata": {},
   "outputs": [],
   "source": [
    "%matplotlib inline\n",
    "\n",
    "import numpy as np\n",
    "import pandas as pd\n",
    "\n",
    "import matplotlib.pyplot as plt\n",
    "\n",
    "import librosa.display\n",
    "import librosa\n",
    "\n",
    "from glob import glob\n",
    "\n",
    "import ffmpeg\n",
    "\n",
    "import os"
   ]
  },
  {
   "cell_type": "code",
   "execution_count": 5,
   "metadata": {},
   "outputs": [],
   "source": [
    "dinner_audio = pd.read_csv('./csv/dinner_audio.csv')"
   ]
  },
  {
   "cell_type": "code",
   "execution_count": 49,
   "metadata": {},
   "outputs": [
    {
     "data": {
      "text/html": [
       "<div>\n",
       "<style scoped>\n",
       "    .dataframe tbody tr th:only-of-type {\n",
       "        vertical-align: middle;\n",
       "    }\n",
       "\n",
       "    .dataframe tbody tr th {\n",
       "        vertical-align: top;\n",
       "    }\n",
       "\n",
       "    .dataframe thead th {\n",
       "        text-align: right;\n",
       "    }\n",
       "</style>\n",
       "<table border=\"1\" class=\"dataframe\">\n",
       "  <thead>\n",
       "    <tr style=\"text-align: right;\">\n",
       "      <th></th>\n",
       "      <th>id</th>\n",
       "      <th>name</th>\n",
       "      <th>mfcc</th>\n",
       "      <th>scem</th>\n",
       "      <th>scom</th>\n",
       "      <th>srom</th>\n",
       "      <th>sbwm</th>\n",
       "      <th>tempo</th>\n",
       "      <th>rmse</th>\n",
       "    </tr>\n",
       "  </thead>\n",
       "  <tbody>\n",
       "    <tr>\n",
       "      <th>0</th>\n",
       "      <td>1</td>\n",
       "      <td>A Touch Of Silver.mp3</td>\n",
       "      <td>2.182090</td>\n",
       "      <td>2008.227306</td>\n",
       "      <td>22.166286</td>\n",
       "      <td>4271.332505</td>\n",
       "      <td>2362.906658</td>\n",
       "      <td>129.199219</td>\n",
       "      <td>4.348369</td>\n",
       "    </tr>\n",
       "    <tr>\n",
       "      <th>1</th>\n",
       "      <td>2</td>\n",
       "      <td>All The Joy.mp3</td>\n",
       "      <td>-0.420979</td>\n",
       "      <td>1810.502120</td>\n",
       "      <td>22.819678</td>\n",
       "      <td>3800.143688</td>\n",
       "      <td>2217.648805</td>\n",
       "      <td>89.102909</td>\n",
       "      <td>3.749902</td>\n",
       "    </tr>\n",
       "  </tbody>\n",
       "</table>\n",
       "</div>"
      ],
      "text/plain": [
       "   id                   name      mfcc         scem       scom         srom  \\\n",
       "0   1  A Touch Of Silver.mp3  2.182090  2008.227306  22.166286  4271.332505   \n",
       "1   2        All The Joy.mp3 -0.420979  1810.502120  22.819678  3800.143688   \n",
       "\n",
       "          sbwm       tempo      rmse  \n",
       "0  2362.906658  129.199219  4.348369  \n",
       "1  2217.648805   89.102909  3.749902  "
      ]
     },
     "execution_count": 49,
     "metadata": {},
     "output_type": "execute_result"
    }
   ],
   "source": [
    "dinner_audio.head(2)"
   ]
  },
  {
   "cell_type": "code",
   "execution_count": 7,
   "metadata": {},
   "outputs": [],
   "source": [
    "dinner_track = pd.read_csv('./csv/dinner_track.csv')"
   ]
  },
  {
   "cell_type": "code",
   "execution_count": 50,
   "metadata": {},
   "outputs": [
    {
     "data": {
      "text/html": [
       "<div>\n",
       "<style scoped>\n",
       "    .dataframe tbody tr th:only-of-type {\n",
       "        vertical-align: middle;\n",
       "    }\n",
       "\n",
       "    .dataframe tbody tr th {\n",
       "        vertical-align: top;\n",
       "    }\n",
       "\n",
       "    .dataframe thead th {\n",
       "        text-align: right;\n",
       "    }\n",
       "</style>\n",
       "<table border=\"1\" class=\"dataframe\">\n",
       "  <thead>\n",
       "    <tr style=\"text-align: right;\">\n",
       "      <th></th>\n",
       "      <th>id</th>\n",
       "      <th>name</th>\n",
       "      <th>uri</th>\n",
       "      <th>artist</th>\n",
       "      <th>acousticness</th>\n",
       "      <th>danceability</th>\n",
       "      <th>duration_ms</th>\n",
       "      <th>energy</th>\n",
       "      <th>instrumentalness</th>\n",
       "      <th>key</th>\n",
       "      <th>liveness</th>\n",
       "      <th>loudness</th>\n",
       "      <th>mode</th>\n",
       "      <th>speechiness</th>\n",
       "      <th>tempo</th>\n",
       "      <th>time_signature</th>\n",
       "      <th>valence</th>\n",
       "    </tr>\n",
       "  </thead>\n",
       "  <tbody>\n",
       "    <tr>\n",
       "      <th>0</th>\n",
       "      <td>4dn6rw5Ze1uWrLm1uOk1gu</td>\n",
       "      <td>Stockholm Sweetnin'</td>\n",
       "      <td>spotify:track:4dn6rw5Ze1uWrLm1uOk1gu</td>\n",
       "      <td>Scott Hamilton, Jesper Lundgaard, Jan Lundgren...</td>\n",
       "      <td>0.838</td>\n",
       "      <td>0.602</td>\n",
       "      <td>475680</td>\n",
       "      <td>0.302</td>\n",
       "      <td>0.907</td>\n",
       "      <td>8</td>\n",
       "      <td>0.113</td>\n",
       "      <td>-11.627</td>\n",
       "      <td>1</td>\n",
       "      <td>0.0427</td>\n",
       "      <td>119.758</td>\n",
       "      <td>4</td>\n",
       "      <td>0.300</td>\n",
       "    </tr>\n",
       "    <tr>\n",
       "      <th>1</th>\n",
       "      <td>6CDQBADsdzJwc3qZ3OPDHH</td>\n",
       "      <td>Almost Like Being in Love</td>\n",
       "      <td>spotify:track:6CDQBADsdzJwc3qZ3OPDHH</td>\n",
       "      <td>Red Garland, Paul Chambers, Art Taylor,</td>\n",
       "      <td>0.873</td>\n",
       "      <td>0.571</td>\n",
       "      <td>290293</td>\n",
       "      <td>0.346</td>\n",
       "      <td>0.519</td>\n",
       "      <td>0</td>\n",
       "      <td>0.098</td>\n",
       "      <td>-12.569</td>\n",
       "      <td>0</td>\n",
       "      <td>0.0409</td>\n",
       "      <td>93.885</td>\n",
       "      <td>4</td>\n",
       "      <td>0.687</td>\n",
       "    </tr>\n",
       "  </tbody>\n",
       "</table>\n",
       "</div>"
      ],
      "text/plain": [
       "                       id                       name  \\\n",
       "0  4dn6rw5Ze1uWrLm1uOk1gu        Stockholm Sweetnin'   \n",
       "1  6CDQBADsdzJwc3qZ3OPDHH  Almost Like Being in Love   \n",
       "\n",
       "                                    uri  \\\n",
       "0  spotify:track:4dn6rw5Ze1uWrLm1uOk1gu   \n",
       "1  spotify:track:6CDQBADsdzJwc3qZ3OPDHH   \n",
       "\n",
       "                                              artist  acousticness  \\\n",
       "0  Scott Hamilton, Jesper Lundgaard, Jan Lundgren...         0.838   \n",
       "1           Red Garland, Paul Chambers, Art Taylor,          0.873   \n",
       "\n",
       "   danceability  duration_ms  energy  instrumentalness  key  liveness  \\\n",
       "0         0.602       475680   0.302             0.907    8     0.113   \n",
       "1         0.571       290293   0.346             0.519    0     0.098   \n",
       "\n",
       "   loudness  mode  speechiness    tempo  time_signature  valence  \n",
       "0   -11.627     1       0.0427  119.758               4    0.300  \n",
       "1   -12.569     0       0.0409   93.885               4    0.687  "
      ]
     },
     "execution_count": 50,
     "metadata": {},
     "output_type": "execute_result"
    }
   ],
   "source": [
    "dinner_track.head(2)"
   ]
  },
  {
   "cell_type": "code",
   "execution_count": 108,
   "metadata": {},
   "outputs": [],
   "source": [
    "data_dir = './mp3'\n",
    "audio_files = glob(data_dir + '/*.mp3')"
   ]
  },
  {
   "cell_type": "code",
   "execution_count": 109,
   "metadata": {},
   "outputs": [],
   "source": [
    "data = pd.DataFrame(columns = ['name','mfcc', 'scem','scom', 'srom','sbwm', 'tempo', 'rmse'])"
   ]
  },
  {
   "cell_type": "code",
   "execution_count": 110,
   "metadata": {},
   "outputs": [],
   "source": [
    "lista = []\n",
    "for i in range(len(audio_files)):\n",
    "    lista.append(os.listdir('./mp3/')[i])\n",
    "data.name = lista"
   ]
  },
  {
   "cell_type": "code",
   "execution_count": 116,
   "metadata": {},
   "outputs": [],
   "source": [
    "lista2 = []\n",
    "for i in range(len(audio_files)):\n",
    "    y, sr = librosa.load(audio_files[i])\n",
    "    mfcc_aux = librosa.feature.mfcc(y=y, sr=sr, n_mfcc=20)\n",
    "    mfcc = np.ndarray.mean(mfcc_aux)\n",
    "    lista2.append(mfcc)\n",
    "data.mfcc = lista2"
   ]
  },
  {
   "cell_type": "code",
   "execution_count": 119,
   "metadata": {},
   "outputs": [],
   "source": [
    "lista3 = []\n",
    "for i in range(len(audio_files)):\n",
    "    y, sr = librosa.load(audio_files[i])\n",
    "    cent = librosa.feature.spectral_centroid(y=y, sr=sr)\n",
    "    scem = np.ndarray.mean(cent)\n",
    "    lista3.append(scem)\n",
    "data.scem = lista3"
   ]
  },
  {
   "cell_type": "code",
   "execution_count": 120,
   "metadata": {},
   "outputs": [],
   "source": [
    "lista4 = []\n",
    "for i in range(len(audio_files)):\n",
    "    y, sr = librosa.load(audio_files[i])\n",
    "    S = np.abs(librosa.stft(y))\n",
    "    contrast = librosa.feature.spectral_contrast(S=S, sr=sr)\n",
    "    scom = np.ndarray.mean(contrast)\n",
    "    lista4.append(scom)\n",
    "data.scom = lista4"
   ]
  },
  {
   "cell_type": "code",
   "execution_count": 121,
   "metadata": {},
   "outputs": [],
   "source": [
    "lista5 = []\n",
    "for i in range(len(audio_files)):\n",
    "    y, sr = librosa.load(audio_files[i])\n",
    "    rolloff = librosa.feature.spectral_rolloff(y=y, sr=sr)\n",
    "    srom = np.ndarray.mean(rolloff)\n",
    "    lista5.append(srom)\n",
    "data.srom = lista5"
   ]
  },
  {
   "cell_type": "code",
   "execution_count": 122,
   "metadata": {},
   "outputs": [],
   "source": [
    "lista6 = []\n",
    "for i in range(len(audio_files)):\n",
    "    y, sr = librosa.load(audio_files[i])\n",
    "    spec_bw = librosa.feature.spectral_bandwidth(y=y, sr=sr)\n",
    "    sbwm = np.ndarray.mean(spec_bw)\n",
    "    lista6.append(sbwm)\n",
    "data.sbwm = lista6"
   ]
  },
  {
   "cell_type": "code",
   "execution_count": 123,
   "metadata": {},
   "outputs": [],
   "source": [
    "lista7 = []\n",
    "for i in range(len(audio_files)):\n",
    "    y, sr = librosa.load(audio_files[i])\n",
    "    hop_length = 512\n",
    "    oenv = librosa.onset.onset_strength(y=y, sr=sr, hop_length=hop_length)\n",
    "    tempogram = librosa.feature.tempogram(onset_envelope=oenv, sr=sr, hop_length=hop_length)\n",
    "\n",
    "    # Compute global onset autocorrelation\n",
    "    ac_global = librosa.autocorrelate(oenv, max_size=tempogram.shape[0])\n",
    "    ac_global = librosa.util.normalize(ac_global)\n",
    "\n",
    "    # Estimate the global tempo for display purposes\n",
    "    tempo = librosa.beat.tempo(onset_envelope=oenv, sr=sr, hop_length=hop_length)[0]\n",
    "    lista7.append(tempo)\n",
    "data.tempo = lista7"
   ]
  },
  {
   "cell_type": "code",
   "execution_count": 124,
   "metadata": {},
   "outputs": [],
   "source": [
    "lista8 = []\n",
    "for i in range(len(audio_files)):\n",
    "    y, sr = librosa.load(audio_files[i])\n",
    "    rmse_aux = librosa.feature.rms(y=y)\n",
    "    rmse = np.ndarray.mean(rmse_aux)\n",
    "    lista8.append(rmse)\n",
    "data.rmse = lista8"
   ]
  },
  {
   "cell_type": "code",
   "execution_count": 127,
   "metadata": {},
   "outputs": [
    {
     "data": {
      "text/html": [
       "<div>\n",
       "<style scoped>\n",
       "    .dataframe tbody tr th:only-of-type {\n",
       "        vertical-align: middle;\n",
       "    }\n",
       "\n",
       "    .dataframe tbody tr th {\n",
       "        vertical-align: top;\n",
       "    }\n",
       "\n",
       "    .dataframe thead th {\n",
       "        text-align: right;\n",
       "    }\n",
       "</style>\n",
       "<table border=\"1\" class=\"dataframe\">\n",
       "  <thead>\n",
       "    <tr style=\"text-align: right;\">\n",
       "      <th></th>\n",
       "      <th>mfcc</th>\n",
       "      <th>scem</th>\n",
       "      <th>scom</th>\n",
       "      <th>srom</th>\n",
       "      <th>sbwm</th>\n",
       "      <th>tempo</th>\n",
       "      <th>rmse</th>\n",
       "    </tr>\n",
       "  </thead>\n",
       "  <tbody>\n",
       "    <tr>\n",
       "      <th>count</th>\n",
       "      <td>3.000000</td>\n",
       "      <td>3.000000</td>\n",
       "      <td>3.000000</td>\n",
       "      <td>3.000000</td>\n",
       "      <td>3.000000</td>\n",
       "      <td>3.000000</td>\n",
       "      <td>3.000000</td>\n",
       "    </tr>\n",
       "    <tr>\n",
       "      <th>mean</th>\n",
       "      <td>-2.401833</td>\n",
       "      <td>1549.421271</td>\n",
       "      <td>21.793544</td>\n",
       "      <td>3331.109169</td>\n",
       "      <td>2003.204470</td>\n",
       "      <td>121.182528</td>\n",
       "      <td>0.112057</td>\n",
       "    </tr>\n",
       "    <tr>\n",
       "      <th>std</th>\n",
       "      <td>3.707126</td>\n",
       "      <td>367.140367</td>\n",
       "      <td>1.918053</td>\n",
       "      <td>1024.856341</td>\n",
       "      <td>379.131838</td>\n",
       "      <td>3.229143</td>\n",
       "      <td>0.057064</td>\n",
       "    </tr>\n",
       "    <tr>\n",
       "      <th>min</th>\n",
       "      <td>-6.669750</td>\n",
       "      <td>1198.597776</td>\n",
       "      <td>20.435197</td>\n",
       "      <td>2428.068073</td>\n",
       "      <td>1634.496892</td>\n",
       "      <td>117.453835</td>\n",
       "      <td>0.048735</td>\n",
       "    </tr>\n",
       "    <tr>\n",
       "      <th>25%</th>\n",
       "      <td>-3.611502</td>\n",
       "      <td>1358.656912</td>\n",
       "      <td>20.696479</td>\n",
       "      <td>2774.169902</td>\n",
       "      <td>1808.824356</td>\n",
       "      <td>120.250355</td>\n",
       "      <td>0.088334</td>\n",
       "    </tr>\n",
       "    <tr>\n",
       "      <th>50%</th>\n",
       "      <td>-0.553254</td>\n",
       "      <td>1518.716048</td>\n",
       "      <td>20.957761</td>\n",
       "      <td>3120.271731</td>\n",
       "      <td>1983.151821</td>\n",
       "      <td>123.046875</td>\n",
       "      <td>0.127934</td>\n",
       "    </tr>\n",
       "    <tr>\n",
       "      <th>75%</th>\n",
       "      <td>-0.267874</td>\n",
       "      <td>1724.833018</td>\n",
       "      <td>22.472718</td>\n",
       "      <td>3782.629718</td>\n",
       "      <td>2187.558259</td>\n",
       "      <td>123.046875</td>\n",
       "      <td>0.143718</td>\n",
       "    </tr>\n",
       "    <tr>\n",
       "      <th>max</th>\n",
       "      <td>0.017506</td>\n",
       "      <td>1930.949989</td>\n",
       "      <td>23.987676</td>\n",
       "      <td>4444.987704</td>\n",
       "      <td>2391.964696</td>\n",
       "      <td>123.046875</td>\n",
       "      <td>0.159501</td>\n",
       "    </tr>\n",
       "  </tbody>\n",
       "</table>\n",
       "</div>"
      ],
      "text/plain": [
       "           mfcc         scem       scom         srom         sbwm       tempo  \\\n",
       "count  3.000000     3.000000   3.000000     3.000000     3.000000    3.000000   \n",
       "mean  -2.401833  1549.421271  21.793544  3331.109169  2003.204470  121.182528   \n",
       "std    3.707126   367.140367   1.918053  1024.856341   379.131838    3.229143   \n",
       "min   -6.669750  1198.597776  20.435197  2428.068073  1634.496892  117.453835   \n",
       "25%   -3.611502  1358.656912  20.696479  2774.169902  1808.824356  120.250355   \n",
       "50%   -0.553254  1518.716048  20.957761  3120.271731  1983.151821  123.046875   \n",
       "75%   -0.267874  1724.833018  22.472718  3782.629718  2187.558259  123.046875   \n",
       "max    0.017506  1930.949989  23.987676  4444.987704  2391.964696  123.046875   \n",
       "\n",
       "           rmse  \n",
       "count  3.000000  \n",
       "mean   0.112057  \n",
       "std    0.057064  \n",
       "min    0.048735  \n",
       "25%    0.088334  \n",
       "50%    0.127934  \n",
       "75%    0.143718  \n",
       "max    0.159501  "
      ]
     },
     "execution_count": 127,
     "metadata": {},
     "output_type": "execute_result"
    }
   ],
   "source": [
    "data.describe()"
   ]
  },
  {
   "cell_type": "code",
   "execution_count": 126,
   "metadata": {},
   "outputs": [
    {
     "data": {
      "text/html": [
       "<div>\n",
       "<style scoped>\n",
       "    .dataframe tbody tr th:only-of-type {\n",
       "        vertical-align: middle;\n",
       "    }\n",
       "\n",
       "    .dataframe tbody tr th {\n",
       "        vertical-align: top;\n",
       "    }\n",
       "\n",
       "    .dataframe thead th {\n",
       "        text-align: right;\n",
       "    }\n",
       "</style>\n",
       "<table border=\"1\" class=\"dataframe\">\n",
       "  <thead>\n",
       "    <tr style=\"text-align: right;\">\n",
       "      <th></th>\n",
       "      <th>id</th>\n",
       "      <th>name</th>\n",
       "      <th>mfcc</th>\n",
       "      <th>scem</th>\n",
       "      <th>scom</th>\n",
       "      <th>srom</th>\n",
       "      <th>sbwm</th>\n",
       "      <th>tempo</th>\n",
       "      <th>rmse</th>\n",
       "    </tr>\n",
       "  </thead>\n",
       "  <tbody>\n",
       "    <tr>\n",
       "      <th>10</th>\n",
       "      <td>11</td>\n",
       "      <td>Brother Hiroshi.mp3</td>\n",
       "      <td>0.941666</td>\n",
       "      <td>1863.693864</td>\n",
       "      <td>21.795506</td>\n",
       "      <td>4347.507045</td>\n",
       "      <td>2356.991393</td>\n",
       "      <td>123.046875</td>\n",
       "      <td>4.050742</td>\n",
       "    </tr>\n",
       "    <tr>\n",
       "      <th>16</th>\n",
       "      <td>17</td>\n",
       "      <td>Ham Hocks and Cabbage.mp3</td>\n",
       "      <td>-6.427932</td>\n",
       "      <td>1292.149973</td>\n",
       "      <td>21.808515</td>\n",
       "      <td>2683.125442</td>\n",
       "      <td>1827.347560</td>\n",
       "      <td>123.046875</td>\n",
       "      <td>1.218587</td>\n",
       "    </tr>\n",
       "    <tr>\n",
       "      <th>38</th>\n",
       "      <td>39</td>\n",
       "      <td>Stockholm Sweetnin'.mp3</td>\n",
       "      <td>2.181471</td>\n",
       "      <td>1736.838316</td>\n",
       "      <td>24.179880</td>\n",
       "      <td>3616.669797</td>\n",
       "      <td>2032.189879</td>\n",
       "      <td>117.453835</td>\n",
       "      <td>5.439447</td>\n",
       "    </tr>\n",
       "  </tbody>\n",
       "</table>\n",
       "</div>"
      ],
      "text/plain": [
       "    id                       name      mfcc         scem       scom  \\\n",
       "10  11        Brother Hiroshi.mp3  0.941666  1863.693864  21.795506   \n",
       "16  17  Ham Hocks and Cabbage.mp3 -6.427932  1292.149973  21.808515   \n",
       "38  39    Stockholm Sweetnin'.mp3  2.181471  1736.838316  24.179880   \n",
       "\n",
       "           srom         sbwm       tempo      rmse  \n",
       "10  4347.507045  2356.991393  123.046875  4.050742  \n",
       "16  2683.125442  1827.347560  123.046875  1.218587  \n",
       "38  3616.669797  2032.189879  117.453835  5.439447  "
      ]
     },
     "execution_count": 126,
     "metadata": {},
     "output_type": "execute_result"
    }
   ],
   "source": [
    "dinner_aux = dinner_audio.loc[[10, 16, 38]]\n",
    "dinner_aux"
   ]
  },
  {
   "cell_type": "code",
   "execution_count": null,
   "metadata": {},
   "outputs": [],
   "source": []
  },
  {
   "cell_type": "markdown",
   "metadata": {},
   "source": [
    "# ANOTACIONES"
   ]
  },
  {
   "cell_type": "code",
   "execution_count": null,
   "metadata": {},
   "outputs": [],
   "source": [
    "y, sr = librosa.load(audio_files[0])"
   ]
  },
  {
   "cell_type": "markdown",
   "metadata": {},
   "source": [
    "MFCC"
   ]
  },
  {
   "cell_type": "code",
   "execution_count": 30,
   "metadata": {},
   "outputs": [
    {
     "data": {
      "text/plain": [
       "-6.669750396974487"
      ]
     },
     "execution_count": 30,
     "metadata": {},
     "output_type": "execute_result"
    }
   ],
   "source": [
    "mfcc_aux = librosa.feature.mfcc(y=y, sr=sr, n_mfcc=20)\n",
    "mfcc = np.ndarray.mean(mfcc_aux)\n",
    "mfcc"
   ]
  },
  {
   "cell_type": "code",
   "execution_count": null,
   "metadata": {},
   "outputs": [],
   "source": [
    "data"
   ]
  },
  {
   "cell_type": "markdown",
   "metadata": {},
   "source": [
    "Spectral centroid"
   ]
  },
  {
   "cell_type": "code",
   "execution_count": 31,
   "metadata": {},
   "outputs": [
    {
     "data": {
      "text/plain": [
       "1518.7160477443933"
      ]
     },
     "execution_count": 31,
     "metadata": {},
     "output_type": "execute_result"
    }
   ],
   "source": [
    "cent = librosa.feature.spectral_centroid(y=y, sr=sr)\n",
    "scem = np.ndarray.mean(cent)\n",
    "scem"
   ]
  },
  {
   "cell_type": "markdown",
   "metadata": {},
   "source": [
    "Spectral contrast"
   ]
  },
  {
   "cell_type": "code",
   "execution_count": 32,
   "metadata": {},
   "outputs": [
    {
     "data": {
      "text/plain": [
       "20.435196751306847"
      ]
     },
     "execution_count": 32,
     "metadata": {},
     "output_type": "execute_result"
    }
   ],
   "source": [
    "S = np.abs(librosa.stft(y))\n",
    "contrast = librosa.feature.spectral_contrast(S=S, sr=sr)\n",
    "scom = np.ndarray.mean(contrast)\n",
    "scom"
   ]
  },
  {
   "cell_type": "markdown",
   "metadata": {},
   "source": [
    "Spectral Roll-off"
   ]
  },
  {
   "cell_type": "code",
   "execution_count": 33,
   "metadata": {},
   "outputs": [
    {
     "data": {
      "text/plain": [
       "3120.2717310592216"
      ]
     },
     "execution_count": 33,
     "metadata": {},
     "output_type": "execute_result"
    }
   ],
   "source": [
    "rolloff = librosa.feature.spectral_rolloff(y=y, sr=sr)\n",
    "srom = np.ndarray.mean(rolloff)\n",
    "srom"
   ]
  },
  {
   "cell_type": "markdown",
   "metadata": {},
   "source": [
    "Spectral Bandwidth"
   ]
  },
  {
   "cell_type": "code",
   "execution_count": 34,
   "metadata": {},
   "outputs": [
    {
     "data": {
      "text/plain": [
       "1983.1518209886758"
      ]
     },
     "execution_count": 34,
     "metadata": {},
     "output_type": "execute_result"
    }
   ],
   "source": [
    "spec_bw = librosa.feature.spectral_bandwidth(y=y, sr=sr)\n",
    "sbwm = np.ndarray.mean(spec_bw)\n",
    "sbwm"
   ]
  },
  {
   "cell_type": "markdown",
   "metadata": {},
   "source": [
    "Tempo "
   ]
  },
  {
   "cell_type": "code",
   "execution_count": 39,
   "metadata": {},
   "outputs": [
    {
     "data": {
      "text/plain": [
       "123.046875"
      ]
     },
     "execution_count": 39,
     "metadata": {},
     "output_type": "execute_result"
    }
   ],
   "source": [
    "hop_length = 512\n",
    "oenv = librosa.onset.onset_strength(y=y, sr=sr, hop_length=hop_length)\n",
    "tempogram = librosa.feature.tempogram(onset_envelope=oenv, sr=sr, hop_length=hop_length)\n",
    "\n",
    "# Compute global onset autocorrelation\n",
    "ac_global = librosa.autocorrelate(oenv, max_size=tempogram.shape[0])\n",
    "ac_global = librosa.util.normalize(ac_global)\n",
    "\n",
    "# Estimate the global tempo for display purposes\n",
    "tempo = librosa.beat.tempo(onset_envelope=oenv, sr=sr, hop_length=hop_length)[0]\n",
    "tempo"
   ]
  },
  {
   "cell_type": "markdown",
   "metadata": {},
   "source": [
    "RMSE"
   ]
  },
  {
   "cell_type": "code",
   "execution_count": 44,
   "metadata": {},
   "outputs": [
    {
     "data": {
      "text/plain": [
       "0.048735216"
      ]
     },
     "execution_count": 44,
     "metadata": {},
     "output_type": "execute_result"
    }
   ],
   "source": [
    "rmse_aux = librosa.feature.rms(y=y)\n",
    "rmse = np.ndarray.mean(rmse_aux)\n",
    "rmse"
   ]
  },
  {
   "cell_type": "code",
   "execution_count": 41,
   "metadata": {},
   "outputs": [
    {
     "data": {
      "text/plain": [
       "array([[0., 0., 0., ..., 0., 0., 0.]], dtype=float32)"
      ]
     },
     "execution_count": 41,
     "metadata": {},
     "output_type": "execute_result"
    }
   ],
   "source": [
    "S, phase = librosa.magphase(librosa.stft(y))\n",
    "rms = librosa.feature.rms(S=S)\n",
    "rms"
   ]
  },
  {
   "cell_type": "code",
   "execution_count": 42,
   "metadata": {},
   "outputs": [
    {
     "data": {
      "text/plain": [
       "array([[0., 0., 0., ..., 0., 0., 0.]], dtype=float32)"
      ]
     },
     "execution_count": 42,
     "metadata": {},
     "output_type": "execute_result"
    }
   ],
   "source": [
    "S, phase = librosa.magphase(librosa.stft(y))\n",
    "rms = librosa.feature.rms(S=S)\n",
    "rms"
   ]
  },
  {
   "cell_type": "code",
   "execution_count": 45,
   "metadata": {},
   "outputs": [
    {
     "data": {
      "text/html": [
       "<div>\n",
       "<style scoped>\n",
       "    .dataframe tbody tr th:only-of-type {\n",
       "        vertical-align: middle;\n",
       "    }\n",
       "\n",
       "    .dataframe tbody tr th {\n",
       "        vertical-align: top;\n",
       "    }\n",
       "\n",
       "    .dataframe thead th {\n",
       "        text-align: right;\n",
       "    }\n",
       "</style>\n",
       "<table border=\"1\" class=\"dataframe\">\n",
       "  <thead>\n",
       "    <tr style=\"text-align: right;\">\n",
       "      <th></th>\n",
       "      <th>id</th>\n",
       "      <th>name</th>\n",
       "      <th>mfcc</th>\n",
       "      <th>scem</th>\n",
       "      <th>scom</th>\n",
       "      <th>srom</th>\n",
       "      <th>sbwm</th>\n",
       "      <th>tempo</th>\n",
       "      <th>rmse</th>\n",
       "    </tr>\n",
       "  </thead>\n",
       "  <tbody>\n",
       "    <tr>\n",
       "      <th>10</th>\n",
       "      <td>11</td>\n",
       "      <td>Brother Hiroshi.mp3</td>\n",
       "      <td>0.941666</td>\n",
       "      <td>1863.693864</td>\n",
       "      <td>21.795506</td>\n",
       "      <td>4347.507045</td>\n",
       "      <td>2356.991393</td>\n",
       "      <td>123.046875</td>\n",
       "      <td>4.050742</td>\n",
       "    </tr>\n",
       "    <tr>\n",
       "      <th>16</th>\n",
       "      <td>17</td>\n",
       "      <td>Ham Hocks and Cabbage.mp3</td>\n",
       "      <td>-6.427932</td>\n",
       "      <td>1292.149973</td>\n",
       "      <td>21.808515</td>\n",
       "      <td>2683.125442</td>\n",
       "      <td>1827.347560</td>\n",
       "      <td>123.046875</td>\n",
       "      <td>1.218587</td>\n",
       "    </tr>\n",
       "    <tr>\n",
       "      <th>38</th>\n",
       "      <td>39</td>\n",
       "      <td>Stockholm Sweetnin'.mp3</td>\n",
       "      <td>2.181471</td>\n",
       "      <td>1736.838316</td>\n",
       "      <td>24.179880</td>\n",
       "      <td>3616.669797</td>\n",
       "      <td>2032.189879</td>\n",
       "      <td>117.453835</td>\n",
       "      <td>5.439447</td>\n",
       "    </tr>\n",
       "  </tbody>\n",
       "</table>\n",
       "</div>"
      ],
      "text/plain": [
       "    id                       name      mfcc         scem       scom  \\\n",
       "10  11        Brother Hiroshi.mp3  0.941666  1863.693864  21.795506   \n",
       "16  17  Ham Hocks and Cabbage.mp3 -6.427932  1292.149973  21.808515   \n",
       "38  39    Stockholm Sweetnin'.mp3  2.181471  1736.838316  24.179880   \n",
       "\n",
       "           srom         sbwm       tempo      rmse  \n",
       "10  4347.507045  2356.991393  123.046875  4.050742  \n",
       "16  2683.125442  1827.347560  123.046875  1.218587  \n",
       "38  3616.669797  2032.189879  117.453835  5.439447  "
      ]
     },
     "execution_count": 45,
     "metadata": {},
     "output_type": "execute_result"
    }
   ],
   "source": []
  },
  {
   "cell_type": "code",
   "execution_count": null,
   "metadata": {},
   "outputs": [],
   "source": [
    "plt.figure(figsize=(10, 4))\n",
    "librosa.display.specshow(mfcc, x_axis='time')\n",
    "plt.colorbar()\n",
    "plt.title('MFCC')\n",
    "plt.tight_layout()"
   ]
  }
 ],
 "metadata": {
  "kernelspec": {
   "display_name": "Python 3",
   "language": "python",
   "name": "python3"
  },
  "language_info": {
   "codemirror_mode": {
    "name": "ipython",
    "version": 3
   },
   "file_extension": ".py",
   "mimetype": "text/x-python",
   "name": "python",
   "nbconvert_exporter": "python",
   "pygments_lexer": "ipython3",
   "version": "3.7.2"
  }
 },
 "nbformat": 4,
 "nbformat_minor": 2
}
