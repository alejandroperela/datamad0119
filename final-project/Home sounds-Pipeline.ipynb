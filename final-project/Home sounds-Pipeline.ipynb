{
 "cells": [
  {
   "cell_type": "code",
   "execution_count": 101,
   "metadata": {},
   "outputs": [],
   "source": [
    "%matplotlib inline\n",
    "\n",
    "import numpy as np\n",
    "import pandas as pd\n",
    "\n",
    "import librosa.display\n",
    "import librosa\n",
    "\n",
    "from glob import glob\n",
    "\n",
    "import ffmpeg\n",
    "\n",
    "import os\n",
    "\n",
    "from pydub import AudioSegment\n",
    "from pydub.utils import make_chunks\n",
    "\n",
    "import re"
   ]
  },
  {
   "cell_type": "code",
   "execution_count": 102,
   "metadata": {},
   "outputs": [],
   "source": [
    "def decompose_files(data_dir, audio_files):\n",
    "    for j in range(len(audio_files)):\n",
    "        myaudio = AudioSegment.from_file(data_dir + '{}'.format(os.listdir(data_dir)[j])) \n",
    "        chunk_length_ms = 10000\n",
    "        chunks = make_chunks(myaudio, chunk_length_ms)\n",
    "\n",
    "        for i, chunk in enumerate(chunks):\n",
    "            chunk_name = \"{}{}.wav\".format(os.listdir(data_dir)[j], i)\n",
    "            print(\"exporting\", chunk_name)\n",
    "            chunk.export('./sounds2/{}'.format(chunk_name), format=\"mp3\")"
   ]
  },
  {
   "cell_type": "code",
   "execution_count": 103,
   "metadata": {},
   "outputs": [
    {
     "name": "stdout",
     "output_type": "stream",
     "text": [
      "exporting doorbell.mp30.wav\n",
      "exporting doorbell.mp31.wav\n",
      "exporting doorbell.mp32.wav\n",
      "exporting doorbell.mp33.wav\n",
      "exporting doorbell.mp34.wav\n",
      "exporting doorbell.mp35.wav\n",
      "exporting doorbell.mp36.wav\n",
      "exporting doorbell.mp37.wav\n",
      "exporting doorbell.mp38.wav\n",
      "exporting doorbell.mp39.wav\n",
      "exporting doorbell.mp310.wav\n",
      "exporting doorbell.mp311.wav\n",
      "exporting doorbell.mp312.wav\n",
      "exporting doorbell.mp313.wav\n",
      "exporting doorbell.mp314.wav\n",
      "exporting doorbell.mp315.wav\n",
      "exporting doorbell.mp316.wav\n",
      "exporting doorbell.mp317.wav\n",
      "exporting doorbell.mp318.wav\n",
      "exporting doorbell.mp319.wav\n",
      "exporting doorbell.mp320.wav\n",
      "exporting doorbell.mp321.wav\n",
      "exporting doorbell.mp322.wav\n",
      "exporting doorbell.mp323.wav\n",
      "exporting doorbell.mp324.wav\n",
      "exporting doorbell.mp325.wav\n",
      "exporting doorbell.mp326.wav\n",
      "exporting doorbell.mp327.wav\n",
      "exporting doorbell.mp328.wav\n",
      "exporting doorbell.mp329.wav\n",
      "exporting doorbell.mp330.wav\n",
      "exporting doorbell.mp331.wav\n",
      "exporting doorbell.mp332.wav\n",
      "exporting doorbell.mp333.wav\n",
      "exporting doorbell.mp334.wav\n",
      "exporting doorbell.mp335.wav\n",
      "exporting doorbell.mp336.wav\n",
      "exporting doorbell.mp337.wav\n",
      "exporting doorbell.mp338.wav\n",
      "exporting doorbell.mp339.wav\n",
      "exporting doorbell.mp340.wav\n",
      "exporting doorbell.mp341.wav\n",
      "exporting doorbell.mp342.wav\n",
      "exporting doorbell.mp343.wav\n",
      "exporting doorbell.mp344.wav\n",
      "exporting doorbell.mp345.wav\n",
      "exporting doorbell.mp346.wav\n",
      "exporting doorbell.mp347.wav\n",
      "exporting doorbell.mp348.wav\n",
      "exporting doorbell.mp349.wav\n",
      "exporting doorbell.mp350.wav\n",
      "exporting doorbell.mp351.wav\n",
      "exporting doorbell.mp352.wav\n",
      "exporting doorbell.mp353.wav\n",
      "exporting doorbell.mp354.wav\n",
      "exporting doorbell.mp355.wav\n",
      "exporting doorbell.mp356.wav\n",
      "exporting doorbell.mp357.wav\n",
      "exporting doorbell.mp358.wav\n",
      "exporting doorbell.mp359.wav\n",
      "exporting doorbell.mp360.wav\n",
      "exporting alarm.mp30.wav\n",
      "exporting alarm.mp31.wav\n",
      "exporting alarm.mp32.wav\n",
      "exporting alarm.mp33.wav\n",
      "exporting alarm.mp34.wav\n",
      "exporting alarm.mp35.wav\n",
      "exporting alarm.mp36.wav\n",
      "exporting alarm.mp37.wav\n",
      "exporting alarm.mp38.wav\n",
      "exporting alarm.mp39.wav\n",
      "exporting alarm.mp310.wav\n",
      "exporting alarm.mp311.wav\n",
      "exporting alarm.mp312.wav\n",
      "exporting alarm.mp313.wav\n",
      "exporting alarm.mp314.wav\n",
      "exporting alarm.mp315.wav\n",
      "exporting alarm.mp316.wav\n",
      "exporting alarm.mp317.wav\n",
      "exporting alarm.mp318.wav\n",
      "exporting alarm.mp319.wav\n",
      "exporting alarm.mp320.wav\n",
      "exporting alarm.mp321.wav\n",
      "exporting alarm.mp322.wav\n",
      "exporting alarm.mp323.wav\n",
      "exporting alarm.mp324.wav\n",
      "exporting alarm.mp325.wav\n",
      "exporting alarm.mp326.wav\n",
      "exporting alarm.mp327.wav\n",
      "exporting alarm.mp328.wav\n",
      "exporting alarm.mp329.wav\n",
      "exporting alarm.mp330.wav\n"
     ]
    }
   ],
   "source": [
    "decompose_files('./sounds/', glob('./sounds' + '/*'))"
   ]
  },
  {
   "cell_type": "code",
   "execution_count": 104,
   "metadata": {},
   "outputs": [],
   "source": [
    "def get_features(data_dir, audio_files):\n",
    "    momentos = {'ducha': 'Ducha', 'cena': 'Cena', 'washing': 'Lavadora', 'vacuum': 'Aspiradora', 'shaver': 'Afeitadora',\n",
    "                'hairdryer': 'Secador_pelo', 'airconditioner': 'Aire_acondicionado', 'cellphone': 'Telefono', \n",
    "                'comp_type': 'Tecleo', 'silence': 'Silencio', 'dryer': 'Secadora', 'blender': 'Licuadora', \n",
    "                'doorbell': 'Timbre', 'alarm': 'Alarma', 'faucet': 'Grifo', 'microwave': 'Microondas'}\n",
    "    features = []\n",
    "    for i in range(len(audio_files)):\n",
    "        y, sr = librosa.load(audio_files[i])\n",
    "        name = os.listdir(data_dir)[i]\n",
    "        pattern = \"[.][\\w]+\"\n",
    "        name = re.sub(pattern, '', name)\n",
    "        if name in momentos.keys():\n",
    "            momento = momentos.get(name)\n",
    "        else:\n",
    "            momento = 'Otro'\n",
    "        mfcc = np.ndarray.mean(librosa.feature.mfcc(y=y, sr=sr, n_mfcc=20))\n",
    "        scem = np.ndarray.mean(librosa.feature.spectral_centroid(y=y, sr=sr))\n",
    "        scom = np.ndarray.mean(librosa.feature.spectral_contrast(S=np.abs(librosa.stft(y)), sr=sr))\n",
    "        srom = np.ndarray.mean(librosa.feature.spectral_rolloff(y=y, sr=sr))\n",
    "        sbwm = np.ndarray.mean(librosa.feature.spectral_bandwidth(y=y, sr=sr))\n",
    "        tempo = librosa.beat.tempo(onset_envelope=librosa.onset.onset_strength(y=y, sr=sr, hop_length=512), sr=sr, hop_length=512)[0]\n",
    "        rmse = np.ndarray.mean(librosa.feature.rms(y=y))\n",
    "        features.append([mfcc, scem, scom, srom, sbwm, tempo, rmse, momento])\n",
    "    return pd.DataFrame(features, columns=['mfcc', 'scem','scom', 'srom','sbwm', 'tempo', 'rmse', 'momento'])"
   ]
  },
  {
   "cell_type": "code",
   "execution_count": 105,
   "metadata": {},
   "outputs": [
    {
     "data": {
      "text/html": [
       "<div>\n",
       "<style scoped>\n",
       "    .dataframe tbody tr th:only-of-type {\n",
       "        vertical-align: middle;\n",
       "    }\n",
       "\n",
       "    .dataframe tbody tr th {\n",
       "        vertical-align: top;\n",
       "    }\n",
       "\n",
       "    .dataframe thead th {\n",
       "        text-align: right;\n",
       "    }\n",
       "</style>\n",
       "<table border=\"1\" class=\"dataframe\">\n",
       "  <thead>\n",
       "    <tr style=\"text-align: right;\">\n",
       "      <th></th>\n",
       "      <th>mfcc</th>\n",
       "      <th>scem</th>\n",
       "      <th>scom</th>\n",
       "      <th>srom</th>\n",
       "      <th>sbwm</th>\n",
       "      <th>tempo</th>\n",
       "      <th>rmse</th>\n",
       "      <th>momento</th>\n",
       "    </tr>\n",
       "  </thead>\n",
       "  <tbody>\n",
       "    <tr>\n",
       "      <th>0</th>\n",
       "      <td>-8.979329</td>\n",
       "      <td>1772.598525</td>\n",
       "      <td>24.046327</td>\n",
       "      <td>3065.983394</td>\n",
       "      <td>1969.223814</td>\n",
       "      <td>198.768029</td>\n",
       "      <td>0.052725</td>\n",
       "      <td>Timbre</td>\n",
       "    </tr>\n",
       "    <tr>\n",
       "      <th>1</th>\n",
       "      <td>-8.775426</td>\n",
       "      <td>1783.777821</td>\n",
       "      <td>24.127860</td>\n",
       "      <td>3094.760946</td>\n",
       "      <td>1968.643861</td>\n",
       "      <td>198.768029</td>\n",
       "      <td>0.053559</td>\n",
       "      <td>Timbre</td>\n",
       "    </tr>\n",
       "    <tr>\n",
       "      <th>2</th>\n",
       "      <td>-15.435374</td>\n",
       "      <td>2476.533897</td>\n",
       "      <td>25.183671</td>\n",
       "      <td>3901.306804</td>\n",
       "      <td>2040.348226</td>\n",
       "      <td>117.453835</td>\n",
       "      <td>0.068441</td>\n",
       "      <td>Alarma</td>\n",
       "    </tr>\n",
       "    <tr>\n",
       "      <th>3</th>\n",
       "      <td>-8.908068</td>\n",
       "      <td>1766.532029</td>\n",
       "      <td>24.183965</td>\n",
       "      <td>3048.497034</td>\n",
       "      <td>1960.584538</td>\n",
       "      <td>198.768029</td>\n",
       "      <td>0.053536</td>\n",
       "      <td>Timbre</td>\n",
       "    </tr>\n",
       "    <tr>\n",
       "      <th>4</th>\n",
       "      <td>-15.547997</td>\n",
       "      <td>2469.838603</td>\n",
       "      <td>25.153774</td>\n",
       "      <td>3885.494138</td>\n",
       "      <td>2035.490056</td>\n",
       "      <td>117.453835</td>\n",
       "      <td>0.069116</td>\n",
       "      <td>Alarma</td>\n",
       "    </tr>\n",
       "  </tbody>\n",
       "</table>\n",
       "</div>"
      ],
      "text/plain": [
       "        mfcc         scem       scom         srom         sbwm       tempo  \\\n",
       "0  -8.979329  1772.598525  24.046327  3065.983394  1969.223814  198.768029   \n",
       "1  -8.775426  1783.777821  24.127860  3094.760946  1968.643861  198.768029   \n",
       "2 -15.435374  2476.533897  25.183671  3901.306804  2040.348226  117.453835   \n",
       "3  -8.908068  1766.532029  24.183965  3048.497034  1960.584538  198.768029   \n",
       "4 -15.547997  2469.838603  25.153774  3885.494138  2035.490056  117.453835   \n",
       "\n",
       "       rmse momento  \n",
       "0  0.052725  Timbre  \n",
       "1  0.053559  Timbre  \n",
       "2  0.068441  Alarma  \n",
       "3  0.053536  Timbre  \n",
       "4  0.069116  Alarma  "
      ]
     },
     "execution_count": 105,
     "metadata": {},
     "output_type": "execute_result"
    }
   ],
   "source": [
    "data = get_features('./sounds2/', glob('./sounds2' + '/*.wav'))\n",
    "data.head()"
   ]
  },
  {
   "cell_type": "code",
   "execution_count": 106,
   "metadata": {},
   "outputs": [
    {
     "data": {
      "text/plain": [
       "(92, 8)"
      ]
     },
     "execution_count": 106,
     "metadata": {},
     "output_type": "execute_result"
    }
   ],
   "source": [
    "data.shape"
   ]
  },
  {
   "cell_type": "code",
   "execution_count": 107,
   "metadata": {},
   "outputs": [
    {
     "data": {
      "text/plain": [
       "mfcc       float64\n",
       "scem       float64\n",
       "scom       float64\n",
       "srom       float64\n",
       "sbwm       float64\n",
       "tempo      float64\n",
       "rmse       float64\n",
       "momento     object\n",
       "dtype: object"
      ]
     },
     "execution_count": 107,
     "metadata": {},
     "output_type": "execute_result"
    }
   ],
   "source": [
    "data.dtypes"
   ]
  },
  {
   "cell_type": "code",
   "execution_count": 108,
   "metadata": {},
   "outputs": [
    {
     "data": {
      "text/plain": [
       "Timbre    61\n",
       "Alarma    31\n",
       "Name: momento, dtype: int64"
      ]
     },
     "execution_count": 108,
     "metadata": {},
     "output_type": "execute_result"
    }
   ],
   "source": [
    "data.momento.value_counts()"
   ]
  },
  {
   "cell_type": "code",
   "execution_count": null,
   "metadata": {},
   "outputs": [],
   "source": [
    "#data.to_csv('data_momento_aux_2.csv', index=False)"
   ]
  }
 ],
 "metadata": {
  "kernelspec": {
   "display_name": "Python 3",
   "language": "python",
   "name": "python3"
  },
  "language_info": {
   "codemirror_mode": {
    "name": "ipython",
    "version": 3
   },
   "file_extension": ".py",
   "mimetype": "text/x-python",
   "name": "python",
   "nbconvert_exporter": "python",
   "pygments_lexer": "ipython3",
   "version": "3.7.2"
  }
 },
 "nbformat": 4,
 "nbformat_minor": 2
}
