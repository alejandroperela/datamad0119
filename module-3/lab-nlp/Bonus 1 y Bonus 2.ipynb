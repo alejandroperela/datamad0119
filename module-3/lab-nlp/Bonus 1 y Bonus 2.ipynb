{
 "cells": [
  {
   "cell_type": "markdown",
   "metadata": {},
   "source": [
    "# Bonus 1 y Bonus 2"
   ]
  },
  {
   "cell_type": "markdown",
   "metadata": {},
   "source": [
    "Bonus 1"
   ]
  },
  {
   "cell_type": "markdown",
   "metadata": {},
   "source": [
    "El Bonus 1 lo hago en el Bonus 2, ya que al automatizarlo me es más sencillo cambiar parámetros e ir comprobando resultados.\n",
    "\n",
    "Y más teniendo en cuenta que a la que le meta un poco de caña al ordenador me peta."
   ]
  },
  {
   "cell_type": "markdown",
   "metadata": {},
   "source": [
    "Bonus 2"
   ]
  },
  {
   "cell_type": "code",
   "execution_count": 28,
   "metadata": {},
   "outputs": [],
   "source": [
    "def Pipeline(s, n_samples, n_words):\n",
    "    import re\n",
    "    import nltk\n",
    "    from nltk import sent_tokenize, word_tokenize\n",
    "    from nltk.stem import WordNetLemmatizer\n",
    "    from nltk.stem import SnowballStemmer\n",
    "    from nltk import FreqDist\n",
    "    from nltk.tokenize import word_tokenize\n",
    "    from nltk.sentiment.vader import SentimentIntensityAnalyzer\n",
    "    from stop_words import get_stop_words\n",
    "    \n",
    "    def clean_up(s):\n",
    "        s = re.sub(r'https?://(?:[-\\w.]|(?:%[\\da-fA-F]{2}))+', '', s)\n",
    "        s = re.sub('[^a-zA-Z]+', ' ', s)\n",
    "        s = s.lower()\n",
    "        return s\n",
    "\n",
    "    def tokenize(s):\n",
    "        return word_tokenize(s)\n",
    "\n",
    "    def stem_and_lemmatize(l):\n",
    "        return [WordNetLemmatizer().lemmatize(nltk.stem.SnowballStemmer('english').stem(i)) for i in l]\n",
    "\n",
    "    def remove_stopwords(l):\n",
    "        return [word for word in l if word not in get_stop_words('en')]\n",
    "    \n",
    "    sample = tweer_data.sample(n=n_samples, random_state=1)\n",
    "             \n",
    "    sample['text_processed'] = sample['text'].apply(clean_up)\n",
    "    sample['text_processed'] = sample['text_processed'].apply(tokenize).apply(stem_and_lemmatize).apply(remove_stopwords)\n",
    "             \n",
    "    words = []\n",
    "    for x in sample.text_processed:\n",
    "        words += x\n",
    "             \n",
    "    top_words = sorted(FreqDist(words), key=FreqDist(words).get, reverse=True)[:n_words]\n",
    "             \n",
    "    def find_features(document):\n",
    "        words = set(document)\n",
    "        features = {}\n",
    "        for w in top_words:\n",
    "            features[w] = (w in words)\n",
    "        sentiment = SentimentIntensityAnalyzer().polarity_scores(\" \".join(document))\n",
    "        if sentiment[\"pos\"] > 0.3:\n",
    "            sentiment = True\n",
    "        else:\n",
    "            sentiment = False\n",
    "        return (features, sentiment)\n",
    "             \n",
    "    features_in_text = sample['text_processed'].apply(find_features)\n",
    "             \n",
    "    train_set, test_set = features_in_text[:int(n_samples*0.8)], features_in_text[int(n_samples*0.8):]\n",
    "    classifier = nltk.NaiveBayesClassifier.train(train_set)\n",
    "    \n",
    "    return \"Classifier accuracy percent:\",(nltk.classify.accuracy(classifier, test_set))*100"
   ]
  },
  {
   "cell_type": "code",
   "execution_count": 31,
   "metadata": {},
   "outputs": [
    {
     "name": "stdout",
     "output_type": "stream",
     "text": [
      "('Classifier accuracy percent:', 79.5)\n"
     ]
    }
   ],
   "source": [
    "import pandas as pd\n",
    "\n",
    "tweer_data = pd.read_csv('./Sentiment140.csv')\n",
    "\n",
    "print(Pipeline(tweer_data.text, 5000, 7000))"
   ]
  },
  {
   "cell_type": "code",
   "execution_count": null,
   "metadata": {},
   "outputs": [],
   "source": []
  }
 ],
 "metadata": {
  "kernelspec": {
   "display_name": "Python 3",
   "language": "python",
   "name": "python3"
  },
  "language_info": {
   "codemirror_mode": {
    "name": "ipython",
    "version": 3
   },
   "file_extension": ".py",
   "mimetype": "text/x-python",
   "name": "python",
   "nbconvert_exporter": "python",
   "pygments_lexer": "ipython3",
   "version": "3.7.2"
  }
 },
 "nbformat": 4,
 "nbformat_minor": 2
}
